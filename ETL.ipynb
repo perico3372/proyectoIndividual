{
 "cells": [
  {
   "cell_type": "code",
   "execution_count": 1,
   "id": "12c302e3-58d0-4efe-8aae-5dac0aa0f15c",
   "metadata": {
    "execution": {
     "iopub.execute_input": "2023-05-16T14:44:05.552723Z",
     "iopub.status.busy": "2023-05-16T14:44:05.552560Z",
     "iopub.status.idle": "2023-05-16T14:44:05.667320Z",
     "shell.execute_reply": "2023-05-16T14:44:05.666422Z",
     "shell.execute_reply.started": "2023-05-16T14:44:05.552705Z"
    },
    "tags": []
   },
   "outputs": [
    {
     "name": "stdout",
     "output_type": "stream",
     "text": [
      "/_disk_misc/api\n"
     ]
    }
   ],
   "source": [
    "!pwd"
   ]
  },
  {
   "cell_type": "markdown",
   "id": "f5b115aa-d4d9-446b-82ce-9f468bd5af31",
   "metadata": {},
   "source": [
    "Leer archivo"
   ]
  },
  {
   "cell_type": "markdown",
   "id": "e1b910b5-f97a-4fac-a331-5360d871cbd4",
   "metadata": {},
   "source": [
    "Importar modulos"
   ]
  },
  {
   "cell_type": "code",
   "execution_count": 2,
   "id": "a9862c8a-aabf-4fd2-ae42-afe631fba04c",
   "metadata": {
    "execution": {
     "iopub.execute_input": "2023-05-16T14:44:05.669759Z",
     "iopub.status.busy": "2023-05-16T14:44:05.669396Z",
     "iopub.status.idle": "2023-05-16T14:44:05.975317Z",
     "shell.execute_reply": "2023-05-16T14:44:05.974771Z",
     "shell.execute_reply.started": "2023-05-16T14:44:05.669732Z"
    },
    "tags": []
   },
   "outputs": [],
   "source": [
    "import pandas as pd\n",
    "from pyspark.sql import SparkSession\n",
    "from pyspark.sql.functions import col\n",
    "from pyspark.sql.functions import when, col\n",
    "from pyspark.sql.functions import sum\n",
    "from pyspark.sql.functions import to_date\n",
    "from pyspark.sql.functions import asc\n",
    "import os\n",
    "os.environ['PYARROW_IGNORE_TIMEZONE'] = '1'"
   ]
  },
  {
   "cell_type": "code",
   "execution_count": 3,
   "id": "ab98f27c-e7a7-40e3-ad26-34cc5cfc6954",
   "metadata": {
    "execution": {
     "iopub.execute_input": "2023-05-16T14:44:05.976110Z",
     "iopub.status.busy": "2023-05-16T14:44:05.975908Z",
     "iopub.status.idle": "2023-05-16T14:44:08.245415Z",
     "shell.execute_reply": "2023-05-16T14:44:08.244744Z",
     "shell.execute_reply.started": "2023-05-16T14:44:05.976094Z"
    },
    "tags": []
   },
   "outputs": [
    {
     "name": "stderr",
     "output_type": "stream",
     "text": [
      "Setting default log level to \"WARN\".\n",
      "To adjust logging level use sc.setLogLevel(newLevel). For SparkR, use setLogLevel(newLevel).\n",
      "23/05/16 11:44:07 WARN NativeCodeLoader: Unable to load native-hadoop library for your platform... using builtin-java classes where applicable\n"
     ]
    }
   ],
   "source": [
    "spark = SparkSession.builder.getOrCreate()"
   ]
  },
  {
   "cell_type": "code",
   "execution_count": 4,
   "id": "c7c4260b-d449-4bb1-b426-59193d58077f",
   "metadata": {
    "execution": {
     "iopub.execute_input": "2023-05-16T14:44:08.246347Z",
     "iopub.status.busy": "2023-05-16T14:44:08.246170Z",
     "iopub.status.idle": "2023-05-16T14:44:08.847143Z",
     "shell.execute_reply": "2023-05-16T14:44:08.846433Z",
     "shell.execute_reply.started": "2023-05-16T14:44:08.246330Z"
    },
    "tags": []
   },
   "outputs": [],
   "source": [
    "spark.conf.set(\"spark.sql.files.maxPartitionBytes\", \"1048576\")\n"
   ]
  },
  {
   "cell_type": "code",
   "execution_count": 5,
   "id": "2e4a1084-739c-46ec-88c7-f567a0176f53",
   "metadata": {
    "execution": {
     "iopub.execute_input": "2023-05-16T14:44:08.848429Z",
     "iopub.status.busy": "2023-05-16T14:44:08.848082Z",
     "iopub.status.idle": "2023-05-16T14:44:08.852043Z",
     "shell.execute_reply": "2023-05-16T14:44:08.851503Z",
     "shell.execute_reply.started": "2023-05-16T14:44:08.848406Z"
    },
    "tags": []
   },
   "outputs": [],
   "source": [
    "from pyspark.sql import SparkSession\n",
    "from pyspark.sql.functions import col, sum\n",
    "from pyspark.sql.functions import split, explode"
   ]
  },
  {
   "cell_type": "code",
   "execution_count": 6,
   "id": "1489f1d4-14c6-45e3-b2ca-448f073590ee",
   "metadata": {
    "execution": {
     "iopub.execute_input": "2023-05-16T14:44:08.852920Z",
     "iopub.status.busy": "2023-05-16T14:44:08.852744Z",
     "iopub.status.idle": "2023-05-16T14:44:09.479153Z",
     "shell.execute_reply": "2023-05-16T14:44:09.478596Z",
     "shell.execute_reply.started": "2023-05-16T14:44:08.852905Z"
    },
    "tags": []
   },
   "outputs": [],
   "source": [
    "data = pd.read_csv('movies_dataset.csv')"
   ]
  },
  {
   "cell_type": "markdown",
   "id": "03b202a7-93ed-43c2-b2cb-8b854d834c08",
   "metadata": {
    "execution": {
     "iopub.execute_input": "2023-05-10T22:52:26.811452Z",
     "iopub.status.busy": "2023-05-10T22:52:26.810642Z",
     "iopub.status.idle": "2023-05-10T22:52:26.817739Z",
     "shell.execute_reply": "2023-05-10T22:52:26.816945Z",
     "shell.execute_reply.started": "2023-05-10T22:52:26.811409Z"
    },
    "tags": []
   },
   "source": [
    "Crear una instancia de SparkSession"
   ]
  },
  {
   "cell_type": "markdown",
   "id": "ba3b4b08-c1a8-4fa3-9238-4b4ad92857a9",
   "metadata": {
    "execution": {
     "iopub.execute_input": "2023-05-10T22:52:26.982645Z",
     "iopub.status.busy": "2023-05-10T22:52:26.981688Z",
     "iopub.status.idle": "2023-05-10T22:52:27.250457Z",
     "shell.execute_reply": "2023-05-10T22:52:27.249935Z",
     "shell.execute_reply.started": "2023-05-10T22:52:26.982617Z"
    },
    "tags": []
   },
   "source": [
    "Crear un DataFrame de PySpark a partir de DataFrame de Pandas"
   ]
  },
  {
   "cell_type": "code",
   "execution_count": 7,
   "id": "0cf71e27-7ac1-4819-ba01-ae19df070be3",
   "metadata": {
    "execution": {
     "iopub.execute_input": "2023-05-16T14:44:09.481157Z",
     "iopub.status.busy": "2023-05-16T14:44:09.480985Z",
     "iopub.status.idle": "2023-05-16T14:44:14.990116Z",
     "shell.execute_reply": "2023-05-16T14:44:14.989589Z",
     "shell.execute_reply.started": "2023-05-16T14:44:09.481143Z"
    },
    "tags": []
   },
   "outputs": [],
   "source": [
    "movie = spark.createDataFrame(data)"
   ]
  },
  {
   "cell_type": "markdown",
   "id": "95471ba1-ac8c-4a62-9592-67a27ed7db8f",
   "metadata": {},
   "source": [
    "Listar columnas"
   ]
  },
  {
   "cell_type": "code",
   "execution_count": 8,
   "id": "8fd8acdc-5640-484a-ac8e-42d9b5ab878c",
   "metadata": {
    "execution": {
     "iopub.execute_input": "2023-05-16T14:44:14.991092Z",
     "iopub.status.busy": "2023-05-16T14:44:14.990776Z",
     "iopub.status.idle": "2023-05-16T14:44:14.994591Z",
     "shell.execute_reply": "2023-05-16T14:44:14.994016Z",
     "shell.execute_reply.started": "2023-05-16T14:44:14.991077Z"
    },
    "tags": []
   },
   "outputs": [
    {
     "name": "stdout",
     "output_type": "stream",
     "text": [
      "['adult', 'belongs_to_collection', 'budget', 'genres', 'homepage', 'id', 'imdb_id', 'original_language', 'original_title', 'overview', 'popularity', 'poster_path', 'production_companies', 'production_countries', 'release_date', 'revenue', 'runtime', 'spoken_languages', 'status', 'tagline', 'title', 'video', 'vote_average', 'vote_count', 'Unnamed: 24', 'Unnamed: 25', 'Unnamed: 26', 'Unnamed: 27']\n"
     ]
    }
   ],
   "source": [
    "print(movie.columns)"
   ]
  },
  {
   "cell_type": "markdown",
   "id": "a09ef54f-f56c-416d-a7cb-30707316cff5",
   "metadata": {},
   "source": [
    "Eliminar columnas"
   ]
  },
  {
   "cell_type": "code",
   "execution_count": 9,
   "id": "49b2151c-a44f-4e87-9aac-1d9bbd3cba96",
   "metadata": {
    "execution": {
     "iopub.execute_input": "2023-05-16T14:44:14.995564Z",
     "iopub.status.busy": "2023-05-16T14:44:14.995358Z",
     "iopub.status.idle": "2023-05-16T14:44:15.057617Z",
     "shell.execute_reply": "2023-05-16T14:44:15.057068Z",
     "shell.execute_reply.started": "2023-05-16T14:44:14.995549Z"
    },
    "tags": []
   },
   "outputs": [],
   "source": [
    "columnas_a_eliminar = [\"video\",\"imdb_id\",\"adult\",\"original_title\",\"vote_count\",\"poster_path\" , \"homepage\"]\n",
    "movie = movie.drop(*columnas_a_eliminar)\n",
    "movie = movie.drop('Unnamed: 24', 'Unnamed: 25', 'Unnamed: 26', 'Unnamed: 27')"
   ]
  },
  {
   "cell_type": "markdown",
   "id": "460d93ac-11ab-41fe-892a-1c2af47fabcd",
   "metadata": {},
   "source": [
    "Listar tipo de dato de cada columna"
   ]
  },
  {
   "cell_type": "code",
   "execution_count": 10,
   "id": "40ee382e-a71c-412b-b653-39b1d88f6fa8",
   "metadata": {
    "execution": {
     "iopub.execute_input": "2023-05-16T14:44:15.058521Z",
     "iopub.status.busy": "2023-05-16T14:44:15.058308Z",
     "iopub.status.idle": "2023-05-16T14:44:15.073842Z",
     "shell.execute_reply": "2023-05-16T14:44:15.073192Z",
     "shell.execute_reply.started": "2023-05-16T14:44:15.058505Z"
    },
    "tags": []
   },
   "outputs": [
    {
     "name": "stdout",
     "output_type": "stream",
     "text": [
      "belongs_to_collection el tipo de dato del campo es: StringType()\n",
      "budget el tipo de dato del campo es: StringType()\n",
      "genres el tipo de dato del campo es: StringType()\n",
      "id el tipo de dato del campo es: StringType()\n",
      "original_language el tipo de dato del campo es: StringType()\n",
      "overview el tipo de dato del campo es: StringType()\n",
      "popularity el tipo de dato del campo es: StringType()\n",
      "production_companies el tipo de dato del campo es: StringType()\n",
      "production_countries el tipo de dato del campo es: StringType()\n",
      "release_date el tipo de dato del campo es: StringType()\n",
      "revenue el tipo de dato del campo es: StringType()\n",
      "runtime el tipo de dato del campo es: StringType()\n",
      "spoken_languages el tipo de dato del campo es: StringType()\n",
      "status el tipo de dato del campo es: StringType()\n",
      "tagline el tipo de dato del campo es: StringType()\n",
      "title el tipo de dato del campo es: StringType()\n",
      "vote_average el tipo de dato del campo es: StringType()\n"
     ]
    }
   ],
   "source": [
    "for col in movie.columns:\n",
    "    print(col, \"el tipo de dato del campo es:\", movie.schema[col].dataType)"
   ]
  },
  {
   "cell_type": "markdown",
   "id": "84b80821-d3d6-432b-95a1-edb2dbfda1a4",
   "metadata": {
    "execution": {
     "iopub.execute_input": "2023-05-11T12:26:41.057876Z",
     "iopub.status.busy": "2023-05-11T12:26:41.056766Z",
     "iopub.status.idle": "2023-05-11T12:26:41.062553Z",
     "shell.execute_reply": "2023-05-11T12:26:41.061836Z",
     "shell.execute_reply.started": "2023-05-11T12:26:41.057766Z"
    },
    "tags": []
   },
   "source": [
    "Cambiar tipo de datos de columnas `budget`, `revenue`, `release_date`"
   ]
  },
  {
   "cell_type": "code",
   "execution_count": 11,
   "id": "63af07e0-b479-4a10-bea4-782a10cbc4f1",
   "metadata": {
    "execution": {
     "iopub.execute_input": "2023-05-16T14:44:15.074857Z",
     "iopub.status.busy": "2023-05-16T14:44:15.074563Z",
     "iopub.status.idle": "2023-05-16T14:44:15.172962Z",
     "shell.execute_reply": "2023-05-16T14:44:15.172464Z",
     "shell.execute_reply.started": "2023-05-16T14:44:15.074841Z"
    },
    "tags": []
   },
   "outputs": [],
   "source": [
    "from pyspark.sql.functions import col\n",
    "\n",
    "\n",
    "movie = movie.withColumn(\"budget\", col(\"budget\").cast(\"integer\"))\n",
    "movie = movie.withColumn(\"revenue\", col(\"revenue\").cast(\"integer\"))\n",
    "movie = movie.withColumn('release_date', to_date(movie.release_date))"
   ]
  },
  {
   "cell_type": "markdown",
   "id": "aeb0bc51-1a1b-4c67-b572-594a9c0baeea",
   "metadata": {
    "execution": {
     "iopub.execute_input": "2023-05-10T14:59:04.051715Z",
     "iopub.status.busy": "2023-05-10T14:59:04.051464Z",
     "iopub.status.idle": "2023-05-10T14:59:04.056320Z",
     "shell.execute_reply": "2023-05-10T14:59:04.055257Z",
     "shell.execute_reply.started": "2023-05-10T14:59:04.051694Z"
    },
    "tags": []
   },
   "source": [
    "Comprobar tipo de dato del campo `budget`, `revenue`, `release_date`"
   ]
  },
  {
   "cell_type": "code",
   "execution_count": 12,
   "id": "30ea2171-1697-4f52-b076-74b4e97d3480",
   "metadata": {
    "execution": {
     "iopub.execute_input": "2023-05-16T14:44:15.173993Z",
     "iopub.status.busy": "2023-05-16T14:44:15.173676Z",
     "iopub.status.idle": "2023-05-16T14:44:15.180680Z",
     "shell.execute_reply": "2023-05-16T14:44:15.180113Z",
     "shell.execute_reply.started": "2023-05-16T14:44:15.173977Z"
    },
    "tags": []
   },
   "outputs": [
    {
     "data": {
      "text/plain": [
       "IntegerType()"
      ]
     },
     "execution_count": 12,
     "metadata": {},
     "output_type": "execute_result"
    }
   ],
   "source": [
    "movie.schema[\"budget\"].dataType"
   ]
  },
  {
   "cell_type": "code",
   "execution_count": 13,
   "id": "b81aed2a-b52f-459a-99f3-d9ca958cc564",
   "metadata": {
    "execution": {
     "iopub.execute_input": "2023-05-16T14:44:15.181495Z",
     "iopub.status.busy": "2023-05-16T14:44:15.181332Z",
     "iopub.status.idle": "2023-05-16T14:44:15.184929Z",
     "shell.execute_reply": "2023-05-16T14:44:15.184420Z",
     "shell.execute_reply.started": "2023-05-16T14:44:15.181478Z"
    },
    "tags": []
   },
   "outputs": [
    {
     "data": {
      "text/plain": [
       "IntegerType()"
      ]
     },
     "execution_count": 13,
     "metadata": {},
     "output_type": "execute_result"
    }
   ],
   "source": [
    "movie.schema[\"revenue\"].dataType"
   ]
  },
  {
   "cell_type": "code",
   "execution_count": 14,
   "id": "a8f65786-233d-4965-bf4b-d477159b500c",
   "metadata": {
    "execution": {
     "iopub.execute_input": "2023-05-16T14:44:15.185715Z",
     "iopub.status.busy": "2023-05-16T14:44:15.185553Z",
     "iopub.status.idle": "2023-05-16T14:44:15.189197Z",
     "shell.execute_reply": "2023-05-16T14:44:15.188782Z",
     "shell.execute_reply.started": "2023-05-16T14:44:15.185700Z"
    },
    "tags": []
   },
   "outputs": [
    {
     "data": {
      "text/plain": [
       "DateType()"
      ]
     },
     "execution_count": 14,
     "metadata": {},
     "output_type": "execute_result"
    }
   ],
   "source": [
    "movie.schema[\"release_date\"].dataType"
   ]
  },
  {
   "cell_type": "markdown",
   "id": "c21f8659-6bd4-4cd8-a624-d734a9e9b803",
   "metadata": {},
   "source": [
    "Listar valores nulos por columna"
   ]
  },
  {
   "cell_type": "code",
   "execution_count": 15,
   "id": "ce893eec-13fe-4d65-a674-0e76459ce983",
   "metadata": {
    "execution": {
     "iopub.execute_input": "2023-05-16T14:44:15.189943Z",
     "iopub.status.busy": "2023-05-16T14:44:15.189784Z",
     "iopub.status.idle": "2023-05-16T14:44:17.815792Z",
     "shell.execute_reply": "2023-05-16T14:44:17.815154Z",
     "shell.execute_reply.started": "2023-05-16T14:44:15.189929Z"
    },
    "tags": []
   },
   "outputs": [
    {
     "name": "stderr",
     "output_type": "stream",
     "text": [
      "23/05/16 11:44:15 WARN package: Truncated the string representation of a plan since it was too large. This behavior can be adjusted by setting 'spark.sql.debug.maxToStringFields'.\n",
      "23/05/16 11:44:16 WARN TaskSetManager: Stage 0 contains a task of very large size (2218 KiB). The maximum recommended task size is 1000 KiB.\n",
      "                                                                                \r"
     ]
    },
    {
     "data": {
      "text/html": [
       "<div>\n",
       "<style scoped>\n",
       "    .dataframe tbody tr th:only-of-type {\n",
       "        vertical-align: middle;\n",
       "    }\n",
       "\n",
       "    .dataframe tbody tr th {\n",
       "        vertical-align: top;\n",
       "    }\n",
       "\n",
       "    .dataframe thead th {\n",
       "        text-align: right;\n",
       "    }\n",
       "</style>\n",
       "<table border=\"1\" class=\"dataframe\">\n",
       "  <thead>\n",
       "    <tr style=\"text-align: right;\">\n",
       "      <th></th>\n",
       "      <th>belongs_to_collection</th>\n",
       "      <th>budget</th>\n",
       "      <th>genres</th>\n",
       "      <th>id</th>\n",
       "      <th>original_language</th>\n",
       "      <th>overview</th>\n",
       "      <th>popularity</th>\n",
       "      <th>production_companies</th>\n",
       "      <th>production_countries</th>\n",
       "      <th>release_date</th>\n",
       "      <th>revenue</th>\n",
       "      <th>runtime</th>\n",
       "      <th>spoken_languages</th>\n",
       "      <th>status</th>\n",
       "      <th>tagline</th>\n",
       "      <th>title</th>\n",
       "      <th>vote_average</th>\n",
       "    </tr>\n",
       "  </thead>\n",
       "  <tbody>\n",
       "    <tr>\n",
       "      <th>0</th>\n",
       "      <td>0</td>\n",
       "      <td>3</td>\n",
       "      <td>0</td>\n",
       "      <td>0</td>\n",
       "      <td>0</td>\n",
       "      <td>0</td>\n",
       "      <td>0</td>\n",
       "      <td>0</td>\n",
       "      <td>0</td>\n",
       "      <td>210</td>\n",
       "      <td>127</td>\n",
       "      <td>0</td>\n",
       "      <td>0</td>\n",
       "      <td>0</td>\n",
       "      <td>0</td>\n",
       "      <td>0</td>\n",
       "      <td>0</td>\n",
       "    </tr>\n",
       "  </tbody>\n",
       "</table>\n",
       "</div>"
      ],
      "text/plain": [
       "   belongs_to_collection  budget  genres  id  original_language  overview  popularity  production_companies  production_countries  release_date  revenue  runtime  spoken_languages  status  tagline  title  vote_average\n",
       "0                      0       3       0   0                  0         0           0                     0                     0           210      127        0                 0       0        0      0             0"
      ]
     },
     "execution_count": 15,
     "metadata": {},
     "output_type": "execute_result"
    }
   ],
   "source": [
    "from pyspark.sql.functions import col, sum\n",
    "\n",
    "movie.select(*(sum(col(c).isNull().cast('int')).alias(c) for c in movie.columns)).pandas_api()"
   ]
  },
  {
   "cell_type": "markdown",
   "id": "96885fe1-4e7f-41a2-8248-36dfaaaef22b",
   "metadata": {},
   "source": [
    "Reemplazar los valores nulos de las columnas budget y revenue por 0(cero)."
   ]
  },
  {
   "cell_type": "code",
   "execution_count": 16,
   "id": "4500a8b1-1cda-4cde-b9f2-dfbb8df5628c",
   "metadata": {
    "execution": {
     "iopub.execute_input": "2023-05-16T14:44:17.816782Z",
     "iopub.status.busy": "2023-05-16T14:44:17.816545Z",
     "iopub.status.idle": "2023-05-16T14:44:17.848433Z",
     "shell.execute_reply": "2023-05-16T14:44:17.847816Z",
     "shell.execute_reply.started": "2023-05-16T14:44:17.816765Z"
    },
    "tags": []
   },
   "outputs": [],
   "source": [
    "movie = movie.fillna({\"budget\": 0})\n",
    "movie = movie.fillna({\"revenue\": 0})"
   ]
  },
  {
   "cell_type": "markdown",
   "id": "9a31f958-48d5-401f-a752-702787f40cb8",
   "metadata": {},
   "source": [
    "Listar valores nulos de las columnas revenue y buget"
   ]
  },
  {
   "cell_type": "code",
   "execution_count": 17,
   "id": "29609ccc-ab42-4d9f-9f11-b0373acb21a2",
   "metadata": {
    "execution": {
     "iopub.execute_input": "2023-05-16T14:44:17.849609Z",
     "iopub.status.busy": "2023-05-16T14:44:17.849210Z",
     "iopub.status.idle": "2023-05-16T14:44:17.983896Z",
     "shell.execute_reply": "2023-05-16T14:44:17.983186Z",
     "shell.execute_reply.started": "2023-05-16T14:44:17.849573Z"
    },
    "tags": []
   },
   "outputs": [
    {
     "data": {
      "text/html": [
       "<div>\n",
       "<style scoped>\n",
       "    .dataframe tbody tr th:only-of-type {\n",
       "        vertical-align: middle;\n",
       "    }\n",
       "\n",
       "    .dataframe tbody tr th {\n",
       "        vertical-align: top;\n",
       "    }\n",
       "\n",
       "    .dataframe thead th {\n",
       "        text-align: right;\n",
       "    }\n",
       "</style>\n",
       "<table border=\"1\" class=\"dataframe\">\n",
       "  <thead>\n",
       "    <tr style=\"text-align: right;\">\n",
       "      <th></th>\n",
       "      <th>revenue</th>\n",
       "      <th>budget</th>\n",
       "    </tr>\n",
       "  </thead>\n",
       "  <tbody>\n",
       "  </tbody>\n",
       "</table>\n",
       "</div>"
      ],
      "text/plain": [
       "Empty DataFrame\n",
       "Columns: [revenue, budget]\n",
       "Index: []"
      ]
     },
     "execution_count": 17,
     "metadata": {},
     "output_type": "execute_result"
    }
   ],
   "source": [
    "movie.select('revenue','budget').where(movie['budget'].isNull()).pandas_api()"
   ]
  },
  {
   "cell_type": "markdown",
   "id": "e1f91fb1-6b2b-424e-a401-9a5e0fe022a0",
   "metadata": {
    "execution": {
     "iopub.execute_input": "2023-05-10T12:38:43.541088Z",
     "iopub.status.busy": "2023-05-10T12:38:43.540666Z",
     "iopub.status.idle": "2023-05-10T12:38:43.920648Z",
     "shell.execute_reply": "2023-05-10T12:38:43.920097Z",
     "shell.execute_reply.started": "2023-05-10T12:38:43.541050Z"
    },
    "tags": []
   },
   "source": [
    "Listar valores nulos por columna"
   ]
  },
  {
   "cell_type": "code",
   "execution_count": 18,
   "id": "2c3ee67c-62ca-4d15-bbd8-25350e8dc35a",
   "metadata": {
    "execution": {
     "iopub.execute_input": "2023-05-16T14:44:17.985116Z",
     "iopub.status.busy": "2023-05-16T14:44:17.984861Z",
     "iopub.status.idle": "2023-05-16T14:44:17.989173Z",
     "shell.execute_reply": "2023-05-16T14:44:17.988550Z",
     "shell.execute_reply.started": "2023-05-16T14:44:17.985093Z"
    },
    "tags": []
   },
   "outputs": [
    {
     "name": "stdout",
     "output_type": "stream",
     "text": [
      "['belongs_to_collection', 'budget', 'genres', 'id', 'original_language', 'overview', 'popularity', 'production_companies', 'production_countries', 'release_date', 'revenue', 'runtime', 'spoken_languages', 'status', 'tagline', 'title', 'vote_average']\n"
     ]
    }
   ],
   "source": [
    "print(movie.columns)"
   ]
  },
  {
   "cell_type": "markdown",
   "id": "224224b6-7612-4601-b29a-f0e1c761ee3f",
   "metadata": {},
   "source": [
    "Extraer del columna `belongs_to_collection` el campo `name`"
   ]
  },
  {
   "cell_type": "code",
   "execution_count": 19,
   "id": "232b4920-d9aa-40a8-a4fd-5e905c2adc1f",
   "metadata": {
    "execution": {
     "iopub.execute_input": "2023-05-16T14:44:17.990260Z",
     "iopub.status.busy": "2023-05-16T14:44:17.990001Z",
     "iopub.status.idle": "2023-05-16T14:44:18.001895Z",
     "shell.execute_reply": "2023-05-16T14:44:18.001215Z",
     "shell.execute_reply.started": "2023-05-16T14:44:17.990244Z"
    },
    "tags": []
   },
   "outputs": [],
   "source": [
    "from pyspark.sql.functions import col\n",
    "collection = movie.select(col('belongs_to_collection'))"
   ]
  },
  {
   "cell_type": "code",
   "execution_count": 20,
   "id": "41e9a48e-4326-460a-b4b4-356d93ba295c",
   "metadata": {
    "execution": {
     "iopub.execute_input": "2023-05-16T14:44:18.003154Z",
     "iopub.status.busy": "2023-05-16T14:44:18.002875Z",
     "iopub.status.idle": "2023-05-16T14:44:18.061430Z",
     "shell.execute_reply": "2023-05-16T14:44:18.060749Z",
     "shell.execute_reply.started": "2023-05-16T14:44:18.003129Z"
    },
    "tags": []
   },
   "outputs": [],
   "source": [
    "from pyspark.sql.functions import from_json\n",
    "\n",
    "# Especificar el esquema para la columna \"datos\" en formato JSON\n",
    "json_schema = \"struct<id:int,name:string,poster_path:string,backdrop_path:string>\"\n",
    "# Convertir la columna \"datos\" en un Map utilizando el esquema definido\n",
    "collection = collection.withColumn(\"belongs_to_collection\", from_json(col(\"belongs_to_collection\"), json_schema))\n",
    "# Crear nuevas columnas a partir de las claves del Map\n",
    "claves = [\"name\"]\n",
    "for clave in claves:\n",
    "    collection = collection.withColumn(clave, col(\"belongs_to_collection\").getItem(clave))"
   ]
  },
  {
   "cell_type": "code",
   "execution_count": 21,
   "id": "10b89a4b-062c-4dfa-9ed5-d1c2ab8b80ef",
   "metadata": {
    "execution": {
     "iopub.execute_input": "2023-05-16T14:44:18.062542Z",
     "iopub.status.busy": "2023-05-16T14:44:18.062291Z",
     "iopub.status.idle": "2023-05-16T14:44:18.072014Z",
     "shell.execute_reply": "2023-05-16T14:44:18.071476Z",
     "shell.execute_reply.started": "2023-05-16T14:44:18.062519Z"
    },
    "tags": []
   },
   "outputs": [],
   "source": [
    "collection = collection.drop(\"belongs_to_collection\")"
   ]
  },
  {
   "cell_type": "code",
   "execution_count": 22,
   "id": "37cd18f0-c9ff-434a-a5c4-e2ef74ef00b6",
   "metadata": {
    "execution": {
     "iopub.execute_input": "2023-05-16T14:44:18.076070Z",
     "iopub.status.busy": "2023-05-16T14:44:18.075895Z",
     "iopub.status.idle": "2023-05-16T14:44:18.938495Z",
     "shell.execute_reply": "2023-05-16T14:44:18.937793Z",
     "shell.execute_reply.started": "2023-05-16T14:44:18.076053Z"
    },
    "tags": []
   },
   "outputs": [
    {
     "name": "stderr",
     "output_type": "stream",
     "text": [
      "23/05/16 11:44:18 WARN TaskSetManager: Stage 3 contains a task of very large size (2218 KiB). The maximum recommended task size is 1000 KiB.\n",
      "23/05/16 11:44:18 WARN TaskSetManager: Stage 6 contains a task of very large size (2218 KiB). The maximum recommended task size is 1000 KiB.\n"
     ]
    },
    {
     "data": {
      "text/plain": [
       "0"
      ]
     },
     "execution_count": 22,
     "metadata": {},
     "output_type": "execute_result"
    }
   ],
   "source": [
    "collection.count()- movie.count()"
   ]
  },
  {
   "cell_type": "markdown",
   "id": "ccb82805-9bcd-438f-9357-35b950192cdd",
   "metadata": {},
   "source": [
    "Cantidad de valores nulos campo `revenue`"
   ]
  },
  {
   "cell_type": "code",
   "execution_count": 23,
   "id": "6809a547-da67-4c6a-a088-b13e8df412d3",
   "metadata": {
    "execution": {
     "iopub.execute_input": "2023-05-16T14:44:18.939797Z",
     "iopub.status.busy": "2023-05-16T14:44:18.939454Z",
     "iopub.status.idle": "2023-05-16T14:44:19.398199Z",
     "shell.execute_reply": "2023-05-16T14:44:19.397491Z",
     "shell.execute_reply.started": "2023-05-16T14:44:18.939773Z"
    },
    "tags": []
   },
   "outputs": [
    {
     "name": "stderr",
     "output_type": "stream",
     "text": [
      "23/05/16 11:44:18 WARN TaskSetManager: Stage 9 contains a task of very large size (2218 KiB). The maximum recommended task size is 1000 KiB.\n"
     ]
    },
    {
     "name": "stdout",
     "output_type": "stream",
     "text": [
      "Cantidad de valores nulos en la columna 'revenue': 0\n"
     ]
    }
   ],
   "source": [
    "from pyspark.sql.functions import count, when, col\n",
    "\n",
    "# Contar cantidad de valores nulos en la columna \"my_column\"\n",
    "null_count = movie.select(count(when(col(\"revenue\").isNull(), True)).alias(\"null_count\")).collect()[0][\"null_count\"]\n",
    "\n",
    "print(\"Cantidad de valores nulos en la columna 'revenue':\", null_count)"
   ]
  },
  {
   "cell_type": "raw",
   "id": "e6ed31c1-220e-4130-baec-93765e564961",
   "metadata": {
    "execution": {
     "iopub.execute_input": "2023-05-11T13:02:25.990694Z",
     "iopub.status.busy": "2023-05-11T13:02:25.990376Z",
     "iopub.status.idle": "2023-05-11T13:02:25.995698Z",
     "shell.execute_reply": "2023-05-11T13:02:25.994797Z",
     "shell.execute_reply.started": "2023-05-11T13:02:25.990668Z"
    }
   },
   "source": [
    "# ML\n",
    "def recomendacion('titulo'):\n",
    "    '''Ingresas un nombre de pelicula y te recomienda las similares en una lista'''\n",
    "    return {'lista recomendada': respuesta}"
   ]
  },
  {
   "cell_type": "code",
   "execution_count": 24,
   "id": "011cdd63-ef74-44c1-8fc6-ea5ef0ccf1cc",
   "metadata": {
    "execution": {
     "iopub.execute_input": "2023-05-16T14:44:19.399166Z",
     "iopub.status.busy": "2023-05-16T14:44:19.398978Z",
     "iopub.status.idle": "2023-05-16T14:44:19.415361Z",
     "shell.execute_reply": "2023-05-16T14:44:19.414687Z",
     "shell.execute_reply.started": "2023-05-16T14:44:19.399143Z"
    },
    "tags": []
   },
   "outputs": [],
   "source": [
    "dataframe_api = movie.select(col(\"title\"),col(\"release_date\"),col(\"budget\"),col(\"revenue\"))"
   ]
  },
  {
   "cell_type": "code",
   "execution_count": 25,
   "id": "92282788-4542-480c-9955-7e17a4df5c05",
   "metadata": {
    "execution": {
     "iopub.execute_input": "2023-05-16T14:44:19.416517Z",
     "iopub.status.busy": "2023-05-16T14:44:19.416254Z",
     "iopub.status.idle": "2023-05-16T14:44:19.773899Z",
     "shell.execute_reply": "2023-05-16T14:44:19.773336Z",
     "shell.execute_reply.started": "2023-05-16T14:44:19.416495Z"
    },
    "tags": []
   },
   "outputs": [
    {
     "name": "stderr",
     "output_type": "stream",
     "text": [
      "23/05/16 11:44:19 WARN TaskSetManager: Stage 12 contains a task of very large size (2218 KiB). The maximum recommended task size is 1000 KiB.\n"
     ]
    },
    {
     "data": {
      "text/html": [
       "<div>\n",
       "<style scoped>\n",
       "    .dataframe tbody tr th:only-of-type {\n",
       "        vertical-align: middle;\n",
       "    }\n",
       "\n",
       "    .dataframe tbody tr th {\n",
       "        vertical-align: top;\n",
       "    }\n",
       "\n",
       "    .dataframe thead th {\n",
       "        text-align: right;\n",
       "    }\n",
       "</style>\n",
       "<table border=\"1\" class=\"dataframe\">\n",
       "  <thead>\n",
       "    <tr style=\"text-align: right;\">\n",
       "      <th></th>\n",
       "      <th>title</th>\n",
       "      <th>release_date</th>\n",
       "      <th>budget</th>\n",
       "      <th>revenue</th>\n",
       "    </tr>\n",
       "  </thead>\n",
       "  <tbody>\n",
       "    <tr>\n",
       "      <th>0</th>\n",
       "      <td>Toy Story</td>\n",
       "      <td>1995-10-30</td>\n",
       "      <td>30000000</td>\n",
       "      <td>373554033</td>\n",
       "    </tr>\n",
       "    <tr>\n",
       "      <th>1</th>\n",
       "      <td>Jumanji</td>\n",
       "      <td>1995-12-15</td>\n",
       "      <td>65000000</td>\n",
       "      <td>262797249</td>\n",
       "    </tr>\n",
       "    <tr>\n",
       "      <th>2</th>\n",
       "      <td>Grumpier Old Men</td>\n",
       "      <td>1995-12-22</td>\n",
       "      <td>0</td>\n",
       "      <td>0</td>\n",
       "    </tr>\n",
       "  </tbody>\n",
       "</table>\n",
       "</div>"
      ],
      "text/plain": [
       "              title release_date    budget    revenue\n",
       "0         Toy Story   1995-10-30  30000000  373554033\n",
       "1           Jumanji   1995-12-15  65000000  262797249\n",
       "2  Grumpier Old Men   1995-12-22         0          0"
      ]
     },
     "execution_count": 25,
     "metadata": {},
     "output_type": "execute_result"
    }
   ],
   "source": [
    "dataframe_api.limit(3).pandas_api()"
   ]
  },
  {
   "cell_type": "code",
   "execution_count": 26,
   "id": "2b8762a3-24db-4f0e-b19c-9c327670e28a",
   "metadata": {
    "execution": {
     "iopub.execute_input": "2023-05-16T14:44:19.774849Z",
     "iopub.status.busy": "2023-05-16T14:44:19.774613Z",
     "iopub.status.idle": "2023-05-16T14:44:19.787456Z",
     "shell.execute_reply": "2023-05-16T14:44:19.786861Z",
     "shell.execute_reply.started": "2023-05-16T14:44:19.774834Z"
    },
    "tags": []
   },
   "outputs": [],
   "source": [
    "from pyspark.sql.functions import col\n",
    "\n",
    "dataframe_api = dataframe_api.withColumn(\"profit\", col(\"revenue\") - col(\"budget\"))"
   ]
  },
  {
   "cell_type": "code",
   "execution_count": 27,
   "id": "f7756df3-266c-42b0-b711-458128bfe03a",
   "metadata": {
    "execution": {
     "iopub.execute_input": "2023-05-16T14:44:19.788395Z",
     "iopub.status.busy": "2023-05-16T14:44:19.788104Z",
     "iopub.status.idle": "2023-05-16T14:44:19.817640Z",
     "shell.execute_reply": "2023-05-16T14:44:19.816178Z",
     "shell.execute_reply.started": "2023-05-16T14:44:19.788372Z"
    },
    "tags": []
   },
   "outputs": [],
   "source": [
    "from pyspark.sql.functions import expr\n",
    "\n",
    "dataframe_api = dataframe_api.withColumn('return', expr('revenue / budget'))"
   ]
  },
  {
   "cell_type": "code",
   "execution_count": 28,
   "id": "fc7f130c-6e55-40af-bb16-8016813f138a",
   "metadata": {
    "execution": {
     "iopub.execute_input": "2023-05-16T14:44:19.818903Z",
     "iopub.status.busy": "2023-05-16T14:44:19.818622Z",
     "iopub.status.idle": "2023-05-16T14:44:20.256845Z",
     "shell.execute_reply": "2023-05-16T14:44:20.256160Z",
     "shell.execute_reply.started": "2023-05-16T14:44:19.818878Z"
    },
    "tags": []
   },
   "outputs": [
    {
     "name": "stderr",
     "output_type": "stream",
     "text": [
      "23/05/16 11:44:19 WARN TaskSetManager: Stage 15 contains a task of very large size (2218 KiB). The maximum recommended task size is 1000 KiB.\n"
     ]
    },
    {
     "data": {
      "text/html": [
       "<div>\n",
       "<style scoped>\n",
       "    .dataframe tbody tr th:only-of-type {\n",
       "        vertical-align: middle;\n",
       "    }\n",
       "\n",
       "    .dataframe tbody tr th {\n",
       "        vertical-align: top;\n",
       "    }\n",
       "\n",
       "    .dataframe thead th {\n",
       "        text-align: right;\n",
       "    }\n",
       "</style>\n",
       "<table border=\"1\" class=\"dataframe\">\n",
       "  <thead>\n",
       "    <tr style=\"text-align: right;\">\n",
       "      <th></th>\n",
       "      <th>title</th>\n",
       "      <th>release_date</th>\n",
       "      <th>budget</th>\n",
       "      <th>revenue</th>\n",
       "      <th>profit</th>\n",
       "      <th>return</th>\n",
       "    </tr>\n",
       "  </thead>\n",
       "  <tbody>\n",
       "    <tr>\n",
       "      <th>0</th>\n",
       "      <td>Toy Story</td>\n",
       "      <td>1995-10-30</td>\n",
       "      <td>30000000</td>\n",
       "      <td>373554033</td>\n",
       "      <td>343554033</td>\n",
       "      <td>12.451801</td>\n",
       "    </tr>\n",
       "    <tr>\n",
       "      <th>1</th>\n",
       "      <td>Jumanji</td>\n",
       "      <td>1995-12-15</td>\n",
       "      <td>65000000</td>\n",
       "      <td>262797249</td>\n",
       "      <td>197797249</td>\n",
       "      <td>4.043035</td>\n",
       "    </tr>\n",
       "    <tr>\n",
       "      <th>2</th>\n",
       "      <td>Grumpier Old Men</td>\n",
       "      <td>1995-12-22</td>\n",
       "      <td>0</td>\n",
       "      <td>0</td>\n",
       "      <td>0</td>\n",
       "      <td>NaN</td>\n",
       "    </tr>\n",
       "  </tbody>\n",
       "</table>\n",
       "</div>"
      ],
      "text/plain": [
       "              title release_date    budget    revenue     profit     return\n",
       "0         Toy Story   1995-10-30  30000000  373554033  343554033  12.451801\n",
       "1           Jumanji   1995-12-15  65000000  262797249  197797249   4.043035\n",
       "2  Grumpier Old Men   1995-12-22         0          0          0        NaN"
      ]
     },
     "execution_count": 28,
     "metadata": {},
     "output_type": "execute_result"
    }
   ],
   "source": [
    "dataframe_api.limit(3).pandas_api()"
   ]
  },
  {
   "cell_type": "code",
   "execution_count": 29,
   "id": "00277dfa-a53e-405d-943a-c33d3f9f988c",
   "metadata": {
    "execution": {
     "iopub.execute_input": "2023-05-16T14:44:20.257971Z",
     "iopub.status.busy": "2023-05-16T14:44:20.257703Z",
     "iopub.status.idle": "2023-05-16T14:44:20.261538Z",
     "shell.execute_reply": "2023-05-16T14:44:20.260888Z",
     "shell.execute_reply.started": "2023-05-16T14:44:20.257949Z"
    },
    "tags": []
   },
   "outputs": [],
   "source": [
    "from pyspark.sql.functions import to_date, date_format\n",
    "import pyspark.sql.functions as F\n",
    "\n",
    "#df = df.withColumn('dia_semana', F.date_format(df.fecha, 'EEEE', 'es_ES'))"
   ]
  },
  {
   "cell_type": "markdown",
   "id": "67452fd1-6231-4a05-a361-2b46d523e682",
   "metadata": {},
   "source": [
    "Formatear `release_date` en campos `year` `month` y `day_week`"
   ]
  },
  {
   "cell_type": "code",
   "execution_count": 30,
   "id": "9463af1e-66d7-4b90-a768-062720eb10ce",
   "metadata": {
    "execution": {
     "iopub.execute_input": "2023-05-16T14:44:20.262601Z",
     "iopub.status.busy": "2023-05-16T14:44:20.262355Z",
     "iopub.status.idle": "2023-05-16T14:44:20.311247Z",
     "shell.execute_reply": "2023-05-16T14:44:20.310655Z",
     "shell.execute_reply.started": "2023-05-16T14:44:20.262578Z"
    },
    "tags": []
   },
   "outputs": [],
   "source": [
    "dataframe_api = dataframe_api.withColumn('year', date_format(dataframe_api.release_date, 'yyyy')) \\\n",
    "       .withColumn('month', date_format(dataframe_api.release_date, 'MMMM')) \\\n",
    "       .withColumn('day', date_format(dataframe_api.release_date, 'dd')) \\\n",
    "       .withColumn('day_week', F.date_format(dataframe_api.release_date, 'EEEE'))"
   ]
  },
  {
   "cell_type": "markdown",
   "id": "0f36cf75-24d3-44a1-9d83-834cd9f29ac4",
   "metadata": {},
   "source": [
    "Eliminar campo `release_date`"
   ]
  },
  {
   "cell_type": "code",
   "execution_count": 31,
   "id": "3fc34859-6552-455f-9e31-9dcdea0c700e",
   "metadata": {
    "execution": {
     "iopub.execute_input": "2023-05-16T14:44:20.312083Z",
     "iopub.status.busy": "2023-05-16T14:44:20.311898Z",
     "iopub.status.idle": "2023-05-16T14:44:20.320640Z",
     "shell.execute_reply": "2023-05-16T14:44:20.319935Z",
     "shell.execute_reply.started": "2023-05-16T14:44:20.312068Z"
    },
    "tags": []
   },
   "outputs": [],
   "source": [
    "dataframe_api = dataframe_api.drop(\"release_date\")"
   ]
  },
  {
   "cell_type": "code",
   "execution_count": 32,
   "id": "5abe91ba-9c7a-4333-9cbb-ca9c5f9c8085",
   "metadata": {
    "execution": {
     "iopub.execute_input": "2023-05-16T14:44:20.322079Z",
     "iopub.status.busy": "2023-05-16T14:44:20.321562Z",
     "iopub.status.idle": "2023-05-16T14:44:20.751246Z",
     "shell.execute_reply": "2023-05-16T14:44:20.750556Z",
     "shell.execute_reply.started": "2023-05-16T14:44:20.322055Z"
    },
    "tags": []
   },
   "outputs": [
    {
     "name": "stderr",
     "output_type": "stream",
     "text": [
      "23/05/16 11:44:20 WARN TaskSetManager: Stage 18 contains a task of very large size (2218 KiB). The maximum recommended task size is 1000 KiB.\n"
     ]
    },
    {
     "data": {
      "text/html": [
       "<div>\n",
       "<style scoped>\n",
       "    .dataframe tbody tr th:only-of-type {\n",
       "        vertical-align: middle;\n",
       "    }\n",
       "\n",
       "    .dataframe tbody tr th {\n",
       "        vertical-align: top;\n",
       "    }\n",
       "\n",
       "    .dataframe thead th {\n",
       "        text-align: right;\n",
       "    }\n",
       "</style>\n",
       "<table border=\"1\" class=\"dataframe\">\n",
       "  <thead>\n",
       "    <tr style=\"text-align: right;\">\n",
       "      <th></th>\n",
       "      <th>title</th>\n",
       "      <th>budget</th>\n",
       "      <th>revenue</th>\n",
       "      <th>profit</th>\n",
       "      <th>return</th>\n",
       "      <th>year</th>\n",
       "      <th>month</th>\n",
       "      <th>day</th>\n",
       "      <th>day_week</th>\n",
       "    </tr>\n",
       "  </thead>\n",
       "  <tbody>\n",
       "    <tr>\n",
       "      <th>0</th>\n",
       "      <td>Toy Story</td>\n",
       "      <td>30000000</td>\n",
       "      <td>373554033</td>\n",
       "      <td>343554033</td>\n",
       "      <td>12.451801</td>\n",
       "      <td>1995</td>\n",
       "      <td>October</td>\n",
       "      <td>30</td>\n",
       "      <td>Monday</td>\n",
       "    </tr>\n",
       "    <tr>\n",
       "      <th>1</th>\n",
       "      <td>Jumanji</td>\n",
       "      <td>65000000</td>\n",
       "      <td>262797249</td>\n",
       "      <td>197797249</td>\n",
       "      <td>4.043035</td>\n",
       "      <td>1995</td>\n",
       "      <td>December</td>\n",
       "      <td>15</td>\n",
       "      <td>Friday</td>\n",
       "    </tr>\n",
       "    <tr>\n",
       "      <th>2</th>\n",
       "      <td>Grumpier Old Men</td>\n",
       "      <td>0</td>\n",
       "      <td>0</td>\n",
       "      <td>0</td>\n",
       "      <td>NaN</td>\n",
       "      <td>1995</td>\n",
       "      <td>December</td>\n",
       "      <td>22</td>\n",
       "      <td>Friday</td>\n",
       "    </tr>\n",
       "  </tbody>\n",
       "</table>\n",
       "</div>"
      ],
      "text/plain": [
       "              title    budget    revenue     profit     return  year     month day day_week\n",
       "0         Toy Story  30000000  373554033  343554033  12.451801  1995   October  30   Monday\n",
       "1           Jumanji  65000000  262797249  197797249   4.043035  1995  December  15   Friday\n",
       "2  Grumpier Old Men         0          0          0        NaN  1995  December  22   Friday"
      ]
     },
     "execution_count": 32,
     "metadata": {},
     "output_type": "execute_result"
    }
   ],
   "source": [
    "dataframe_api.limit(3).pandas_api()"
   ]
  },
  {
   "cell_type": "markdown",
   "id": "f78a500b-ed7d-45a8-9669-138dc44411e9",
   "metadata": {},
   "source": [
    "Reemplazar days de la semana y meses del año en ingles por catellano"
   ]
  },
  {
   "cell_type": "code",
   "execution_count": 33,
   "id": "3d535e2e-c55a-4f4b-861d-9c75b49e3da1",
   "metadata": {
    "execution": {
     "iopub.execute_input": "2023-05-16T14:44:20.752400Z",
     "iopub.status.busy": "2023-05-16T14:44:20.752117Z",
     "iopub.status.idle": "2023-05-16T14:44:20.906559Z",
     "shell.execute_reply": "2023-05-16T14:44:20.905924Z",
     "shell.execute_reply.started": "2023-05-16T14:44:20.752378Z"
    },
    "tags": []
   },
   "outputs": [],
   "source": [
    "#dia de la semana\n",
    "dataframe_api = dataframe_api.withColumn('day_week', when(col('day_week') == \"Monday\", \"Lunes\").otherwise(col('day_week')))\n",
    "dataframe_api = dataframe_api.withColumn('day_week', when(col('day_week') == \"Tuesday\", \"Martes\").otherwise(col('day_week')))\n",
    "dataframe_api = dataframe_api.withColumn('day_week', when(col('day_week') == \"Wednesday\", \"Miercoles\").otherwise(col('day_week')))\n",
    "dataframe_api = dataframe_api.withColumn('day_week', when(col('day_week') == \"Thursday\", \"Jueves\").otherwise(col('day_week')))\n",
    "dataframe_api = dataframe_api.withColumn('day_week', when(col('day_week') == \"Friday\", \"Viernes\").otherwise(col('day_week')))\n",
    "dataframe_api = dataframe_api.withColumn('day_week', when(col('day_week') == \"Saturday\", \"Sabado\").otherwise(col('day_week')))\n",
    "dataframe_api = dataframe_api.withColumn('day_week', when(col('day_week') == \"Sunday\", \"Domingo\").otherwise(col('day_week')))\n",
    "#mes del año\n",
    "dataframe_api = dataframe_api.withColumn('month', when(col('month') == \"January\", \"Enero\").otherwise(col('month')))\n",
    "dataframe_api = dataframe_api.withColumn('month', when(col('month') == \"February\", \"Febrero\").otherwise(col('month')))\n",
    "dataframe_api = dataframe_api.withColumn('month', when(col('month') == \"March\", \"Marzo\").otherwise(col('month')))\n",
    "dataframe_api = dataframe_api.withColumn('month', when(col('month') == \"April\", \"Abril\").otherwise(col('month')))\n",
    "dataframe_api = dataframe_api.withColumn('month', when(col('month') == \"May\", \"Mayo\").otherwise(col('month')))\n",
    "dataframe_api = dataframe_api.withColumn('month', when(col('month') == \"June\", \"Junio\").otherwise(col('month')))\n",
    "dataframe_api = dataframe_api.withColumn('month', when(col('month') == \"July\", \"Julio\").otherwise(col('month')))\n",
    "dataframe_api = dataframe_api.withColumn('month', when(col('month') == \"August\", \"Agosto\").otherwise(col('month')))\n",
    "dataframe_api = dataframe_api.withColumn('month', when(col('month') == \"September\", \"Septiembre\").otherwise(col('month')))\n",
    "dataframe_api = dataframe_api.withColumn('month', when(col('month') == \"October\", \"Octubre\").otherwise(col('month')))\n",
    "dataframe_api = dataframe_api.withColumn('month', when(col('month') == \"November\", \"Noviembre\").otherwise(col('month')))\n",
    "dataframe_api = dataframe_api.withColumn('month', when(col('month') == \"December\", \"Diciembre\").otherwise(col('month')))"
   ]
  },
  {
   "cell_type": "code",
   "execution_count": 34,
   "id": "765f583c-201b-4c16-b077-62350520a7d7",
   "metadata": {
    "execution": {
     "iopub.execute_input": "2023-05-16T14:44:20.907586Z",
     "iopub.status.busy": "2023-05-16T14:44:20.907332Z",
     "iopub.status.idle": "2023-05-16T14:44:21.416561Z",
     "shell.execute_reply": "2023-05-16T14:44:21.416023Z",
     "shell.execute_reply.started": "2023-05-16T14:44:20.907560Z"
    },
    "tags": []
   },
   "outputs": [
    {
     "name": "stderr",
     "output_type": "stream",
     "text": [
      "23/05/16 11:44:21 WARN TaskSetManager: Stage 21 contains a task of very large size (2218 KiB). The maximum recommended task size is 1000 KiB.\n"
     ]
    },
    {
     "data": {
      "text/html": [
       "<div>\n",
       "<style scoped>\n",
       "    .dataframe tbody tr th:only-of-type {\n",
       "        vertical-align: middle;\n",
       "    }\n",
       "\n",
       "    .dataframe tbody tr th {\n",
       "        vertical-align: top;\n",
       "    }\n",
       "\n",
       "    .dataframe thead th {\n",
       "        text-align: right;\n",
       "    }\n",
       "</style>\n",
       "<table border=\"1\" class=\"dataframe\">\n",
       "  <thead>\n",
       "    <tr style=\"text-align: right;\">\n",
       "      <th></th>\n",
       "      <th>title</th>\n",
       "      <th>budget</th>\n",
       "      <th>revenue</th>\n",
       "      <th>profit</th>\n",
       "      <th>return</th>\n",
       "      <th>year</th>\n",
       "      <th>month</th>\n",
       "      <th>day</th>\n",
       "      <th>day_week</th>\n",
       "    </tr>\n",
       "  </thead>\n",
       "  <tbody>\n",
       "    <tr>\n",
       "      <th>0</th>\n",
       "      <td>Toy Story</td>\n",
       "      <td>30000000</td>\n",
       "      <td>373554033</td>\n",
       "      <td>343554033</td>\n",
       "      <td>12.451801</td>\n",
       "      <td>1995</td>\n",
       "      <td>Octubre</td>\n",
       "      <td>30</td>\n",
       "      <td>Lunes</td>\n",
       "    </tr>\n",
       "    <tr>\n",
       "      <th>1</th>\n",
       "      <td>Jumanji</td>\n",
       "      <td>65000000</td>\n",
       "      <td>262797249</td>\n",
       "      <td>197797249</td>\n",
       "      <td>4.043035</td>\n",
       "      <td>1995</td>\n",
       "      <td>Diciembre</td>\n",
       "      <td>15</td>\n",
       "      <td>Viernes</td>\n",
       "    </tr>\n",
       "    <tr>\n",
       "      <th>2</th>\n",
       "      <td>Grumpier Old Men</td>\n",
       "      <td>0</td>\n",
       "      <td>0</td>\n",
       "      <td>0</td>\n",
       "      <td>NaN</td>\n",
       "      <td>1995</td>\n",
       "      <td>Diciembre</td>\n",
       "      <td>22</td>\n",
       "      <td>Viernes</td>\n",
       "    </tr>\n",
       "  </tbody>\n",
       "</table>\n",
       "</div>"
      ],
      "text/plain": [
       "              title    budget    revenue     profit     return  year      month day day_week\n",
       "0         Toy Story  30000000  373554033  343554033  12.451801  1995    Octubre  30    Lunes\n",
       "1           Jumanji  65000000  262797249  197797249   4.043035  1995  Diciembre  15  Viernes\n",
       "2  Grumpier Old Men         0          0          0        NaN  1995  Diciembre  22  Viernes"
      ]
     },
     "execution_count": 34,
     "metadata": {},
     "output_type": "execute_result"
    }
   ],
   "source": [
    "dataframe_api.limit(3).pandas_api()"
   ]
  },
  {
   "cell_type": "code",
   "execution_count": 35,
   "id": "8baa38c3-f535-4630-b2e8-c7b21202d86d",
   "metadata": {
    "execution": {
     "iopub.execute_input": "2023-05-16T14:44:21.417377Z",
     "iopub.status.busy": "2023-05-16T14:44:21.417213Z",
     "iopub.status.idle": "2023-05-16T14:44:21.422192Z",
     "shell.execute_reply": "2023-05-16T14:44:21.421715Z",
     "shell.execute_reply.started": "2023-05-16T14:44:21.417362Z"
    },
    "tags": []
   },
   "outputs": [
    {
     "data": {
      "text/plain": [
       "DataFrame[title: string, budget: int, revenue: int, profit: int, return: double, year: string, month: string, day: string, day_week: string]"
      ]
     },
     "execution_count": 35,
     "metadata": {},
     "output_type": "execute_result"
    }
   ],
   "source": [
    "dataframe_api"
   ]
  },
  {
   "cell_type": "code",
   "execution_count": 36,
   "id": "0bc77d99-8ad8-4c93-9cdf-d57cfacf2d16",
   "metadata": {
    "execution": {
     "iopub.execute_input": "2023-05-16T14:44:21.423199Z",
     "iopub.status.busy": "2023-05-16T14:44:21.422978Z",
     "iopub.status.idle": "2023-05-16T14:44:21.425928Z",
     "shell.execute_reply": "2023-05-16T14:44:21.425509Z",
     "shell.execute_reply.started": "2023-05-16T14:44:21.423179Z"
    },
    "tags": []
   },
   "outputs": [],
   "source": [
    "from pyspark.sql.functions import monotonically_increasing_id"
   ]
  },
  {
   "cell_type": "markdown",
   "id": "3ac91530-8e17-4bea-98c7-24dc8505b779",
   "metadata": {
    "execution": {
     "iopub.execute_input": "2023-05-11T09:04:09.070180Z",
     "iopub.status.busy": "2023-05-11T09:04:09.069560Z",
     "iopub.status.idle": "2023-05-11T09:04:09.078227Z",
     "shell.execute_reply": "2023-05-11T09:04:09.077703Z",
     "shell.execute_reply.started": "2023-05-11T09:04:09.070146Z"
    },
    "tags": []
   },
   "source": [
    "Crear una columna `key` autoincremetal en Dataframe `dataframe_api`"
   ]
  },
  {
   "cell_type": "code",
   "execution_count": 37,
   "id": "a6298947-06d0-450e-bc04-9ae48e45d1b6",
   "metadata": {
    "execution": {
     "iopub.execute_input": "2023-05-16T14:44:21.426853Z",
     "iopub.status.busy": "2023-05-16T14:44:21.426632Z",
     "iopub.status.idle": "2023-05-16T14:44:21.435163Z",
     "shell.execute_reply": "2023-05-16T14:44:21.434384Z",
     "shell.execute_reply.started": "2023-05-16T14:44:21.426838Z"
    },
    "tags": []
   },
   "outputs": [],
   "source": [
    "dataframe_api = dataframe_api.withColumn('key', monotonically_increasing_id())"
   ]
  },
  {
   "cell_type": "code",
   "execution_count": 38,
   "id": "2d48b620-2b93-4bfe-b0c3-ade9e13f6123",
   "metadata": {
    "execution": {
     "iopub.execute_input": "2023-05-16T14:44:21.436458Z",
     "iopub.status.busy": "2023-05-16T14:44:21.436203Z",
     "iopub.status.idle": "2023-05-16T14:44:21.959876Z",
     "shell.execute_reply": "2023-05-16T14:44:21.959265Z",
     "shell.execute_reply.started": "2023-05-16T14:44:21.436433Z"
    },
    "tags": []
   },
   "outputs": [
    {
     "name": "stderr",
     "output_type": "stream",
     "text": [
      "23/05/16 11:44:21 WARN TaskSetManager: Stage 24 contains a task of very large size (2218 KiB). The maximum recommended task size is 1000 KiB.\n"
     ]
    },
    {
     "data": {
      "text/html": [
       "<div>\n",
       "<style scoped>\n",
       "    .dataframe tbody tr th:only-of-type {\n",
       "        vertical-align: middle;\n",
       "    }\n",
       "\n",
       "    .dataframe tbody tr th {\n",
       "        vertical-align: top;\n",
       "    }\n",
       "\n",
       "    .dataframe thead th {\n",
       "        text-align: right;\n",
       "    }\n",
       "</style>\n",
       "<table border=\"1\" class=\"dataframe\">\n",
       "  <thead>\n",
       "    <tr style=\"text-align: right;\">\n",
       "      <th></th>\n",
       "      <th>title</th>\n",
       "      <th>budget</th>\n",
       "      <th>revenue</th>\n",
       "      <th>profit</th>\n",
       "      <th>return</th>\n",
       "      <th>year</th>\n",
       "      <th>month</th>\n",
       "      <th>day</th>\n",
       "      <th>day_week</th>\n",
       "      <th>key</th>\n",
       "    </tr>\n",
       "  </thead>\n",
       "  <tbody>\n",
       "    <tr>\n",
       "      <th>0</th>\n",
       "      <td>Toy Story</td>\n",
       "      <td>30000000</td>\n",
       "      <td>373554033</td>\n",
       "      <td>343554033</td>\n",
       "      <td>12.451801</td>\n",
       "      <td>1995</td>\n",
       "      <td>Octubre</td>\n",
       "      <td>30</td>\n",
       "      <td>Lunes</td>\n",
       "      <td>0</td>\n",
       "    </tr>\n",
       "    <tr>\n",
       "      <th>1</th>\n",
       "      <td>Jumanji</td>\n",
       "      <td>65000000</td>\n",
       "      <td>262797249</td>\n",
       "      <td>197797249</td>\n",
       "      <td>4.043035</td>\n",
       "      <td>1995</td>\n",
       "      <td>Diciembre</td>\n",
       "      <td>15</td>\n",
       "      <td>Viernes</td>\n",
       "      <td>1</td>\n",
       "    </tr>\n",
       "    <tr>\n",
       "      <th>2</th>\n",
       "      <td>Grumpier Old Men</td>\n",
       "      <td>0</td>\n",
       "      <td>0</td>\n",
       "      <td>0</td>\n",
       "      <td>NaN</td>\n",
       "      <td>1995</td>\n",
       "      <td>Diciembre</td>\n",
       "      <td>22</td>\n",
       "      <td>Viernes</td>\n",
       "      <td>2</td>\n",
       "    </tr>\n",
       "  </tbody>\n",
       "</table>\n",
       "</div>"
      ],
      "text/plain": [
       "              title    budget    revenue     profit     return  year      month day day_week  key\n",
       "0         Toy Story  30000000  373554033  343554033  12.451801  1995    Octubre  30    Lunes    0\n",
       "1           Jumanji  65000000  262797249  197797249   4.043035  1995  Diciembre  15  Viernes    1\n",
       "2  Grumpier Old Men         0          0          0        NaN  1995  Diciembre  22  Viernes    2"
      ]
     },
     "execution_count": 38,
     "metadata": {},
     "output_type": "execute_result"
    }
   ],
   "source": [
    "dataframe_api.limit(3).pandas_api()"
   ]
  },
  {
   "cell_type": "markdown",
   "id": "043b2061-8331-4147-b5ad-cf2ec561d3e4",
   "metadata": {
    "execution": {
     "iopub.execute_input": "2023-05-11T09:04:09.070180Z",
     "iopub.status.busy": "2023-05-11T09:04:09.069560Z",
     "iopub.status.idle": "2023-05-11T09:04:09.078227Z",
     "shell.execute_reply": "2023-05-11T09:04:09.077703Z",
     "shell.execute_reply.started": "2023-05-11T09:04:09.070146Z"
    },
    "tags": []
   },
   "source": [
    "Crear una columna `key` autoincremetal en Dataframe `collection`"
   ]
  },
  {
   "cell_type": "code",
   "execution_count": 39,
   "id": "8333abe5-dddc-400f-badd-0ba9feabdac5",
   "metadata": {
    "execution": {
     "iopub.execute_input": "2023-05-16T14:44:21.961085Z",
     "iopub.status.busy": "2023-05-16T14:44:21.960841Z",
     "iopub.status.idle": "2023-05-16T14:44:22.421913Z",
     "shell.execute_reply": "2023-05-16T14:44:22.421331Z",
     "shell.execute_reply.started": "2023-05-16T14:44:21.961063Z"
    },
    "tags": []
   },
   "outputs": [
    {
     "name": "stderr",
     "output_type": "stream",
     "text": [
      "23/05/16 11:44:22 WARN TaskSetManager: Stage 27 contains a task of very large size (2218 KiB). The maximum recommended task size is 1000 KiB.\n"
     ]
    },
    {
     "data": {
      "text/html": [
       "<div>\n",
       "<style scoped>\n",
       "    .dataframe tbody tr th:only-of-type {\n",
       "        vertical-align: middle;\n",
       "    }\n",
       "\n",
       "    .dataframe tbody tr th {\n",
       "        vertical-align: top;\n",
       "    }\n",
       "\n",
       "    .dataframe thead th {\n",
       "        text-align: right;\n",
       "    }\n",
       "</style>\n",
       "<table border=\"1\" class=\"dataframe\">\n",
       "  <thead>\n",
       "    <tr style=\"text-align: right;\">\n",
       "      <th></th>\n",
       "      <th>name</th>\n",
       "      <th>key</th>\n",
       "    </tr>\n",
       "  </thead>\n",
       "  <tbody>\n",
       "    <tr>\n",
       "      <th>0</th>\n",
       "      <td>Toy Story Collection</td>\n",
       "      <td>0</td>\n",
       "    </tr>\n",
       "    <tr>\n",
       "      <th>1</th>\n",
       "      <td>None</td>\n",
       "      <td>1</td>\n",
       "    </tr>\n",
       "    <tr>\n",
       "      <th>2</th>\n",
       "      <td>Grumpy Old Men Collection</td>\n",
       "      <td>2</td>\n",
       "    </tr>\n",
       "  </tbody>\n",
       "</table>\n",
       "</div>"
      ],
      "text/plain": [
       "                        name  key\n",
       "0       Toy Story Collection    0\n",
       "1                       None    1\n",
       "2  Grumpy Old Men Collection    2"
      ]
     },
     "execution_count": 39,
     "metadata": {},
     "output_type": "execute_result"
    }
   ],
   "source": [
    "\n",
    "collection = collection.withColumn('key', monotonically_increasing_id())\n",
    "collection.limit(3).pandas_api()"
   ]
  },
  {
   "cell_type": "markdown",
   "id": "6df291de-e3af-4654-8fb4-ed3a11b83232",
   "metadata": {
    "execution": {
     "iopub.status.busy": "2023-05-11T09:03:22.704118Z",
     "iopub.status.idle": "2023-05-11T09:03:22.704599Z",
     "shell.execute_reply": "2023-05-11T09:03:22.704444Z",
     "shell.execute_reply.started": "2023-05-11T09:03:22.704427Z"
    },
    "tags": []
   },
   "source": [
    "Unir los dataframonth `dataframe_api` y `collection`utilizando la clave `key`"
   ]
  },
  {
   "cell_type": "code",
   "execution_count": 40,
   "id": "4bcc16bb-f133-4b72-96bd-1312012a376b",
   "metadata": {
    "execution": {
     "iopub.execute_input": "2023-05-16T14:44:22.423053Z",
     "iopub.status.busy": "2023-05-16T14:44:22.422787Z",
     "iopub.status.idle": "2023-05-16T14:44:22.458833Z",
     "shell.execute_reply": "2023-05-16T14:44:22.458184Z",
     "shell.execute_reply.started": "2023-05-16T14:44:22.423029Z"
    },
    "tags": []
   },
   "outputs": [],
   "source": [
    "dataframe_api = dataframe_api.join(collection, 'key')"
   ]
  },
  {
   "cell_type": "code",
   "execution_count": 41,
   "id": "527ffd2e-4f9f-4978-9060-c9636fadf7f5",
   "metadata": {
    "execution": {
     "iopub.execute_input": "2023-05-16T14:44:22.459831Z",
     "iopub.status.busy": "2023-05-16T14:44:22.459535Z",
     "iopub.status.idle": "2023-05-16T14:44:24.396254Z",
     "shell.execute_reply": "2023-05-16T14:44:24.395503Z",
     "shell.execute_reply.started": "2023-05-16T14:44:22.459809Z"
    },
    "tags": []
   },
   "outputs": [
    {
     "name": "stderr",
     "output_type": "stream",
     "text": [
      "23/05/16 11:44:22 WARN TaskSetManager: Stage 30 contains a task of very large size (2218 KiB). The maximum recommended task size is 1000 KiB.\n",
      "23/05/16 11:44:23 WARN GarbageCollectionMetrics: To enable non-built-in garbage collector(s) List(G1 Concurrent GC), users should configure it(them) to spark.eventLog.gcMetrics.youngGenerationGarbageCollectors or spark.eventLog.gcMetrics.oldGenerationGarbageCollectors\n",
      "23/05/16 11:44:23 WARN TaskSetManager: Stage 31 contains a task of very large size (2218 KiB). The maximum recommended task size is 1000 KiB.\n",
      "                                                                                \r"
     ]
    },
    {
     "data": {
      "text/html": [
       "<div>\n",
       "<style scoped>\n",
       "    .dataframe tbody tr th:only-of-type {\n",
       "        vertical-align: middle;\n",
       "    }\n",
       "\n",
       "    .dataframe tbody tr th {\n",
       "        vertical-align: top;\n",
       "    }\n",
       "\n",
       "    .dataframe thead th {\n",
       "        text-align: right;\n",
       "    }\n",
       "</style>\n",
       "<table border=\"1\" class=\"dataframe\">\n",
       "  <thead>\n",
       "    <tr style=\"text-align: right;\">\n",
       "      <th></th>\n",
       "      <th>key</th>\n",
       "      <th>title</th>\n",
       "      <th>budget</th>\n",
       "      <th>revenue</th>\n",
       "      <th>profit</th>\n",
       "      <th>return</th>\n",
       "      <th>year</th>\n",
       "      <th>month</th>\n",
       "      <th>day</th>\n",
       "      <th>day_week</th>\n",
       "      <th>name</th>\n",
       "    </tr>\n",
       "  </thead>\n",
       "  <tbody>\n",
       "    <tr>\n",
       "      <th>0</th>\n",
       "      <td>26</td>\n",
       "      <td>Now and Then</td>\n",
       "      <td>12000000</td>\n",
       "      <td>27400000</td>\n",
       "      <td>15400000</td>\n",
       "      <td>2.283333</td>\n",
       "      <td>1995</td>\n",
       "      <td>Octubre</td>\n",
       "      <td>20</td>\n",
       "      <td>Viernes</td>\n",
       "      <td>None</td>\n",
       "    </tr>\n",
       "    <tr>\n",
       "      <th>1</th>\n",
       "      <td>29</td>\n",
       "      <td>Shanghai Triad</td>\n",
       "      <td>0</td>\n",
       "      <td>0</td>\n",
       "      <td>0</td>\n",
       "      <td>NaN</td>\n",
       "      <td>1995</td>\n",
       "      <td>Abril</td>\n",
       "      <td>30</td>\n",
       "      <td>Domingo</td>\n",
       "      <td>None</td>\n",
       "    </tr>\n",
       "    <tr>\n",
       "      <th>2</th>\n",
       "      <td>474</td>\n",
       "      <td>Judgment Night</td>\n",
       "      <td>0</td>\n",
       "      <td>12136938</td>\n",
       "      <td>12136938</td>\n",
       "      <td>NaN</td>\n",
       "      <td>1993</td>\n",
       "      <td>Octubre</td>\n",
       "      <td>15</td>\n",
       "      <td>Viernes</td>\n",
       "      <td>None</td>\n",
       "    </tr>\n",
       "  </tbody>\n",
       "</table>\n",
       "</div>"
      ],
      "text/plain": [
       "   key           title    budget   revenue    profit    return  year    month day day_week  name\n",
       "0   26    Now and Then  12000000  27400000  15400000  2.283333  1995  Octubre  20  Viernes  None\n",
       "1   29  Shanghai Triad         0         0         0       NaN  1995    Abril  30  Domingo  None\n",
       "2  474  Judgment Night         0  12136938  12136938       NaN  1993  Octubre  15  Viernes  None"
      ]
     },
     "execution_count": 41,
     "metadata": {},
     "output_type": "execute_result"
    }
   ],
   "source": [
    "dataframe_api.limit(3).pandas_api()"
   ]
  },
  {
   "cell_type": "markdown",
   "id": "24a28ab7-3540-46d5-94a6-bb1a1f1fd362",
   "metadata": {},
   "source": [
    "Cambiar nombre campo `name` por `collection`"
   ]
  },
  {
   "cell_type": "code",
   "execution_count": 42,
   "id": "bcf5eca7-9289-440b-b711-160b8d97e170",
   "metadata": {
    "execution": {
     "iopub.execute_input": "2023-05-16T14:44:24.397714Z",
     "iopub.status.busy": "2023-05-16T14:44:24.397346Z",
     "iopub.status.idle": "2023-05-16T14:44:24.409661Z",
     "shell.execute_reply": "2023-05-16T14:44:24.409001Z",
     "shell.execute_reply.started": "2023-05-16T14:44:24.397686Z"
    },
    "tags": []
   },
   "outputs": [],
   "source": [
    "dataframe_api = dataframe_api.withColumnRenamed(\"name\", \"collection\")"
   ]
  },
  {
   "cell_type": "code",
   "execution_count": 43,
   "id": "91d47b9a-ca67-4d98-aa88-0673d7444789",
   "metadata": {
    "execution": {
     "iopub.execute_input": "2023-05-16T14:44:24.410942Z",
     "iopub.status.busy": "2023-05-16T14:44:24.410529Z",
     "iopub.status.idle": "2023-05-16T14:44:25.769804Z",
     "shell.execute_reply": "2023-05-16T14:44:25.769227Z",
     "shell.execute_reply.started": "2023-05-16T14:44:24.410915Z"
    },
    "tags": []
   },
   "outputs": [
    {
     "name": "stderr",
     "output_type": "stream",
     "text": [
      "23/05/16 11:44:24 WARN TaskSetManager: Stage 39 contains a task of very large size (2218 KiB). The maximum recommended task size is 1000 KiB.\n",
      "23/05/16 11:44:24 WARN TaskSetManager: Stage 40 contains a task of very large size (2218 KiB). The maximum recommended task size is 1000 KiB.\n",
      "                                                                                \r"
     ]
    },
    {
     "data": {
      "text/html": [
       "<div>\n",
       "<style scoped>\n",
       "    .dataframe tbody tr th:only-of-type {\n",
       "        vertical-align: middle;\n",
       "    }\n",
       "\n",
       "    .dataframe tbody tr th {\n",
       "        vertical-align: top;\n",
       "    }\n",
       "\n",
       "    .dataframe thead th {\n",
       "        text-align: right;\n",
       "    }\n",
       "</style>\n",
       "<table border=\"1\" class=\"dataframe\">\n",
       "  <thead>\n",
       "    <tr style=\"text-align: right;\">\n",
       "      <th></th>\n",
       "      <th>key</th>\n",
       "      <th>title</th>\n",
       "      <th>budget</th>\n",
       "      <th>revenue</th>\n",
       "      <th>profit</th>\n",
       "      <th>return</th>\n",
       "      <th>year</th>\n",
       "      <th>month</th>\n",
       "      <th>day</th>\n",
       "      <th>day_week</th>\n",
       "      <th>collection</th>\n",
       "    </tr>\n",
       "  </thead>\n",
       "  <tbody>\n",
       "    <tr>\n",
       "      <th>0</th>\n",
       "      <td>26</td>\n",
       "      <td>Now and Then</td>\n",
       "      <td>12000000</td>\n",
       "      <td>27400000</td>\n",
       "      <td>15400000</td>\n",
       "      <td>2.283333</td>\n",
       "      <td>1995</td>\n",
       "      <td>Octubre</td>\n",
       "      <td>20</td>\n",
       "      <td>Viernes</td>\n",
       "      <td>None</td>\n",
       "    </tr>\n",
       "    <tr>\n",
       "      <th>1</th>\n",
       "      <td>29</td>\n",
       "      <td>Shanghai Triad</td>\n",
       "      <td>0</td>\n",
       "      <td>0</td>\n",
       "      <td>0</td>\n",
       "      <td>NaN</td>\n",
       "      <td>1995</td>\n",
       "      <td>Abril</td>\n",
       "      <td>30</td>\n",
       "      <td>Domingo</td>\n",
       "      <td>None</td>\n",
       "    </tr>\n",
       "    <tr>\n",
       "      <th>2</th>\n",
       "      <td>474</td>\n",
       "      <td>Judgment Night</td>\n",
       "      <td>0</td>\n",
       "      <td>12136938</td>\n",
       "      <td>12136938</td>\n",
       "      <td>NaN</td>\n",
       "      <td>1993</td>\n",
       "      <td>Octubre</td>\n",
       "      <td>15</td>\n",
       "      <td>Viernes</td>\n",
       "      <td>None</td>\n",
       "    </tr>\n",
       "  </tbody>\n",
       "</table>\n",
       "</div>"
      ],
      "text/plain": [
       "   key           title    budget   revenue    profit    return  year    month day day_week collection\n",
       "0   26    Now and Then  12000000  27400000  15400000  2.283333  1995  Octubre  20  Viernes       None\n",
       "1   29  Shanghai Triad         0         0         0       NaN  1995    Abril  30  Domingo       None\n",
       "2  474  Judgment Night         0  12136938  12136938       NaN  1993  Octubre  15  Viernes       None"
      ]
     },
     "execution_count": 43,
     "metadata": {},
     "output_type": "execute_result"
    }
   ],
   "source": [
    "dataframe_api.limit(3).pandas_api()"
   ]
  },
  {
   "cell_type": "code",
   "execution_count": 44,
   "id": "97e08984-7ab4-4c90-aef1-727046ce8b92",
   "metadata": {
    "execution": {
     "iopub.execute_input": "2023-05-16T14:44:25.770629Z",
     "iopub.status.busy": "2023-05-16T14:44:25.770450Z",
     "iopub.status.idle": "2023-05-16T14:44:26.449477Z",
     "shell.execute_reply": "2023-05-16T14:44:26.448624Z",
     "shell.execute_reply.started": "2023-05-16T14:44:25.770613Z"
    },
    "tags": []
   },
   "outputs": [
    {
     "name": "stderr",
     "output_type": "stream",
     "text": [
      "23/05/16 11:44:25 WARN TaskSetManager: Stage 48 contains a task of very large size (2218 KiB). The maximum recommended task size is 1000 KiB.\n"
     ]
    },
    {
     "data": {
      "text/plain": [
       "45466"
      ]
     },
     "execution_count": 44,
     "metadata": {},
     "output_type": "execute_result"
    }
   ],
   "source": [
    "dataframe_api.count()"
   ]
  },
  {
   "cell_type": "code",
   "execution_count": 45,
   "id": "250cc32b-0db0-4c07-a18c-8082ab33fae1",
   "metadata": {
    "execution": {
     "iopub.execute_input": "2023-05-16T14:44:26.451172Z",
     "iopub.status.busy": "2023-05-16T14:44:26.450525Z",
     "iopub.status.idle": "2023-05-16T14:44:28.061598Z",
     "shell.execute_reply": "2023-05-16T14:44:28.060847Z",
     "shell.execute_reply.started": "2023-05-16T14:44:26.451142Z"
    },
    "tags": []
   },
   "outputs": [
    {
     "name": "stderr",
     "output_type": "stream",
     "text": [
      "23/05/16 11:44:26 WARN TaskSetManager: Stage 56 contains a task of very large size (2218 KiB). The maximum recommended task size is 1000 KiB.\n",
      "23/05/16 11:44:26 WARN TaskSetManager: Stage 57 contains a task of very large size (2218 KiB). The maximum recommended task size is 1000 KiB.\n",
      "                                                                                \r"
     ]
    }
   ],
   "source": [
    "dataframe_api.coalesce(1).write.format(\"csv\").mode('overwrite').option(\"header\", \"true\").save(\"csv\")"
   ]
  },
  {
   "cell_type": "code",
   "execution_count": 46,
   "id": "1e169a0c-2b8d-4496-84e7-833dbce4f3d5",
   "metadata": {
    "execution": {
     "iopub.execute_input": "2023-05-16T14:44:28.062758Z",
     "iopub.status.busy": "2023-05-16T14:44:28.062574Z",
     "iopub.status.idle": "2023-05-16T14:44:28.065444Z",
     "shell.execute_reply": "2023-05-16T14:44:28.064866Z",
     "shell.execute_reply.started": "2023-05-16T14:44:28.062741Z"
    },
    "tags": []
   },
   "outputs": [],
   "source": [
    "path = \"csv\""
   ]
  },
  {
   "cell_type": "code",
   "execution_count": 47,
   "id": "7ad9b918-b406-449b-971c-e7747bed8054",
   "metadata": {
    "execution": {
     "iopub.execute_input": "2023-05-16T14:44:28.066318Z",
     "iopub.status.busy": "2023-05-16T14:44:28.066139Z",
     "iopub.status.idle": "2023-05-16T14:44:28.525299Z",
     "shell.execute_reply": "2023-05-16T14:44:28.524590Z",
     "shell.execute_reply.started": "2023-05-16T14:44:28.066303Z"
    },
    "tags": []
   },
   "outputs": [],
   "source": [
    "data_00 = spark.read.option(\"header\", \"true\").option(\"header\", \"true\").option(\"inferSchema\", \"true\").csv(path)"
   ]
  },
  {
   "cell_type": "code",
   "execution_count": 48,
   "id": "f746c2b7-0807-496b-a47e-aa48a08a5683",
   "metadata": {
    "execution": {
     "iopub.execute_input": "2023-05-16T14:44:28.526518Z",
     "iopub.status.busy": "2023-05-16T14:44:28.526245Z",
     "iopub.status.idle": "2023-05-16T14:44:28.539105Z",
     "shell.execute_reply": "2023-05-16T14:44:28.538451Z",
     "shell.execute_reply.started": "2023-05-16T14:44:28.526494Z"
    },
    "tags": []
   },
   "outputs": [],
   "source": [
    "\n",
    "\n",
    "data_00 = data_00.orderBy(asc(\"key\"))"
   ]
  },
  {
   "cell_type": "code",
   "execution_count": 49,
   "id": "393eadc4-f8b0-49bc-af9a-6e2cb6094ce9",
   "metadata": {
    "execution": {
     "iopub.execute_input": "2023-05-16T14:44:28.540223Z",
     "iopub.status.busy": "2023-05-16T14:44:28.539995Z",
     "iopub.status.idle": "2023-05-16T14:44:29.799028Z",
     "shell.execute_reply": "2023-05-16T14:44:29.798429Z",
     "shell.execute_reply.started": "2023-05-16T14:44:28.540207Z"
    },
    "tags": []
   },
   "outputs": [
    {
     "name": "stderr",
     "output_type": "stream",
     "text": [
      "23/05/16 11:44:28 WARN TaskSetManager: Stage 64 contains a task of very large size (2218 KiB). The maximum recommended task size is 1000 KiB.\n",
      "23/05/16 11:44:28 WARN TaskSetManager: Stage 65 contains a task of very large size (2218 KiB). The maximum recommended task size is 1000 KiB.\n",
      "                                                                                \r"
     ]
    },
    {
     "data": {
      "text/html": [
       "<div>\n",
       "<style scoped>\n",
       "    .dataframe tbody tr th:only-of-type {\n",
       "        vertical-align: middle;\n",
       "    }\n",
       "\n",
       "    .dataframe tbody tr th {\n",
       "        vertical-align: top;\n",
       "    }\n",
       "\n",
       "    .dataframe thead th {\n",
       "        text-align: right;\n",
       "    }\n",
       "</style>\n",
       "<table border=\"1\" class=\"dataframe\">\n",
       "  <thead>\n",
       "    <tr style=\"text-align: right;\">\n",
       "      <th></th>\n",
       "      <th>key</th>\n",
       "      <th>title</th>\n",
       "      <th>budget</th>\n",
       "      <th>revenue</th>\n",
       "      <th>profit</th>\n",
       "      <th>return</th>\n",
       "      <th>year</th>\n",
       "      <th>month</th>\n",
       "      <th>day</th>\n",
       "      <th>day_week</th>\n",
       "      <th>collection</th>\n",
       "    </tr>\n",
       "  </thead>\n",
       "  <tbody>\n",
       "    <tr>\n",
       "      <th>0</th>\n",
       "      <td>26</td>\n",
       "      <td>Now and Then</td>\n",
       "      <td>12000000</td>\n",
       "      <td>27400000</td>\n",
       "      <td>15400000</td>\n",
       "      <td>2.283333</td>\n",
       "      <td>1995</td>\n",
       "      <td>Octubre</td>\n",
       "      <td>20</td>\n",
       "      <td>Viernes</td>\n",
       "      <td>None</td>\n",
       "    </tr>\n",
       "    <tr>\n",
       "      <th>1</th>\n",
       "      <td>29</td>\n",
       "      <td>Shanghai Triad</td>\n",
       "      <td>0</td>\n",
       "      <td>0</td>\n",
       "      <td>0</td>\n",
       "      <td>NaN</td>\n",
       "      <td>1995</td>\n",
       "      <td>Abril</td>\n",
       "      <td>30</td>\n",
       "      <td>Domingo</td>\n",
       "      <td>None</td>\n",
       "    </tr>\n",
       "    <tr>\n",
       "      <th>2</th>\n",
       "      <td>474</td>\n",
       "      <td>Judgment Night</td>\n",
       "      <td>0</td>\n",
       "      <td>12136938</td>\n",
       "      <td>12136938</td>\n",
       "      <td>NaN</td>\n",
       "      <td>1993</td>\n",
       "      <td>Octubre</td>\n",
       "      <td>15</td>\n",
       "      <td>Viernes</td>\n",
       "      <td>None</td>\n",
       "    </tr>\n",
       "  </tbody>\n",
       "</table>\n",
       "</div>"
      ],
      "text/plain": [
       "   key           title    budget   revenue    profit    return  year    month day day_week collection\n",
       "0   26    Now and Then  12000000  27400000  15400000  2.283333  1995  Octubre  20  Viernes       None\n",
       "1   29  Shanghai Triad         0         0         0       NaN  1995    Abril  30  Domingo       None\n",
       "2  474  Judgment Night         0  12136938  12136938       NaN  1993  Octubre  15  Viernes       None"
      ]
     },
     "execution_count": 49,
     "metadata": {},
     "output_type": "execute_result"
    }
   ],
   "source": [
    "dataframe_api.limit(3).pandas_api()"
   ]
  },
  {
   "cell_type": "code",
   "execution_count": 50,
   "id": "4fc33374-3d15-4efc-8093-7f805a0449c3",
   "metadata": {
    "execution": {
     "iopub.execute_input": "2023-05-16T14:44:29.799957Z",
     "iopub.status.busy": "2023-05-16T14:44:29.799739Z",
     "iopub.status.idle": "2023-05-16T14:44:29.807716Z",
     "shell.execute_reply": "2023-05-16T14:44:29.807001Z",
     "shell.execute_reply.started": "2023-05-16T14:44:29.799935Z"
    },
    "tags": []
   },
   "outputs": [],
   "source": [
    "country =  movie.select(col(\"production_countries\"))"
   ]
  },
  {
   "cell_type": "code",
   "execution_count": 51,
   "id": "17ade0c1-185a-4dc9-a598-573bf1787b57",
   "metadata": {
    "execution": {
     "iopub.execute_input": "2023-05-16T14:44:29.808904Z",
     "iopub.status.busy": "2023-05-16T14:44:29.808649Z",
     "iopub.status.idle": "2023-05-16T14:44:30.144758Z",
     "shell.execute_reply": "2023-05-16T14:44:30.144197Z",
     "shell.execute_reply.started": "2023-05-16T14:44:29.808882Z"
    },
    "tags": []
   },
   "outputs": [
    {
     "name": "stderr",
     "output_type": "stream",
     "text": [
      "23/05/16 11:44:29 WARN TaskSetManager: Stage 73 contains a task of very large size (2218 KiB). The maximum recommended task size is 1000 KiB.\n"
     ]
    },
    {
     "data": {
      "text/html": [
       "<div>\n",
       "<style scoped>\n",
       "    .dataframe tbody tr th:only-of-type {\n",
       "        vertical-align: middle;\n",
       "    }\n",
       "\n",
       "    .dataframe tbody tr th {\n",
       "        vertical-align: top;\n",
       "    }\n",
       "\n",
       "    .dataframe thead th {\n",
       "        text-align: right;\n",
       "    }\n",
       "</style>\n",
       "<table border=\"1\" class=\"dataframe\">\n",
       "  <thead>\n",
       "    <tr style=\"text-align: right;\">\n",
       "      <th></th>\n",
       "      <th>production_countries</th>\n",
       "    </tr>\n",
       "  </thead>\n",
       "  <tbody>\n",
       "    <tr>\n",
       "      <th>0</th>\n",
       "      <td>[{'iso_3166_1': 'US', 'name': 'United States o...</td>\n",
       "    </tr>\n",
       "    <tr>\n",
       "      <th>1</th>\n",
       "      <td>[{'iso_3166_1': 'US', 'name': 'United States o...</td>\n",
       "    </tr>\n",
       "    <tr>\n",
       "      <th>2</th>\n",
       "      <td>[{'iso_3166_1': 'US', 'name': 'United States o...</td>\n",
       "    </tr>\n",
       "  </tbody>\n",
       "</table>\n",
       "</div>"
      ],
      "text/plain": [
       "                                         production_countries\n",
       "0  [{'iso_3166_1': 'US', 'name': 'United States of America'}]\n",
       "1  [{'iso_3166_1': 'US', 'name': 'United States of America'}]\n",
       "2  [{'iso_3166_1': 'US', 'name': 'United States of America'}]"
      ]
     },
     "execution_count": 51,
     "metadata": {},
     "output_type": "execute_result"
    }
   ],
   "source": [
    "country.limit(3).pandas_api()"
   ]
  },
  {
   "cell_type": "raw",
   "id": "dffb62ce-0b5b-40fb-8066-82d1c40a2a42",
   "metadata": {
    "execution": {
     "iopub.execute_input": "2023-05-13T13:53:43.305491Z",
     "iopub.status.busy": "2023-05-13T13:53:43.305304Z",
     "iopub.status.idle": "2023-05-13T13:53:43.486077Z",
     "shell.execute_reply": "2023-05-13T13:53:43.483141Z",
     "shell.execute_reply.started": "2023-05-13T13:53:43.305475Z"
    },
    "tags": []
   },
   "source": [
    "# Importar las clases necesarias\n",
    "from pyspark.sql.functions import col\n",
    "\n",
    "# Filtrar las filas que no tienen valores nulos\n",
    "df_no_null = df.na.drop()\n",
    "\n",
    "# Mostrar todas las filas y columnas del DataFrame filtrado\n",
    "df_no_null.show(df_no_null.count(), len(df_no_null.columns), truncate=False)\n"
   ]
  },
  {
   "cell_type": "code",
   "execution_count": 52,
   "id": "366e6db0-a8c5-4075-bf79-08951e2cab32",
   "metadata": {
    "execution": {
     "iopub.execute_input": "2023-05-16T14:44:30.145659Z",
     "iopub.status.busy": "2023-05-16T14:44:30.145446Z",
     "iopub.status.idle": "2023-05-16T14:44:34.517543Z",
     "shell.execute_reply": "2023-05-16T14:44:34.516988Z",
     "shell.execute_reply.started": "2023-05-16T14:44:30.145643Z"
    },
    "tags": []
   },
   "outputs": [],
   "source": [
    "data_country = spark.createDataFrame(data)"
   ]
  },
  {
   "cell_type": "code",
   "execution_count": 53,
   "id": "83af1df8-51f7-4093-b7c3-35ab0a799098",
   "metadata": {
    "execution": {
     "iopub.execute_input": "2023-05-16T14:44:34.518406Z",
     "iopub.status.busy": "2023-05-16T14:44:34.518249Z",
     "iopub.status.idle": "2023-05-16T14:44:34.524996Z",
     "shell.execute_reply": "2023-05-16T14:44:34.524338Z",
     "shell.execute_reply.started": "2023-05-16T14:44:34.518391Z"
    },
    "tags": []
   },
   "outputs": [],
   "source": [
    "country =  movie.select(col(\"production_countries\"))"
   ]
  },
  {
   "cell_type": "code",
   "execution_count": 54,
   "id": "1ee294d8-e7c0-4853-be7a-70fcf443ed65",
   "metadata": {
    "execution": {
     "iopub.execute_input": "2023-05-16T14:44:34.526146Z",
     "iopub.status.busy": "2023-05-16T14:44:34.525856Z",
     "iopub.status.idle": "2023-05-16T14:44:34.839656Z",
     "shell.execute_reply": "2023-05-16T14:44:34.839080Z",
     "shell.execute_reply.started": "2023-05-16T14:44:34.526126Z"
    },
    "tags": []
   },
   "outputs": [
    {
     "name": "stderr",
     "output_type": "stream",
     "text": [
      "23/05/16 11:44:34 WARN TaskSetManager: Stage 76 contains a task of very large size (2218 KiB). The maximum recommended task size is 1000 KiB.\n"
     ]
    },
    {
     "data": {
      "text/html": [
       "<div>\n",
       "<style scoped>\n",
       "    .dataframe tbody tr th:only-of-type {\n",
       "        vertical-align: middle;\n",
       "    }\n",
       "\n",
       "    .dataframe tbody tr th {\n",
       "        vertical-align: top;\n",
       "    }\n",
       "\n",
       "    .dataframe thead th {\n",
       "        text-align: right;\n",
       "    }\n",
       "</style>\n",
       "<table border=\"1\" class=\"dataframe\">\n",
       "  <thead>\n",
       "    <tr style=\"text-align: right;\">\n",
       "      <th></th>\n",
       "      <th>production_countries</th>\n",
       "    </tr>\n",
       "  </thead>\n",
       "  <tbody>\n",
       "    <tr>\n",
       "      <th>0</th>\n",
       "      <td>[{'iso_3166_1': 'US', 'name': 'United States o...</td>\n",
       "    </tr>\n",
       "    <tr>\n",
       "      <th>1</th>\n",
       "      <td>[{'iso_3166_1': 'US', 'name': 'United States o...</td>\n",
       "    </tr>\n",
       "    <tr>\n",
       "      <th>2</th>\n",
       "      <td>[{'iso_3166_1': 'US', 'name': 'United States o...</td>\n",
       "    </tr>\n",
       "  </tbody>\n",
       "</table>\n",
       "</div>"
      ],
      "text/plain": [
       "                                         production_countries\n",
       "0  [{'iso_3166_1': 'US', 'name': 'United States of America'}]\n",
       "1  [{'iso_3166_1': 'US', 'name': 'United States of America'}]\n",
       "2  [{'iso_3166_1': 'US', 'name': 'United States of America'}]"
      ]
     },
     "execution_count": 54,
     "metadata": {},
     "output_type": "execute_result"
    }
   ],
   "source": [
    "country.limit(3).pandas_api()"
   ]
  },
  {
   "cell_type": "code",
   "execution_count": 55,
   "id": "ab02335f-454c-487d-b435-2fa6a4136f14",
   "metadata": {
    "execution": {
     "iopub.execute_input": "2023-05-16T14:44:34.840603Z",
     "iopub.status.busy": "2023-05-16T14:44:34.840408Z",
     "iopub.status.idle": "2023-05-16T14:44:34.854285Z",
     "shell.execute_reply": "2023-05-16T14:44:34.853521Z",
     "shell.execute_reply.started": "2023-05-16T14:44:34.840588Z"
    },
    "tags": []
   },
   "outputs": [],
   "source": [
    "from pyspark.sql.functions import from_json, col\n",
    "\n",
    "# Define el esquema de datos JSON\n",
    "json_schema_country = \"array<struct<iso_3166_1:string, name:string>>\"\n",
    "\n",
    "# Convierte la columna de JSON a una estructura de Spark\n",
    "country = country.withColumn(\"datos_struct\", from_json(col(\"production_countries\"), json_schema_country))"
   ]
  },
  {
   "cell_type": "code",
   "execution_count": 56,
   "id": "0bb9b036-7a16-4e3c-925c-f23435c17d67",
   "metadata": {
    "execution": {
     "iopub.execute_input": "2023-05-16T14:44:34.855556Z",
     "iopub.status.busy": "2023-05-16T14:44:34.855232Z",
     "iopub.status.idle": "2023-05-16T14:44:35.220636Z",
     "shell.execute_reply": "2023-05-16T14:44:35.219970Z",
     "shell.execute_reply.started": "2023-05-16T14:44:34.855532Z"
    },
    "tags": []
   },
   "outputs": [
    {
     "name": "stderr",
     "output_type": "stream",
     "text": [
      "23/05/16 11:44:34 WARN TaskSetManager: Stage 79 contains a task of very large size (2218 KiB). The maximum recommended task size is 1000 KiB.\n"
     ]
    },
    {
     "data": {
      "text/html": [
       "<div>\n",
       "<style scoped>\n",
       "    .dataframe tbody tr th:only-of-type {\n",
       "        vertical-align: middle;\n",
       "    }\n",
       "\n",
       "    .dataframe tbody tr th {\n",
       "        vertical-align: top;\n",
       "    }\n",
       "\n",
       "    .dataframe thead th {\n",
       "        text-align: right;\n",
       "    }\n",
       "</style>\n",
       "<table border=\"1\" class=\"dataframe\">\n",
       "  <thead>\n",
       "    <tr style=\"text-align: right;\">\n",
       "      <th></th>\n",
       "      <th>production_countries</th>\n",
       "      <th>datos_struct</th>\n",
       "    </tr>\n",
       "  </thead>\n",
       "  <tbody>\n",
       "    <tr>\n",
       "      <th>0</th>\n",
       "      <td>[{'iso_3166_1': 'US', 'name': 'United States o...</td>\n",
       "      <td>[(US, United States of America)]</td>\n",
       "    </tr>\n",
       "    <tr>\n",
       "      <th>1</th>\n",
       "      <td>[{'iso_3166_1': 'US', 'name': 'United States o...</td>\n",
       "      <td>[(US, United States of America)]</td>\n",
       "    </tr>\n",
       "    <tr>\n",
       "      <th>2</th>\n",
       "      <td>[{'iso_3166_1': 'US', 'name': 'United States o...</td>\n",
       "      <td>[(US, United States of America)]</td>\n",
       "    </tr>\n",
       "  </tbody>\n",
       "</table>\n",
       "</div>"
      ],
      "text/plain": [
       "                                         production_countries                      datos_struct\n",
       "0  [{'iso_3166_1': 'US', 'name': 'United States of America'}]  [(US, United States of America)]\n",
       "1  [{'iso_3166_1': 'US', 'name': 'United States of America'}]  [(US, United States of America)]\n",
       "2  [{'iso_3166_1': 'US', 'name': 'United States of America'}]  [(US, United States of America)]"
      ]
     },
     "execution_count": 56,
     "metadata": {},
     "output_type": "execute_result"
    }
   ],
   "source": [
    "country.limit(3).pandas_api()"
   ]
  },
  {
   "cell_type": "code",
   "execution_count": 57,
   "id": "9e206664-e259-4690-95ea-1f2bf8072edf",
   "metadata": {
    "execution": {
     "iopub.execute_input": "2023-05-16T14:44:35.221697Z",
     "iopub.status.busy": "2023-05-16T14:44:35.221441Z",
     "iopub.status.idle": "2023-05-16T14:44:35.811267Z",
     "shell.execute_reply": "2023-05-16T14:44:35.810561Z",
     "shell.execute_reply.started": "2023-05-16T14:44:35.221675Z"
    },
    "tags": []
   },
   "outputs": [
    {
     "name": "stderr",
     "output_type": "stream",
     "text": [
      "23/05/16 11:44:35 WARN TaskSetManager: Stage 82 contains a task of very large size (2218 KiB). The maximum recommended task size is 1000 KiB.\n"
     ]
    }
   ],
   "source": [
    "# Crea una columna para cada elemento de la lista\n",
    "columns_country = country.selectExpr(\"max(size(datos_struct)) as max_cols\").collect()[0][\"max_cols\"]"
   ]
  },
  {
   "cell_type": "code",
   "execution_count": 58,
   "id": "c471f232-087c-42ec-9d9d-ff6ddd7f532d",
   "metadata": {
    "execution": {
     "iopub.execute_input": "2023-05-16T14:44:35.812171Z",
     "iopub.status.busy": "2023-05-16T14:44:35.811990Z",
     "iopub.status.idle": "2023-05-16T14:44:35.945305Z",
     "shell.execute_reply": "2023-05-16T14:44:35.944657Z",
     "shell.execute_reply.started": "2023-05-16T14:44:35.812155Z"
    },
    "tags": []
   },
   "outputs": [],
   "source": [
    "for i in range(columns_country):\n",
    "    country = country.withColumn(f\"name_{i+1}\", col(\"datos_struct\")[i].getField(\"name\"))"
   ]
  },
  {
   "cell_type": "code",
   "execution_count": 59,
   "id": "eff8f0dc-c1dc-469c-91e5-c4a9f82921ff",
   "metadata": {
    "execution": {
     "iopub.execute_input": "2023-05-16T14:44:35.946578Z",
     "iopub.status.busy": "2023-05-16T14:44:35.946263Z",
     "iopub.status.idle": "2023-05-16T14:44:35.955321Z",
     "shell.execute_reply": "2023-05-16T14:44:35.954669Z",
     "shell.execute_reply.started": "2023-05-16T14:44:35.946552Z"
    },
    "tags": []
   },
   "outputs": [],
   "source": [
    "country = country.drop(\"production_countries\",\"datos_struct\")"
   ]
  },
  {
   "cell_type": "code",
   "execution_count": 60,
   "id": "aa80fbdf-3417-475b-b9f1-81e86941d0fd",
   "metadata": {
    "execution": {
     "iopub.execute_input": "2023-05-16T14:44:35.956347Z",
     "iopub.status.busy": "2023-05-16T14:44:35.956123Z",
     "iopub.status.idle": "2023-05-16T14:44:35.980990Z",
     "shell.execute_reply": "2023-05-16T14:44:35.980221Z",
     "shell.execute_reply.started": "2023-05-16T14:44:35.956326Z"
    },
    "tags": []
   },
   "outputs": [],
   "source": [
    "from pyspark.sql.functions import concat_ws\n",
    "\n",
    "country = country.select(concat_ws(\"-\", *country.columns).alias(\"country\"))"
   ]
  },
  {
   "cell_type": "code",
   "execution_count": 61,
   "id": "4741e4ac-da9f-45d4-9f71-b819ac69b22e",
   "metadata": {
    "execution": {
     "iopub.execute_input": "2023-05-16T14:44:35.982006Z",
     "iopub.status.busy": "2023-05-16T14:44:35.981800Z",
     "iopub.status.idle": "2023-05-16T14:44:36.363914Z",
     "shell.execute_reply": "2023-05-16T14:44:36.363307Z",
     "shell.execute_reply.started": "2023-05-16T14:44:35.981989Z"
    },
    "tags": []
   },
   "outputs": [
    {
     "name": "stderr",
     "output_type": "stream",
     "text": [
      "23/05/16 11:44:36 WARN TaskSetManager: Stage 85 contains a task of very large size (2218 KiB). The maximum recommended task size is 1000 KiB.\n"
     ]
    },
    {
     "data": {
      "text/html": [
       "<div>\n",
       "<style scoped>\n",
       "    .dataframe tbody tr th:only-of-type {\n",
       "        vertical-align: middle;\n",
       "    }\n",
       "\n",
       "    .dataframe tbody tr th {\n",
       "        vertical-align: top;\n",
       "    }\n",
       "\n",
       "    .dataframe thead th {\n",
       "        text-align: right;\n",
       "    }\n",
       "</style>\n",
       "<table border=\"1\" class=\"dataframe\">\n",
       "  <thead>\n",
       "    <tr style=\"text-align: right;\">\n",
       "      <th></th>\n",
       "      <th>country</th>\n",
       "    </tr>\n",
       "  </thead>\n",
       "  <tbody>\n",
       "    <tr>\n",
       "      <th>0</th>\n",
       "      <td>United States of America</td>\n",
       "    </tr>\n",
       "    <tr>\n",
       "      <th>1</th>\n",
       "      <td>United States of America</td>\n",
       "    </tr>\n",
       "    <tr>\n",
       "      <th>2</th>\n",
       "      <td>United States of America</td>\n",
       "    </tr>\n",
       "    <tr>\n",
       "      <th>3</th>\n",
       "      <td>United States of America</td>\n",
       "    </tr>\n",
       "    <tr>\n",
       "      <th>4</th>\n",
       "      <td>United States of America</td>\n",
       "    </tr>\n",
       "    <tr>\n",
       "      <th>5</th>\n",
       "      <td>United States of America</td>\n",
       "    </tr>\n",
       "    <tr>\n",
       "      <th>6</th>\n",
       "      <td>Germany-United States of America</td>\n",
       "    </tr>\n",
       "    <tr>\n",
       "      <th>7</th>\n",
       "      <td>United States of America</td>\n",
       "    </tr>\n",
       "    <tr>\n",
       "      <th>8</th>\n",
       "      <td>United States of America</td>\n",
       "    </tr>\n",
       "    <tr>\n",
       "      <th>9</th>\n",
       "      <td>United Kingdom-United States of America</td>\n",
       "    </tr>\n",
       "    <tr>\n",
       "      <th>10</th>\n",
       "      <td>United States of America</td>\n",
       "    </tr>\n",
       "    <tr>\n",
       "      <th>11</th>\n",
       "      <td>France-United States of America</td>\n",
       "    </tr>\n",
       "    <tr>\n",
       "      <th>12</th>\n",
       "      <td>United States of America</td>\n",
       "    </tr>\n",
       "    <tr>\n",
       "      <th>13</th>\n",
       "      <td>United States of America</td>\n",
       "    </tr>\n",
       "    <tr>\n",
       "      <th>14</th>\n",
       "      <td>France-Germany-Italy-United States of America</td>\n",
       "    </tr>\n",
       "    <tr>\n",
       "      <th>15</th>\n",
       "      <td>France-United States of America</td>\n",
       "    </tr>\n",
       "    <tr>\n",
       "      <th>16</th>\n",
       "      <td>United Kingdom-United States of America</td>\n",
       "    </tr>\n",
       "    <tr>\n",
       "      <th>17</th>\n",
       "      <td>United States of America</td>\n",
       "    </tr>\n",
       "    <tr>\n",
       "      <th>18</th>\n",
       "      <td>United States of America</td>\n",
       "    </tr>\n",
       "    <tr>\n",
       "      <th>19</th>\n",
       "      <td>United States of America</td>\n",
       "    </tr>\n",
       "  </tbody>\n",
       "</table>\n",
       "</div>"
      ],
      "text/plain": [
       "                                          country\n",
       "0                        United States of America\n",
       "1                        United States of America\n",
       "2                        United States of America\n",
       "3                        United States of America\n",
       "4                        United States of America\n",
       "5                        United States of America\n",
       "6                Germany-United States of America\n",
       "7                        United States of America\n",
       "8                        United States of America\n",
       "9         United Kingdom-United States of America\n",
       "10                       United States of America\n",
       "11                France-United States of America\n",
       "12                       United States of America\n",
       "13                       United States of America\n",
       "14  France-Germany-Italy-United States of America\n",
       "15                France-United States of America\n",
       "16        United Kingdom-United States of America\n",
       "17                       United States of America\n",
       "18                       United States of America\n",
       "19                       United States of America"
      ]
     },
     "execution_count": 61,
     "metadata": {},
     "output_type": "execute_result"
    }
   ],
   "source": [
    "country.limit(20).pandas_api()"
   ]
  },
  {
   "cell_type": "markdown",
   "id": "f400e996-81bf-498e-93f7-2fd18394e537",
   "metadata": {
    "execution": {
     "iopub.execute_input": "2023-05-11T09:04:09.070180Z",
     "iopub.status.busy": "2023-05-11T09:04:09.069560Z",
     "iopub.status.idle": "2023-05-11T09:04:09.078227Z",
     "shell.execute_reply": "2023-05-11T09:04:09.077703Z",
     "shell.execute_reply.started": "2023-05-11T09:04:09.070146Z"
    },
    "tags": []
   },
   "source": [
    "Crear una columna `key` autoincremetal en Dataframe `country`"
   ]
  },
  {
   "cell_type": "code",
   "execution_count": 62,
   "id": "aec2987d-9fbe-49e8-8654-3baa90daf351",
   "metadata": {
    "execution": {
     "iopub.execute_input": "2023-05-16T14:44:36.365000Z",
     "iopub.status.busy": "2023-05-16T14:44:36.364775Z",
     "iopub.status.idle": "2023-05-16T14:44:36.372024Z",
     "shell.execute_reply": "2023-05-16T14:44:36.371363Z",
     "shell.execute_reply.started": "2023-05-16T14:44:36.364978Z"
    },
    "tags": []
   },
   "outputs": [],
   "source": [
    "country = country.withColumn('key', monotonically_increasing_id())"
   ]
  },
  {
   "cell_type": "code",
   "execution_count": 63,
   "id": "1ccda01a-ea9e-44c2-9e44-0aab227cc545",
   "metadata": {
    "execution": {
     "iopub.execute_input": "2023-05-16T14:44:36.373004Z",
     "iopub.status.busy": "2023-05-16T14:44:36.372818Z",
     "iopub.status.idle": "2023-05-16T14:44:36.389279Z",
     "shell.execute_reply": "2023-05-16T14:44:36.388640Z",
     "shell.execute_reply.started": "2023-05-16T14:44:36.372988Z"
    },
    "tags": []
   },
   "outputs": [],
   "source": [
    "country = country.select(col(\"key\"), explode(split(col(\"country\"), \"-\")).alias(\"country\"))\n"
   ]
  },
  {
   "cell_type": "code",
   "execution_count": 64,
   "id": "830bcff9-a864-46f6-8f1d-52faf18b2615",
   "metadata": {
    "execution": {
     "iopub.execute_input": "2023-05-16T14:44:36.390397Z",
     "iopub.status.busy": "2023-05-16T14:44:36.390072Z",
     "iopub.status.idle": "2023-05-16T14:44:36.789542Z",
     "shell.execute_reply": "2023-05-16T14:44:36.788968Z",
     "shell.execute_reply.started": "2023-05-16T14:44:36.390374Z"
    },
    "tags": []
   },
   "outputs": [
    {
     "name": "stderr",
     "output_type": "stream",
     "text": [
      "23/05/16 11:44:36 WARN TaskSetManager: Stage 88 contains a task of very large size (2218 KiB). The maximum recommended task size is 1000 KiB.\n"
     ]
    },
    {
     "data": {
      "text/html": [
       "<div>\n",
       "<style scoped>\n",
       "    .dataframe tbody tr th:only-of-type {\n",
       "        vertical-align: middle;\n",
       "    }\n",
       "\n",
       "    .dataframe tbody tr th {\n",
       "        vertical-align: top;\n",
       "    }\n",
       "\n",
       "    .dataframe thead th {\n",
       "        text-align: right;\n",
       "    }\n",
       "</style>\n",
       "<table border=\"1\" class=\"dataframe\">\n",
       "  <thead>\n",
       "    <tr style=\"text-align: right;\">\n",
       "      <th></th>\n",
       "      <th>key</th>\n",
       "      <th>country</th>\n",
       "    </tr>\n",
       "  </thead>\n",
       "  <tbody>\n",
       "    <tr>\n",
       "      <th>0</th>\n",
       "      <td>0</td>\n",
       "      <td>United States of America</td>\n",
       "    </tr>\n",
       "    <tr>\n",
       "      <th>1</th>\n",
       "      <td>1</td>\n",
       "      <td>United States of America</td>\n",
       "    </tr>\n",
       "    <tr>\n",
       "      <th>2</th>\n",
       "      <td>2</td>\n",
       "      <td>United States of America</td>\n",
       "    </tr>\n",
       "    <tr>\n",
       "      <th>3</th>\n",
       "      <td>3</td>\n",
       "      <td>United States of America</td>\n",
       "    </tr>\n",
       "    <tr>\n",
       "      <th>4</th>\n",
       "      <td>4</td>\n",
       "      <td>United States of America</td>\n",
       "    </tr>\n",
       "    <tr>\n",
       "      <th>5</th>\n",
       "      <td>5</td>\n",
       "      <td>United States of America</td>\n",
       "    </tr>\n",
       "    <tr>\n",
       "      <th>6</th>\n",
       "      <td>6</td>\n",
       "      <td>Germany</td>\n",
       "    </tr>\n",
       "    <tr>\n",
       "      <th>7</th>\n",
       "      <td>6</td>\n",
       "      <td>United States of America</td>\n",
       "    </tr>\n",
       "    <tr>\n",
       "      <th>8</th>\n",
       "      <td>7</td>\n",
       "      <td>United States of America</td>\n",
       "    </tr>\n",
       "    <tr>\n",
       "      <th>9</th>\n",
       "      <td>8</td>\n",
       "      <td>United States of America</td>\n",
       "    </tr>\n",
       "  </tbody>\n",
       "</table>\n",
       "</div>"
      ],
      "text/plain": [
       "   key                   country\n",
       "0    0  United States of America\n",
       "1    1  United States of America\n",
       "2    2  United States of America\n",
       "3    3  United States of America\n",
       "4    4  United States of America\n",
       "5    5  United States of America\n",
       "6    6                   Germany\n",
       "7    6  United States of America\n",
       "8    7  United States of America\n",
       "9    8  United States of America"
      ]
     },
     "execution_count": 64,
     "metadata": {},
     "output_type": "execute_result"
    }
   ],
   "source": [
    "country.limit(10).pandas_api()"
   ]
  },
  {
   "cell_type": "markdown",
   "id": "7e27846c-01dd-40fc-a2a6-eaf29c48e984",
   "metadata": {},
   "source": [
    "Nota: el `key` seria el identificador de pelicula como se puede ver en el caso del key 6, donde hay dos paises"
   ]
  },
  {
   "cell_type": "code",
   "execution_count": 65,
   "id": "edadedbe-e8c8-4885-baef-d2c39240e4d1",
   "metadata": {
    "execution": {
     "iopub.execute_input": "2023-05-16T14:44:36.790534Z",
     "iopub.status.busy": "2023-05-16T14:44:36.790235Z",
     "iopub.status.idle": "2023-05-16T14:44:41.129060Z",
     "shell.execute_reply": "2023-05-16T14:44:41.128484Z",
     "shell.execute_reply.started": "2023-05-16T14:44:36.790519Z"
    },
    "tags": []
   },
   "outputs": [],
   "source": [
    "data_production = spark.createDataFrame(data)"
   ]
  },
  {
   "cell_type": "code",
   "execution_count": 66,
   "id": "4393d69f-9ddd-49fc-8d9e-f7068f00eeef",
   "metadata": {
    "execution": {
     "iopub.execute_input": "2023-05-16T14:44:41.130205Z",
     "iopub.status.busy": "2023-05-16T14:44:41.129794Z",
     "iopub.status.idle": "2023-05-16T14:44:41.135952Z",
     "shell.execute_reply": "2023-05-16T14:44:41.135418Z",
     "shell.execute_reply.started": "2023-05-16T14:44:41.130187Z"
    },
    "tags": []
   },
   "outputs": [],
   "source": [
    "production =  data_production.select(col(\"production_companies\"))"
   ]
  },
  {
   "cell_type": "code",
   "execution_count": 67,
   "id": "0f3ff49b-913c-4e96-8e32-0584a12fc8b8",
   "metadata": {
    "execution": {
     "iopub.execute_input": "2023-05-16T14:44:41.143397Z",
     "iopub.status.busy": "2023-05-16T14:44:41.142954Z",
     "iopub.status.idle": "2023-05-16T14:44:41.480423Z",
     "shell.execute_reply": "2023-05-16T14:44:41.479924Z",
     "shell.execute_reply.started": "2023-05-16T14:44:41.143374Z"
    },
    "tags": []
   },
   "outputs": [
    {
     "name": "stderr",
     "output_type": "stream",
     "text": [
      "23/05/16 11:44:41 WARN TaskSetManager: Stage 91 contains a task of very large size (2218 KiB). The maximum recommended task size is 1000 KiB.\n"
     ]
    },
    {
     "data": {
      "text/html": [
       "<div>\n",
       "<style scoped>\n",
       "    .dataframe tbody tr th:only-of-type {\n",
       "        vertical-align: middle;\n",
       "    }\n",
       "\n",
       "    .dataframe tbody tr th {\n",
       "        vertical-align: top;\n",
       "    }\n",
       "\n",
       "    .dataframe thead th {\n",
       "        text-align: right;\n",
       "    }\n",
       "</style>\n",
       "<table border=\"1\" class=\"dataframe\">\n",
       "  <thead>\n",
       "    <tr style=\"text-align: right;\">\n",
       "      <th></th>\n",
       "      <th>production_companies</th>\n",
       "    </tr>\n",
       "  </thead>\n",
       "  <tbody>\n",
       "    <tr>\n",
       "      <th>0</th>\n",
       "      <td>[{'name': 'Pixar Animation Studios', 'id': 3}]</td>\n",
       "    </tr>\n",
       "    <tr>\n",
       "      <th>1</th>\n",
       "      <td>[{'name': 'TriStar Pictures', 'id': 559}, {'na...</td>\n",
       "    </tr>\n",
       "    <tr>\n",
       "      <th>2</th>\n",
       "      <td>[{'name': 'Warner Bros.', 'id': 6194}, {'name'...</td>\n",
       "    </tr>\n",
       "  </tbody>\n",
       "</table>\n",
       "</div>"
      ],
      "text/plain": [
       "                                                                                                                  production_companies\n",
       "0                                                                                       [{'name': 'Pixar Animation Studios', 'id': 3}]\n",
       "1  [{'name': 'TriStar Pictures', 'id': 559}, {'name': 'Teitler Film', 'id': 2550}, {'name': 'Interscope Communications', 'id': 10201}]\n",
       "2                                                      [{'name': 'Warner Bros.', 'id': 6194}, {'name': 'Lancaster Gate', 'id': 19464}]"
      ]
     },
     "execution_count": 67,
     "metadata": {},
     "output_type": "execute_result"
    }
   ],
   "source": [
    "production.limit(3).pandas_api()"
   ]
  },
  {
   "cell_type": "code",
   "execution_count": 68,
   "id": "f99f6466-4354-4274-8aa9-e25a1d0134a6",
   "metadata": {
    "execution": {
     "iopub.execute_input": "2023-05-16T14:44:41.481228Z",
     "iopub.status.busy": "2023-05-16T14:44:41.481052Z",
     "iopub.status.idle": "2023-05-16T14:44:41.488853Z",
     "shell.execute_reply": "2023-05-16T14:44:41.488226Z",
     "shell.execute_reply.started": "2023-05-16T14:44:41.481212Z"
    },
    "tags": []
   },
   "outputs": [],
   "source": [
    "from pyspark.sql.functions import from_json, col\n",
    "\n",
    "# Define el esquema de datos JSON\n",
    "json_schema_production = \"array<struct<name:string, id:int>>\"\n",
    "\n",
    "# Convierte la columna de JSON a una estructura de Spark\n",
    "production = production.withColumn(\"datos_struct\", from_json(col(\"production_companies\"), json_schema_production))"
   ]
  },
  {
   "cell_type": "code",
   "execution_count": 69,
   "id": "ea21ed9f-2c97-4215-b819-18b5e91f3535",
   "metadata": {
    "execution": {
     "iopub.execute_input": "2023-05-16T14:44:41.490043Z",
     "iopub.status.busy": "2023-05-16T14:44:41.489718Z",
     "iopub.status.idle": "2023-05-16T14:44:41.837411Z",
     "shell.execute_reply": "2023-05-16T14:44:41.836772Z",
     "shell.execute_reply.started": "2023-05-16T14:44:41.490018Z"
    },
    "tags": []
   },
   "outputs": [
    {
     "name": "stderr",
     "output_type": "stream",
     "text": [
      "23/05/16 11:44:41 WARN TaskSetManager: Stage 94 contains a task of very large size (2218 KiB). The maximum recommended task size is 1000 KiB.\n"
     ]
    },
    {
     "data": {
      "text/html": [
       "<div>\n",
       "<style scoped>\n",
       "    .dataframe tbody tr th:only-of-type {\n",
       "        vertical-align: middle;\n",
       "    }\n",
       "\n",
       "    .dataframe tbody tr th {\n",
       "        vertical-align: top;\n",
       "    }\n",
       "\n",
       "    .dataframe thead th {\n",
       "        text-align: right;\n",
       "    }\n",
       "</style>\n",
       "<table border=\"1\" class=\"dataframe\">\n",
       "  <thead>\n",
       "    <tr style=\"text-align: right;\">\n",
       "      <th></th>\n",
       "      <th>production_companies</th>\n",
       "      <th>datos_struct</th>\n",
       "    </tr>\n",
       "  </thead>\n",
       "  <tbody>\n",
       "    <tr>\n",
       "      <th>0</th>\n",
       "      <td>[{'name': 'Pixar Animation Studios', 'id': 3}]</td>\n",
       "      <td>[(Pixar Animation Studios, 3)]</td>\n",
       "    </tr>\n",
       "    <tr>\n",
       "      <th>1</th>\n",
       "      <td>[{'name': 'TriStar Pictures', 'id': 559}, {'na...</td>\n",
       "      <td>[(TriStar Pictures, 559), (Teitler Film, 2550)...</td>\n",
       "    </tr>\n",
       "    <tr>\n",
       "      <th>2</th>\n",
       "      <td>[{'name': 'Warner Bros.', 'id': 6194}, {'name'...</td>\n",
       "      <td>[(Warner Bros., 6194), (Lancaster Gate, 19464)]</td>\n",
       "    </tr>\n",
       "  </tbody>\n",
       "</table>\n",
       "</div>"
      ],
      "text/plain": [
       "                                                                                                                  production_companies                                                                         datos_struct\n",
       "0                                                                                       [{'name': 'Pixar Animation Studios', 'id': 3}]                                                       [(Pixar Animation Studios, 3)]\n",
       "1  [{'name': 'TriStar Pictures', 'id': 559}, {'name': 'Teitler Film', 'id': 2550}, {'name': 'Interscope Communications', 'id': 10201}]  [(TriStar Pictures, 559), (Teitler Film, 2550), (Interscope Communications, 10201)]\n",
       "2                                                      [{'name': 'Warner Bros.', 'id': 6194}, {'name': 'Lancaster Gate', 'id': 19464}]                                      [(Warner Bros., 6194), (Lancaster Gate, 19464)]"
      ]
     },
     "execution_count": 69,
     "metadata": {},
     "output_type": "execute_result"
    }
   ],
   "source": [
    "production.limit(3).pandas_api()"
   ]
  },
  {
   "cell_type": "code",
   "execution_count": 70,
   "id": "230c94d5-ac5d-4ffa-9786-07b576859f4b",
   "metadata": {
    "execution": {
     "iopub.execute_input": "2023-05-16T14:44:41.838385Z",
     "iopub.status.busy": "2023-05-16T14:44:41.838199Z",
     "iopub.status.idle": "2023-05-16T14:44:42.330731Z",
     "shell.execute_reply": "2023-05-16T14:44:42.330057Z",
     "shell.execute_reply.started": "2023-05-16T14:44:41.838370Z"
    },
    "tags": []
   },
   "outputs": [
    {
     "name": "stderr",
     "output_type": "stream",
     "text": [
      "23/05/16 11:44:41 WARN TaskSetManager: Stage 97 contains a task of very large size (2218 KiB). The maximum recommended task size is 1000 KiB.\n"
     ]
    }
   ],
   "source": [
    "# Crea una columna para cada elemento de la lista\n",
    "num_cols = production.selectExpr(\"max(size(datos_struct)) as max_cols\").collect()[0][\"max_cols\"]"
   ]
  },
  {
   "cell_type": "code",
   "execution_count": 71,
   "id": "5d05c412-b069-45da-9486-83f9dd1b9af9",
   "metadata": {
    "execution": {
     "iopub.execute_input": "2023-05-16T14:44:42.331864Z",
     "iopub.status.busy": "2023-05-16T14:44:42.331479Z",
     "iopub.status.idle": "2023-05-16T14:44:42.462340Z",
     "shell.execute_reply": "2023-05-16T14:44:42.461709Z",
     "shell.execute_reply.started": "2023-05-16T14:44:42.331829Z"
    },
    "tags": []
   },
   "outputs": [],
   "source": [
    "for i in range(num_cols):\n",
    "    production = production.withColumn(f\"name_{i+1}\", col(\"datos_struct\")[i].getField(\"name\"))"
   ]
  },
  {
   "cell_type": "code",
   "execution_count": 72,
   "id": "5ff55e13-b048-4532-bbc6-998eeb9da35e",
   "metadata": {
    "execution": {
     "iopub.execute_input": "2023-05-16T14:44:42.463357Z",
     "iopub.status.busy": "2023-05-16T14:44:42.463036Z",
     "iopub.status.idle": "2023-05-16T14:44:42.471358Z",
     "shell.execute_reply": "2023-05-16T14:44:42.470583Z",
     "shell.execute_reply.started": "2023-05-16T14:44:42.463334Z"
    },
    "tags": []
   },
   "outputs": [],
   "source": [
    "production = production.drop(\"production_companies\",\"datos_struct\")"
   ]
  },
  {
   "cell_type": "code",
   "execution_count": 73,
   "id": "bd621914-40e6-45a2-8855-87cd7fc0f671",
   "metadata": {
    "execution": {
     "iopub.execute_input": "2023-05-16T14:44:42.472577Z",
     "iopub.status.busy": "2023-05-16T14:44:42.472121Z",
     "iopub.status.idle": "2023-05-16T14:44:42.496861Z",
     "shell.execute_reply": "2023-05-16T14:44:42.496223Z",
     "shell.execute_reply.started": "2023-05-16T14:44:42.472548Z"
    },
    "tags": []
   },
   "outputs": [],
   "source": [
    "from pyspark.sql.functions import concat_ws\n",
    "\n",
    "production = production.select(concat_ws(\"-\", *production.columns).alias(\"production_companies\"))"
   ]
  },
  {
   "cell_type": "code",
   "execution_count": 74,
   "id": "d4c76663-66e5-4334-be2e-1ec4c43dcd61",
   "metadata": {
    "execution": {
     "iopub.execute_input": "2023-05-16T14:44:42.497778Z",
     "iopub.status.busy": "2023-05-16T14:44:42.497559Z",
     "iopub.status.idle": "2023-05-16T14:44:42.847553Z",
     "shell.execute_reply": "2023-05-16T14:44:42.846984Z",
     "shell.execute_reply.started": "2023-05-16T14:44:42.497757Z"
    },
    "tags": []
   },
   "outputs": [
    {
     "name": "stderr",
     "output_type": "stream",
     "text": [
      "23/05/16 11:44:42 WARN TaskSetManager: Stage 100 contains a task of very large size (2218 KiB). The maximum recommended task size is 1000 KiB.\n"
     ]
    },
    {
     "data": {
      "text/html": [
       "<div>\n",
       "<style scoped>\n",
       "    .dataframe tbody tr th:only-of-type {\n",
       "        vertical-align: middle;\n",
       "    }\n",
       "\n",
       "    .dataframe tbody tr th {\n",
       "        vertical-align: top;\n",
       "    }\n",
       "\n",
       "    .dataframe thead th {\n",
       "        text-align: right;\n",
       "    }\n",
       "</style>\n",
       "<table border=\"1\" class=\"dataframe\">\n",
       "  <thead>\n",
       "    <tr style=\"text-align: right;\">\n",
       "      <th></th>\n",
       "      <th>production_companies</th>\n",
       "    </tr>\n",
       "  </thead>\n",
       "  <tbody>\n",
       "    <tr>\n",
       "      <th>0</th>\n",
       "      <td>Pixar Animation Studios</td>\n",
       "    </tr>\n",
       "    <tr>\n",
       "      <th>1</th>\n",
       "      <td>TriStar Pictures-Teitler Film-Interscope Commu...</td>\n",
       "    </tr>\n",
       "    <tr>\n",
       "      <th>2</th>\n",
       "      <td>Warner Bros.-Lancaster Gate</td>\n",
       "    </tr>\n",
       "  </tbody>\n",
       "</table>\n",
       "</div>"
      ],
      "text/plain": [
       "                                      production_companies\n",
       "0                                  Pixar Animation Studios\n",
       "1  TriStar Pictures-Teitler Film-Interscope Communications\n",
       "2                              Warner Bros.-Lancaster Gate"
      ]
     },
     "execution_count": 74,
     "metadata": {},
     "output_type": "execute_result"
    }
   ],
   "source": [
    "production.limit(3).pandas_api()"
   ]
  },
  {
   "cell_type": "code",
   "execution_count": 75,
   "id": "19efce68-496f-477e-843d-81ca5619aadd",
   "metadata": {
    "execution": {
     "iopub.execute_input": "2023-05-16T14:44:42.848519Z",
     "iopub.status.busy": "2023-05-16T14:44:42.848269Z",
     "iopub.status.idle": "2023-05-16T14:44:42.851097Z",
     "shell.execute_reply": "2023-05-16T14:44:42.850600Z",
     "shell.execute_reply.started": "2023-05-16T14:44:42.848480Z"
    },
    "tags": []
   },
   "outputs": [],
   "source": [
    "from pyspark.sql.functions import monotonically_increasing_id"
   ]
  },
  {
   "cell_type": "markdown",
   "id": "761e7888-0065-43e0-9542-00fda1ca8392",
   "metadata": {
    "execution": {
     "iopub.execute_input": "2023-05-11T09:04:09.070180Z",
     "iopub.status.busy": "2023-05-11T09:04:09.069560Z",
     "iopub.status.idle": "2023-05-11T09:04:09.078227Z",
     "shell.execute_reply": "2023-05-11T09:04:09.077703Z",
     "shell.execute_reply.started": "2023-05-11T09:04:09.070146Z"
    },
    "tags": []
   },
   "source": [
    "Crear una columna `key` autoincremetal en Dataframe `dataframe_api`"
   ]
  },
  {
   "cell_type": "code",
   "execution_count": 76,
   "id": "eef8dc9b-ac02-48eb-895b-886bcb1cd763",
   "metadata": {
    "execution": {
     "iopub.execute_input": "2023-05-16T14:44:42.851939Z",
     "iopub.status.busy": "2023-05-16T14:44:42.851785Z",
     "iopub.status.idle": "2023-05-16T14:44:42.862807Z",
     "shell.execute_reply": "2023-05-16T14:44:42.862225Z",
     "shell.execute_reply.started": "2023-05-16T14:44:42.851925Z"
    },
    "tags": []
   },
   "outputs": [],
   "source": [
    "production = production.withColumn('key', monotonically_increasing_id())"
   ]
  },
  {
   "cell_type": "code",
   "execution_count": 77,
   "id": "54d2e331-29e5-42d1-9423-f0ccd1a37617",
   "metadata": {
    "execution": {
     "iopub.execute_input": "2023-05-16T14:44:42.863678Z",
     "iopub.status.busy": "2023-05-16T14:44:42.863387Z",
     "iopub.status.idle": "2023-05-16T14:44:43.217994Z",
     "shell.execute_reply": "2023-05-16T14:44:43.217377Z",
     "shell.execute_reply.started": "2023-05-16T14:44:42.863662Z"
    },
    "tags": []
   },
   "outputs": [
    {
     "name": "stderr",
     "output_type": "stream",
     "text": [
      "23/05/16 11:44:42 WARN TaskSetManager: Stage 103 contains a task of very large size (2218 KiB). The maximum recommended task size is 1000 KiB.\n"
     ]
    },
    {
     "data": {
      "text/html": [
       "<div>\n",
       "<style scoped>\n",
       "    .dataframe tbody tr th:only-of-type {\n",
       "        vertical-align: middle;\n",
       "    }\n",
       "\n",
       "    .dataframe tbody tr th {\n",
       "        vertical-align: top;\n",
       "    }\n",
       "\n",
       "    .dataframe thead th {\n",
       "        text-align: right;\n",
       "    }\n",
       "</style>\n",
       "<table border=\"1\" class=\"dataframe\">\n",
       "  <thead>\n",
       "    <tr style=\"text-align: right;\">\n",
       "      <th></th>\n",
       "      <th>production_companies</th>\n",
       "      <th>key</th>\n",
       "    </tr>\n",
       "  </thead>\n",
       "  <tbody>\n",
       "    <tr>\n",
       "      <th>0</th>\n",
       "      <td>Pixar Animation Studios</td>\n",
       "      <td>0</td>\n",
       "    </tr>\n",
       "    <tr>\n",
       "      <th>1</th>\n",
       "      <td>TriStar Pictures-Teitler Film-Interscope Commu...</td>\n",
       "      <td>1</td>\n",
       "    </tr>\n",
       "    <tr>\n",
       "      <th>2</th>\n",
       "      <td>Warner Bros.-Lancaster Gate</td>\n",
       "      <td>2</td>\n",
       "    </tr>\n",
       "  </tbody>\n",
       "</table>\n",
       "</div>"
      ],
      "text/plain": [
       "                                      production_companies  key\n",
       "0                                  Pixar Animation Studios    0\n",
       "1  TriStar Pictures-Teitler Film-Interscope Communications    1\n",
       "2                              Warner Bros.-Lancaster Gate    2"
      ]
     },
     "execution_count": 77,
     "metadata": {},
     "output_type": "execute_result"
    }
   ],
   "source": [
    "production.limit(3).pandas_api()"
   ]
  },
  {
   "cell_type": "code",
   "execution_count": 78,
   "id": "b5ce537b-22b8-4086-9433-b34c432f0858",
   "metadata": {
    "execution": {
     "iopub.execute_input": "2023-05-16T14:44:43.218997Z",
     "iopub.status.busy": "2023-05-16T14:44:43.218742Z",
     "iopub.status.idle": "2023-05-16T14:44:43.229950Z",
     "shell.execute_reply": "2023-05-16T14:44:43.229337Z",
     "shell.execute_reply.started": "2023-05-16T14:44:43.218980Z"
    },
    "tags": []
   },
   "outputs": [],
   "source": [
    "from pyspark.sql.functions import split, explode\n",
    "\n",
    "# Separar los países por guion y convertir la columna en varias filas\n",
    "\n",
    "production = production.select(col(\"key\"), explode(split(col(\"production_companies\"), \"-\")).alias(\"companies\"))"
   ]
  },
  {
   "cell_type": "code",
   "execution_count": 79,
   "id": "f9a8fc12-119e-42cb-b8fd-f3303e0094bf",
   "metadata": {
    "execution": {
     "iopub.execute_input": "2023-05-16T14:44:43.230949Z",
     "iopub.status.busy": "2023-05-16T14:44:43.230762Z",
     "iopub.status.idle": "2023-05-16T14:44:43.589662Z",
     "shell.execute_reply": "2023-05-16T14:44:43.589082Z",
     "shell.execute_reply.started": "2023-05-16T14:44:43.230933Z"
    },
    "tags": []
   },
   "outputs": [
    {
     "name": "stderr",
     "output_type": "stream",
     "text": [
      "23/05/16 11:44:43 WARN TaskSetManager: Stage 106 contains a task of very large size (2218 KiB). The maximum recommended task size is 1000 KiB.\n"
     ]
    },
    {
     "data": {
      "text/html": [
       "<div>\n",
       "<style scoped>\n",
       "    .dataframe tbody tr th:only-of-type {\n",
       "        vertical-align: middle;\n",
       "    }\n",
       "\n",
       "    .dataframe tbody tr th {\n",
       "        vertical-align: top;\n",
       "    }\n",
       "\n",
       "    .dataframe thead th {\n",
       "        text-align: right;\n",
       "    }\n",
       "</style>\n",
       "<table border=\"1\" class=\"dataframe\">\n",
       "  <thead>\n",
       "    <tr style=\"text-align: right;\">\n",
       "      <th></th>\n",
       "      <th>key</th>\n",
       "      <th>companies</th>\n",
       "    </tr>\n",
       "  </thead>\n",
       "  <tbody>\n",
       "    <tr>\n",
       "      <th>0</th>\n",
       "      <td>0</td>\n",
       "      <td>Pixar Animation Studios</td>\n",
       "    </tr>\n",
       "    <tr>\n",
       "      <th>1</th>\n",
       "      <td>1</td>\n",
       "      <td>TriStar Pictures</td>\n",
       "    </tr>\n",
       "    <tr>\n",
       "      <th>2</th>\n",
       "      <td>1</td>\n",
       "      <td>Teitler Film</td>\n",
       "    </tr>\n",
       "    <tr>\n",
       "      <th>3</th>\n",
       "      <td>1</td>\n",
       "      <td>Interscope Communications</td>\n",
       "    </tr>\n",
       "    <tr>\n",
       "      <th>4</th>\n",
       "      <td>2</td>\n",
       "      <td>Warner Bros.</td>\n",
       "    </tr>\n",
       "  </tbody>\n",
       "</table>\n",
       "</div>"
      ],
      "text/plain": [
       "   key                  companies\n",
       "0    0    Pixar Animation Studios\n",
       "1    1           TriStar Pictures\n",
       "2    1               Teitler Film\n",
       "3    1  Interscope Communications\n",
       "4    2               Warner Bros."
      ]
     },
     "execution_count": 79,
     "metadata": {},
     "output_type": "execute_result"
    }
   ],
   "source": [
    "production.limit(5).pandas_api()"
   ]
  },
  {
   "cell_type": "markdown",
   "id": "5a48c759-d932-4067-91db-365243caf48d",
   "metadata": {},
   "source": [
    "Unir dataframe `dataframe_api` y `production`"
   ]
  },
  {
   "cell_type": "code",
   "execution_count": 80,
   "id": "d0772e61-bac8-43d9-a437-ba53e52b3038",
   "metadata": {
    "execution": {
     "iopub.execute_input": "2023-05-16T14:44:43.590659Z",
     "iopub.status.busy": "2023-05-16T14:44:43.590480Z",
     "iopub.status.idle": "2023-05-16T14:44:43.605440Z",
     "shell.execute_reply": "2023-05-16T14:44:43.604811Z",
     "shell.execute_reply.started": "2023-05-16T14:44:43.590643Z"
    },
    "tags": []
   },
   "outputs": [],
   "source": [
    "production = dataframe_api.join(production, 'key', 'inner')"
   ]
  },
  {
   "cell_type": "code",
   "execution_count": 81,
   "id": "33ba8821-96f4-43f7-9635-155a026566ba",
   "metadata": {
    "execution": {
     "iopub.execute_input": "2023-05-16T14:44:43.606399Z",
     "iopub.status.busy": "2023-05-16T14:44:43.606191Z",
     "iopub.status.idle": "2023-05-16T14:44:43.620010Z",
     "shell.execute_reply": "2023-05-16T14:44:43.619118Z",
     "shell.execute_reply.started": "2023-05-16T14:44:43.606382Z"
    },
    "tags": []
   },
   "outputs": [],
   "source": [
    "production = production.select(col(\"key\"), col(\"companies\"), col(\"profit\"))"
   ]
  },
  {
   "cell_type": "code",
   "execution_count": 82,
   "id": "e2482058-65a5-41cd-9efd-0e02dfa83fa9",
   "metadata": {
    "execution": {
     "iopub.execute_input": "2023-05-16T14:44:43.621271Z",
     "iopub.status.busy": "2023-05-16T14:44:43.620986Z",
     "iopub.status.idle": "2023-05-16T14:44:45.320773Z",
     "shell.execute_reply": "2023-05-16T14:44:45.320193Z",
     "shell.execute_reply.started": "2023-05-16T14:44:43.621245Z"
    },
    "tags": []
   },
   "outputs": [
    {
     "name": "stderr",
     "output_type": "stream",
     "text": [
      "23/05/16 11:44:43 WARN TaskSetManager: Stage 109 contains a task of very large size (2218 KiB). The maximum recommended task size is 1000 KiB.\n",
      "23/05/16 11:44:44 WARN TaskSetManager: Stage 110 contains a task of very large size (2218 KiB). The maximum recommended task size is 1000 KiB.\n",
      "23/05/16 11:44:44 WARN TaskSetManager: Stage 111 contains a task of very large size (2218 KiB). The maximum recommended task size is 1000 KiB.\n",
      "                                                                                \r"
     ]
    },
    {
     "data": {
      "text/html": [
       "<div>\n",
       "<style scoped>\n",
       "    .dataframe tbody tr th:only-of-type {\n",
       "        vertical-align: middle;\n",
       "    }\n",
       "\n",
       "    .dataframe tbody tr th {\n",
       "        vertical-align: top;\n",
       "    }\n",
       "\n",
       "    .dataframe thead th {\n",
       "        text-align: right;\n",
       "    }\n",
       "</style>\n",
       "<table border=\"1\" class=\"dataframe\">\n",
       "  <thead>\n",
       "    <tr style=\"text-align: right;\">\n",
       "      <th></th>\n",
       "      <th>key</th>\n",
       "      <th>companies</th>\n",
       "      <th>profit</th>\n",
       "    </tr>\n",
       "  </thead>\n",
       "  <tbody>\n",
       "    <tr>\n",
       "      <th>0</th>\n",
       "      <td>0</td>\n",
       "      <td>Pixar Animation Studios</td>\n",
       "      <td>343554033</td>\n",
       "    </tr>\n",
       "    <tr>\n",
       "      <th>1</th>\n",
       "      <td>1</td>\n",
       "      <td>Teitler Film</td>\n",
       "      <td>197797249</td>\n",
       "    </tr>\n",
       "    <tr>\n",
       "      <th>2</th>\n",
       "      <td>1</td>\n",
       "      <td>Interscope Communications</td>\n",
       "      <td>197797249</td>\n",
       "    </tr>\n",
       "    <tr>\n",
       "      <th>3</th>\n",
       "      <td>1</td>\n",
       "      <td>TriStar Pictures</td>\n",
       "      <td>197797249</td>\n",
       "    </tr>\n",
       "    <tr>\n",
       "      <th>4</th>\n",
       "      <td>2</td>\n",
       "      <td>Lancaster Gate</td>\n",
       "      <td>0</td>\n",
       "    </tr>\n",
       "  </tbody>\n",
       "</table>\n",
       "</div>"
      ],
      "text/plain": [
       "   key                  companies     profit\n",
       "0    0    Pixar Animation Studios  343554033\n",
       "1    1               Teitler Film  197797249\n",
       "2    1  Interscope Communications  197797249\n",
       "3    1           TriStar Pictures  197797249\n",
       "4    2             Lancaster Gate          0"
      ]
     },
     "execution_count": 82,
     "metadata": {},
     "output_type": "execute_result"
    }
   ],
   "source": [
    "#production.limit(5).pandas_api()\n",
    "production.orderBy(asc(\"key\")).limit(5).pandas_api()"
   ]
  },
  {
   "cell_type": "code",
   "execution_count": 83,
   "id": "3516aded-9247-47c8-aff7-738f10daa4c3",
   "metadata": {
    "execution": {
     "iopub.execute_input": "2023-05-16T14:44:45.321494Z",
     "iopub.status.busy": "2023-05-16T14:44:45.321344Z",
     "iopub.status.idle": "2023-05-16T14:44:46.479408Z",
     "shell.execute_reply": "2023-05-16T14:44:46.478709Z",
     "shell.execute_reply.started": "2023-05-16T14:44:45.321480Z"
    },
    "tags": []
   },
   "outputs": [
    {
     "name": "stderr",
     "output_type": "stream",
     "text": [
      "23/05/16 11:44:45 WARN TaskSetManager: Stage 118 contains a task of very large size (2218 KiB). The maximum recommended task size is 1000 KiB.\n",
      "23/05/16 11:44:45 WARN TaskSetManager: Stage 119 contains a task of very large size (2218 KiB). The maximum recommended task size is 1000 KiB.\n",
      "                                                                                \r"
     ]
    },
    {
     "data": {
      "text/plain": [
       "86659"
      ]
     },
     "execution_count": 83,
     "metadata": {},
     "output_type": "execute_result"
    }
   ],
   "source": [
    "production.count()"
   ]
  },
  {
   "cell_type": "code",
   "execution_count": null,
   "id": "36e1665a-80db-4582-8211-e7deed009ec4",
   "metadata": {},
   "outputs": [],
   "source": []
  },
  {
   "cell_type": "code",
   "execution_count": 84,
   "id": "0f02d049-5a7a-45eb-a478-539acfb4616e",
   "metadata": {
    "execution": {
     "iopub.execute_input": "2023-05-16T14:44:46.480722Z",
     "iopub.status.busy": "2023-05-16T14:44:46.480415Z",
     "iopub.status.idle": "2023-05-16T14:44:50.857595Z",
     "shell.execute_reply": "2023-05-16T14:44:50.857017Z",
     "shell.execute_reply.started": "2023-05-16T14:44:46.480701Z"
    },
    "tags": []
   },
   "outputs": [],
   "source": [
    "data_ML = spark.createDataFrame(data)"
   ]
  },
  {
   "cell_type": "code",
   "execution_count": 85,
   "id": "297f8d59-c477-4b04-85ec-45dab918c868",
   "metadata": {
    "execution": {
     "iopub.execute_input": "2023-05-16T14:44:50.858774Z",
     "iopub.status.busy": "2023-05-16T14:44:50.858201Z",
     "iopub.status.idle": "2023-05-16T14:44:50.864827Z",
     "shell.execute_reply": "2023-05-16T14:44:50.864249Z",
     "shell.execute_reply.started": "2023-05-16T14:44:50.858758Z"
    },
    "tags": []
   },
   "outputs": [],
   "source": [
    "genres = data_ML.select(col(\"genres\"))"
   ]
  },
  {
   "cell_type": "code",
   "execution_count": 86,
   "id": "b2afff27-1159-408b-bf7c-939f2856790f",
   "metadata": {
    "execution": {
     "iopub.execute_input": "2023-05-16T14:44:50.865900Z",
     "iopub.status.busy": "2023-05-16T14:44:50.865646Z",
     "iopub.status.idle": "2023-05-16T14:44:51.114935Z",
     "shell.execute_reply": "2023-05-16T14:44:51.114362Z",
     "shell.execute_reply.started": "2023-05-16T14:44:50.865879Z"
    },
    "tags": []
   },
   "outputs": [
    {
     "name": "stderr",
     "output_type": "stream",
     "text": [
      "23/05/16 11:44:50 WARN TaskSetManager: Stage 129 contains a task of very large size (2218 KiB). The maximum recommended task size is 1000 KiB.\n"
     ]
    },
    {
     "data": {
      "text/html": [
       "<div>\n",
       "<style scoped>\n",
       "    .dataframe tbody tr th:only-of-type {\n",
       "        vertical-align: middle;\n",
       "    }\n",
       "\n",
       "    .dataframe tbody tr th {\n",
       "        vertical-align: top;\n",
       "    }\n",
       "\n",
       "    .dataframe thead th {\n",
       "        text-align: right;\n",
       "    }\n",
       "</style>\n",
       "<table border=\"1\" class=\"dataframe\">\n",
       "  <thead>\n",
       "    <tr style=\"text-align: right;\">\n",
       "      <th></th>\n",
       "      <th>genres</th>\n",
       "    </tr>\n",
       "  </thead>\n",
       "  <tbody>\n",
       "    <tr>\n",
       "      <th>0</th>\n",
       "      <td>[{'id': 16, 'name': 'Animation'}, {'id': 35, '...</td>\n",
       "    </tr>\n",
       "    <tr>\n",
       "      <th>1</th>\n",
       "      <td>[{'id': 12, 'name': 'Adventure'}, {'id': 14, '...</td>\n",
       "    </tr>\n",
       "    <tr>\n",
       "      <th>2</th>\n",
       "      <td>[{'id': 10749, 'name': 'Romance'}, {'id': 35, ...</td>\n",
       "    </tr>\n",
       "  </tbody>\n",
       "</table>\n",
       "</div>"
      ],
      "text/plain": [
       "                                                                                              genres\n",
       "0   [{'id': 16, 'name': 'Animation'}, {'id': 35, 'name': 'Comedy'}, {'id': 10751, 'name': 'Family'}]\n",
       "1  [{'id': 12, 'name': 'Adventure'}, {'id': 14, 'name': 'Fantasy'}, {'id': 10751, 'name': 'Family'}]\n",
       "2                                   [{'id': 10749, 'name': 'Romance'}, {'id': 35, 'name': 'Comedy'}]"
      ]
     },
     "execution_count": 86,
     "metadata": {},
     "output_type": "execute_result"
    }
   ],
   "source": [
    "genres.limit(3).pandas_api()"
   ]
  },
  {
   "cell_type": "code",
   "execution_count": 87,
   "id": "f8db8775-4040-4959-963d-0d61cce88772",
   "metadata": {
    "execution": {
     "iopub.execute_input": "2023-05-16T14:44:51.115902Z",
     "iopub.status.busy": "2023-05-16T14:44:51.115717Z",
     "iopub.status.idle": "2023-05-16T14:44:51.123920Z",
     "shell.execute_reply": "2023-05-16T14:44:51.123225Z",
     "shell.execute_reply.started": "2023-05-16T14:44:51.115887Z"
    },
    "tags": []
   },
   "outputs": [],
   "source": [
    "from pyspark.sql.functions import from_json, col\n",
    "\n",
    "# Define el esquema de datos JSON\n",
    "json_schema = \"array<struct<id:int, name:string>>\"\n",
    "\n",
    "# Convierte la columna de JSON a una estructura de Spark\n",
    "genres = genres.withColumn(\"datos_struct\", from_json(col(\"genres\"), json_schema))"
   ]
  },
  {
   "cell_type": "code",
   "execution_count": 88,
   "id": "81ee9a94-22b8-4551-b4bb-82c08153f9a7",
   "metadata": {
    "execution": {
     "iopub.execute_input": "2023-05-16T14:44:51.124761Z",
     "iopub.status.busy": "2023-05-16T14:44:51.124592Z",
     "iopub.status.idle": "2023-05-16T14:44:51.506768Z",
     "shell.execute_reply": "2023-05-16T14:44:51.506123Z",
     "shell.execute_reply.started": "2023-05-16T14:44:51.124746Z"
    },
    "tags": []
   },
   "outputs": [
    {
     "name": "stderr",
     "output_type": "stream",
     "text": [
      "23/05/16 11:44:51 WARN TaskSetManager: Stage 132 contains a task of very large size (2218 KiB). The maximum recommended task size is 1000 KiB.\n"
     ]
    },
    {
     "data": {
      "text/html": [
       "<div>\n",
       "<style scoped>\n",
       "    .dataframe tbody tr th:only-of-type {\n",
       "        vertical-align: middle;\n",
       "    }\n",
       "\n",
       "    .dataframe tbody tr th {\n",
       "        vertical-align: top;\n",
       "    }\n",
       "\n",
       "    .dataframe thead th {\n",
       "        text-align: right;\n",
       "    }\n",
       "</style>\n",
       "<table border=\"1\" class=\"dataframe\">\n",
       "  <thead>\n",
       "    <tr style=\"text-align: right;\">\n",
       "      <th></th>\n",
       "      <th>genres</th>\n",
       "      <th>datos_struct</th>\n",
       "    </tr>\n",
       "  </thead>\n",
       "  <tbody>\n",
       "    <tr>\n",
       "      <th>0</th>\n",
       "      <td>[{'id': 16, 'name': 'Animation'}, {'id': 35, '...</td>\n",
       "      <td>[(16, Animation), (35, Comedy), (10751, Family)]</td>\n",
       "    </tr>\n",
       "    <tr>\n",
       "      <th>1</th>\n",
       "      <td>[{'id': 12, 'name': 'Adventure'}, {'id': 14, '...</td>\n",
       "      <td>[(12, Adventure), (14, Fantasy), (10751, Family)]</td>\n",
       "    </tr>\n",
       "    <tr>\n",
       "      <th>2</th>\n",
       "      <td>[{'id': 10749, 'name': 'Romance'}, {'id': 35, ...</td>\n",
       "      <td>[(10749, Romance), (35, Comedy)]</td>\n",
       "    </tr>\n",
       "  </tbody>\n",
       "</table>\n",
       "</div>"
      ],
      "text/plain": [
       "                                                                                              genres                                       datos_struct\n",
       "0   [{'id': 16, 'name': 'Animation'}, {'id': 35, 'name': 'Comedy'}, {'id': 10751, 'name': 'Family'}]   [(16, Animation), (35, Comedy), (10751, Family)]\n",
       "1  [{'id': 12, 'name': 'Adventure'}, {'id': 14, 'name': 'Fantasy'}, {'id': 10751, 'name': 'Family'}]  [(12, Adventure), (14, Fantasy), (10751, Family)]\n",
       "2                                   [{'id': 10749, 'name': 'Romance'}, {'id': 35, 'name': 'Comedy'}]                   [(10749, Romance), (35, Comedy)]"
      ]
     },
     "execution_count": 88,
     "metadata": {},
     "output_type": "execute_result"
    }
   ],
   "source": [
    "genres.limit(3).pandas_api()"
   ]
  },
  {
   "cell_type": "code",
   "execution_count": 89,
   "id": "bb607d08-f6dd-4f3b-a1f4-69b0ad9d372a",
   "metadata": {
    "execution": {
     "iopub.execute_input": "2023-05-16T14:44:51.507982Z",
     "iopub.status.busy": "2023-05-16T14:44:51.507689Z",
     "iopub.status.idle": "2023-05-16T14:44:51.987290Z",
     "shell.execute_reply": "2023-05-16T14:44:51.986658Z",
     "shell.execute_reply.started": "2023-05-16T14:44:51.507959Z"
    },
    "tags": []
   },
   "outputs": [
    {
     "name": "stderr",
     "output_type": "stream",
     "text": [
      "23/05/16 11:44:51 WARN TaskSetManager: Stage 135 contains a task of very large size (2218 KiB). The maximum recommended task size is 1000 KiB.\n"
     ]
    }
   ],
   "source": [
    "# Crea una columna para cada elemento de la lista\n",
    "num_cols = genres.selectExpr(\"max(size(datos_struct)) as max_cols\").collect()[0][\"max_cols\"]\n",
    "for i in range(num_cols):\n",
    "    genres = genres.withColumn(f\"name_{i+1}\", col(\"datos_struct\")[i].getField(\"name\"))"
   ]
  },
  {
   "cell_type": "code",
   "execution_count": 90,
   "id": "708e61d5-b039-4926-a9b1-b420a2a77e7f",
   "metadata": {
    "execution": {
     "iopub.execute_input": "2023-05-16T14:44:51.988057Z",
     "iopub.status.busy": "2023-05-16T14:44:51.987815Z",
     "iopub.status.idle": "2023-05-16T14:44:51.993480Z",
     "shell.execute_reply": "2023-05-16T14:44:51.992842Z",
     "shell.execute_reply.started": "2023-05-16T14:44:51.988042Z"
    },
    "tags": []
   },
   "outputs": [],
   "source": [
    "genres = genres.drop(\"genres\",\"datos_struct\")"
   ]
  },
  {
   "cell_type": "code",
   "execution_count": 91,
   "id": "47e063f9-a4c3-47a0-96c5-bd84835e9fc7",
   "metadata": {
    "execution": {
     "iopub.execute_input": "2023-05-16T14:44:51.994898Z",
     "iopub.status.busy": "2023-05-16T14:44:51.994388Z",
     "iopub.status.idle": "2023-05-16T14:44:52.008676Z",
     "shell.execute_reply": "2023-05-16T14:44:52.007980Z",
     "shell.execute_reply.started": "2023-05-16T14:44:51.994873Z"
    },
    "tags": []
   },
   "outputs": [],
   "source": [
    "from pyspark.sql.functions import concat_ws\n",
    "\n",
    "genres = genres.select(concat_ws(\"-\", *genres.columns).alias(\"genres\"))\n",
    "\n"
   ]
  },
  {
   "cell_type": "code",
   "execution_count": 92,
   "id": "b67e30eb-882b-4325-87b7-3868c64a9824",
   "metadata": {
    "execution": {
     "iopub.execute_input": "2023-05-16T14:44:52.009804Z",
     "iopub.status.busy": "2023-05-16T14:44:52.009546Z",
     "iopub.status.idle": "2023-05-16T14:44:52.328096Z",
     "shell.execute_reply": "2023-05-16T14:44:52.327502Z",
     "shell.execute_reply.started": "2023-05-16T14:44:52.009779Z"
    },
    "tags": []
   },
   "outputs": [
    {
     "name": "stderr",
     "output_type": "stream",
     "text": [
      "23/05/16 11:44:52 WARN TaskSetManager: Stage 138 contains a task of very large size (2218 KiB). The maximum recommended task size is 1000 KiB.\n"
     ]
    },
    {
     "data": {
      "text/html": [
       "<div>\n",
       "<style scoped>\n",
       "    .dataframe tbody tr th:only-of-type {\n",
       "        vertical-align: middle;\n",
       "    }\n",
       "\n",
       "    .dataframe tbody tr th {\n",
       "        vertical-align: top;\n",
       "    }\n",
       "\n",
       "    .dataframe thead th {\n",
       "        text-align: right;\n",
       "    }\n",
       "</style>\n",
       "<table border=\"1\" class=\"dataframe\">\n",
       "  <thead>\n",
       "    <tr style=\"text-align: right;\">\n",
       "      <th></th>\n",
       "      <th>genres</th>\n",
       "    </tr>\n",
       "  </thead>\n",
       "  <tbody>\n",
       "    <tr>\n",
       "      <th>0</th>\n",
       "      <td>Animation-Comedy-Family</td>\n",
       "    </tr>\n",
       "    <tr>\n",
       "      <th>1</th>\n",
       "      <td>Adventure-Fantasy-Family</td>\n",
       "    </tr>\n",
       "    <tr>\n",
       "      <th>2</th>\n",
       "      <td>Romance-Comedy</td>\n",
       "    </tr>\n",
       "  </tbody>\n",
       "</table>\n",
       "</div>"
      ],
      "text/plain": [
       "                     genres\n",
       "0   Animation-Comedy-Family\n",
       "1  Adventure-Fantasy-Family\n",
       "2            Romance-Comedy"
      ]
     },
     "execution_count": 92,
     "metadata": {},
     "output_type": "execute_result"
    }
   ],
   "source": [
    "genres.limit(3).pandas_api()"
   ]
  },
  {
   "cell_type": "code",
   "execution_count": 93,
   "id": "e4d5da7d-27dc-4216-848c-530c227fd98f",
   "metadata": {
    "execution": {
     "iopub.execute_input": "2023-05-16T14:44:52.328909Z",
     "iopub.status.busy": "2023-05-16T14:44:52.328730Z",
     "iopub.status.idle": "2023-05-16T14:44:52.690679Z",
     "shell.execute_reply": "2023-05-16T14:44:52.690122Z",
     "shell.execute_reply.started": "2023-05-16T14:44:52.328892Z"
    },
    "tags": []
   },
   "outputs": [
    {
     "name": "stderr",
     "output_type": "stream",
     "text": [
      "23/05/16 11:44:52 WARN TaskSetManager: Stage 141 contains a task of very large size (2218 KiB). The maximum recommended task size is 1000 KiB.\n"
     ]
    },
    {
     "data": {
      "text/plain": [
       "45466"
      ]
     },
     "execution_count": 93,
     "metadata": {},
     "output_type": "execute_result"
    }
   ],
   "source": [
    "genres.count()"
   ]
  },
  {
   "cell_type": "code",
   "execution_count": 94,
   "id": "e2b17c98-aa53-4caf-b621-b946a4dd0d80",
   "metadata": {
    "execution": {
     "iopub.execute_input": "2023-05-16T14:44:52.691508Z",
     "iopub.status.busy": "2023-05-16T14:44:52.691341Z",
     "iopub.status.idle": "2023-05-16T14:44:52.694479Z",
     "shell.execute_reply": "2023-05-16T14:44:52.693953Z",
     "shell.execute_reply.started": "2023-05-16T14:44:52.691493Z"
    },
    "tags": []
   },
   "outputs": [],
   "source": [
    "from pyspark.sql.functions import monotonically_increasing_id"
   ]
  },
  {
   "cell_type": "markdown",
   "id": "0dd19ff2-f5fc-4237-be69-d6a208e90dc9",
   "metadata": {
    "execution": {
     "iopub.execute_input": "2023-05-11T09:04:09.070180Z",
     "iopub.status.busy": "2023-05-11T09:04:09.069560Z",
     "iopub.status.idle": "2023-05-11T09:04:09.078227Z",
     "shell.execute_reply": "2023-05-11T09:04:09.077703Z",
     "shell.execute_reply.started": "2023-05-11T09:04:09.070146Z"
    },
    "tags": []
   },
   "source": [
    "Crear una columna `key` autoincremetal en Dataframe `genres`"
   ]
  },
  {
   "cell_type": "code",
   "execution_count": 95,
   "id": "48d89024-bac4-4649-af82-3a68d353e112",
   "metadata": {
    "execution": {
     "iopub.execute_input": "2023-05-16T14:44:52.695410Z",
     "iopub.status.busy": "2023-05-16T14:44:52.695139Z",
     "iopub.status.idle": "2023-05-16T14:44:52.705792Z",
     "shell.execute_reply": "2023-05-16T14:44:52.705069Z",
     "shell.execute_reply.started": "2023-05-16T14:44:52.695394Z"
    },
    "tags": []
   },
   "outputs": [],
   "source": [
    "genres = genres.withColumn('key', monotonically_increasing_id())"
   ]
  },
  {
   "cell_type": "code",
   "execution_count": 96,
   "id": "3a952ed8-281d-4dee-8f82-a0157feda52e",
   "metadata": {
    "execution": {
     "iopub.execute_input": "2023-05-16T14:44:52.707058Z",
     "iopub.status.busy": "2023-05-16T14:44:52.706751Z",
     "iopub.status.idle": "2023-05-16T14:44:53.017222Z",
     "shell.execute_reply": "2023-05-16T14:44:53.016600Z",
     "shell.execute_reply.started": "2023-05-16T14:44:52.707037Z"
    },
    "tags": []
   },
   "outputs": [
    {
     "name": "stderr",
     "output_type": "stream",
     "text": [
      "23/05/16 11:44:52 WARN TaskSetManager: Stage 144 contains a task of very large size (2218 KiB). The maximum recommended task size is 1000 KiB.\n"
     ]
    },
    {
     "data": {
      "text/html": [
       "<div>\n",
       "<style scoped>\n",
       "    .dataframe tbody tr th:only-of-type {\n",
       "        vertical-align: middle;\n",
       "    }\n",
       "\n",
       "    .dataframe tbody tr th {\n",
       "        vertical-align: top;\n",
       "    }\n",
       "\n",
       "    .dataframe thead th {\n",
       "        text-align: right;\n",
       "    }\n",
       "</style>\n",
       "<table border=\"1\" class=\"dataframe\">\n",
       "  <thead>\n",
       "    <tr style=\"text-align: right;\">\n",
       "      <th></th>\n",
       "      <th>genres</th>\n",
       "      <th>key</th>\n",
       "    </tr>\n",
       "  </thead>\n",
       "  <tbody>\n",
       "    <tr>\n",
       "      <th>0</th>\n",
       "      <td>Animation-Comedy-Family</td>\n",
       "      <td>0</td>\n",
       "    </tr>\n",
       "    <tr>\n",
       "      <th>1</th>\n",
       "      <td>Adventure-Fantasy-Family</td>\n",
       "      <td>1</td>\n",
       "    </tr>\n",
       "    <tr>\n",
       "      <th>2</th>\n",
       "      <td>Romance-Comedy</td>\n",
       "      <td>2</td>\n",
       "    </tr>\n",
       "  </tbody>\n",
       "</table>\n",
       "</div>"
      ],
      "text/plain": [
       "                     genres  key\n",
       "0   Animation-Comedy-Family    0\n",
       "1  Adventure-Fantasy-Family    1\n",
       "2            Romance-Comedy    2"
      ]
     },
     "execution_count": 96,
     "metadata": {},
     "output_type": "execute_result"
    }
   ],
   "source": [
    "genres.limit(3).pandas_api()"
   ]
  },
  {
   "cell_type": "code",
   "execution_count": 97,
   "id": "735c8cd6-3b67-4d44-9127-3609353e950e",
   "metadata": {
    "execution": {
     "iopub.execute_input": "2023-05-16T14:44:53.018019Z",
     "iopub.status.busy": "2023-05-16T14:44:53.017859Z",
     "iopub.status.idle": "2023-05-16T14:44:53.023338Z",
     "shell.execute_reply": "2023-05-16T14:44:53.022688Z",
     "shell.execute_reply.started": "2023-05-16T14:44:53.018005Z"
    },
    "tags": []
   },
   "outputs": [
    {
     "data": {
      "text/plain": [
       "DataFrame[genres: string, key: bigint]"
      ]
     },
     "execution_count": 97,
     "metadata": {},
     "output_type": "execute_result"
    }
   ],
   "source": [
    "genres"
   ]
  },
  {
   "cell_type": "code",
   "execution_count": 98,
   "id": "847e5043-e320-4bf8-871f-2723b0ab8f92",
   "metadata": {
    "execution": {
     "iopub.execute_input": "2023-05-16T14:44:53.024850Z",
     "iopub.status.busy": "2023-05-16T14:44:53.024297Z",
     "iopub.status.idle": "2023-05-16T14:44:53.030742Z",
     "shell.execute_reply": "2023-05-16T14:44:53.029949Z",
     "shell.execute_reply.started": "2023-05-16T14:44:53.024826Z"
    },
    "tags": []
   },
   "outputs": [],
   "source": [
    "#movie.limit(4).pandas_api()"
   ]
  },
  {
   "cell_type": "code",
   "execution_count": null,
   "id": "851a5268-b4ff-4c34-8118-9491f4bea78f",
   "metadata": {},
   "outputs": [],
   "source": []
  },
  {
   "cell_type": "code",
   "execution_count": 99,
   "id": "ba9c0ef0-37d1-4c18-bb85-31bc78f7a7c9",
   "metadata": {
    "execution": {
     "iopub.execute_input": "2023-05-16T14:44:53.032264Z",
     "iopub.status.busy": "2023-05-16T14:44:53.031811Z",
     "iopub.status.idle": "2023-05-16T14:44:57.442286Z",
     "shell.execute_reply": "2023-05-16T14:44:57.441740Z",
     "shell.execute_reply.started": "2023-05-16T14:44:53.032239Z"
    },
    "tags": []
   },
   "outputs": [],
   "source": [
    "data_genres = spark.createDataFrame(data)"
   ]
  },
  {
   "cell_type": "code",
   "execution_count": 100,
   "id": "ef3db991-0c91-40bd-aa3f-f3199a4d6687",
   "metadata": {
    "execution": {
     "iopub.execute_input": "2023-05-16T14:44:57.443120Z",
     "iopub.status.busy": "2023-05-16T14:44:57.442957Z",
     "iopub.status.idle": "2023-05-16T14:44:57.450321Z",
     "shell.execute_reply": "2023-05-16T14:44:57.449623Z",
     "shell.execute_reply.started": "2023-05-16T14:44:57.443106Z"
    },
    "tags": []
   },
   "outputs": [],
   "source": [
    "title = data_genres.select(col(\"original_title\"), col(\"vote_average\"),col(\"vote_count\"))"
   ]
  },
  {
   "cell_type": "code",
   "execution_count": 101,
   "id": "a5f5214e-eaf0-4989-8f80-1ed51f96f9ee",
   "metadata": {
    "execution": {
     "iopub.execute_input": "2023-05-16T14:44:57.451574Z",
     "iopub.status.busy": "2023-05-16T14:44:57.451180Z",
     "iopub.status.idle": "2023-05-16T14:44:57.732959Z",
     "shell.execute_reply": "2023-05-16T14:44:57.732356Z",
     "shell.execute_reply.started": "2023-05-16T14:44:57.451547Z"
    },
    "tags": []
   },
   "outputs": [
    {
     "name": "stderr",
     "output_type": "stream",
     "text": [
      "23/05/16 11:44:57 WARN TaskSetManager: Stage 147 contains a task of very large size (2218 KiB). The maximum recommended task size is 1000 KiB.\n"
     ]
    },
    {
     "data": {
      "text/html": [
       "<div>\n",
       "<style scoped>\n",
       "    .dataframe tbody tr th:only-of-type {\n",
       "        vertical-align: middle;\n",
       "    }\n",
       "\n",
       "    .dataframe tbody tr th {\n",
       "        vertical-align: top;\n",
       "    }\n",
       "\n",
       "    .dataframe thead th {\n",
       "        text-align: right;\n",
       "    }\n",
       "</style>\n",
       "<table border=\"1\" class=\"dataframe\">\n",
       "  <thead>\n",
       "    <tr style=\"text-align: right;\">\n",
       "      <th></th>\n",
       "      <th>original_title</th>\n",
       "      <th>vote_average</th>\n",
       "      <th>vote_count</th>\n",
       "    </tr>\n",
       "  </thead>\n",
       "  <tbody>\n",
       "    <tr>\n",
       "      <th>0</th>\n",
       "      <td>Toy Story</td>\n",
       "      <td>7.7</td>\n",
       "      <td>5415</td>\n",
       "    </tr>\n",
       "    <tr>\n",
       "      <th>1</th>\n",
       "      <td>Jumanji</td>\n",
       "      <td>6.9</td>\n",
       "      <td>2413</td>\n",
       "    </tr>\n",
       "    <tr>\n",
       "      <th>2</th>\n",
       "      <td>Grumpier Old Men</td>\n",
       "      <td>6.5</td>\n",
       "      <td>92</td>\n",
       "    </tr>\n",
       "    <tr>\n",
       "      <th>3</th>\n",
       "      <td>Waiting to Exhale</td>\n",
       "      <td>6.1</td>\n",
       "      <td>34</td>\n",
       "    </tr>\n",
       "  </tbody>\n",
       "</table>\n",
       "</div>"
      ],
      "text/plain": [
       "      original_title vote_average vote_count\n",
       "0          Toy Story          7.7       5415\n",
       "1            Jumanji          6.9       2413\n",
       "2   Grumpier Old Men          6.5         92\n",
       "3  Waiting to Exhale          6.1         34"
      ]
     },
     "execution_count": 101,
     "metadata": {},
     "output_type": "execute_result"
    }
   ],
   "source": [
    "title.limit(4).pandas_api()"
   ]
  },
  {
   "cell_type": "markdown",
   "id": "9654257e-fec8-4de1-9ccc-223b868d42a0",
   "metadata": {
    "execution": {
     "iopub.execute_input": "2023-05-11T09:04:09.070180Z",
     "iopub.status.busy": "2023-05-11T09:04:09.069560Z",
     "iopub.status.idle": "2023-05-11T09:04:09.078227Z",
     "shell.execute_reply": "2023-05-11T09:04:09.077703Z",
     "shell.execute_reply.started": "2023-05-11T09:04:09.070146Z"
    },
    "tags": []
   },
   "source": [
    "Crear una columna `key` autoincremetal en Dataframe `collection`"
   ]
  },
  {
   "cell_type": "code",
   "execution_count": 102,
   "id": "dd283c2b-c4bf-4615-b546-8e38502757f2",
   "metadata": {
    "execution": {
     "iopub.execute_input": "2023-05-16T14:44:57.733906Z",
     "iopub.status.busy": "2023-05-16T14:44:57.733658Z",
     "iopub.status.idle": "2023-05-16T14:44:57.738874Z",
     "shell.execute_reply": "2023-05-16T14:44:57.738252Z",
     "shell.execute_reply.started": "2023-05-16T14:44:57.733890Z"
    },
    "tags": []
   },
   "outputs": [],
   "source": [
    "\n",
    "title = title.withColumn('key', monotonically_increasing_id())\n"
   ]
  },
  {
   "cell_type": "code",
   "execution_count": 103,
   "id": "29483466-91a4-4ee4-91eb-4b0aac8a2eb4",
   "metadata": {
    "execution": {
     "iopub.execute_input": "2023-05-16T14:44:57.739815Z",
     "iopub.status.busy": "2023-05-16T14:44:57.739521Z",
     "iopub.status.idle": "2023-05-16T14:44:58.089524Z",
     "shell.execute_reply": "2023-05-16T14:44:58.088898Z",
     "shell.execute_reply.started": "2023-05-16T14:44:57.739800Z"
    },
    "tags": []
   },
   "outputs": [
    {
     "name": "stderr",
     "output_type": "stream",
     "text": [
      "23/05/16 11:44:57 WARN TaskSetManager: Stage 150 contains a task of very large size (2218 KiB). The maximum recommended task size is 1000 KiB.\n"
     ]
    },
    {
     "data": {
      "text/html": [
       "<div>\n",
       "<style scoped>\n",
       "    .dataframe tbody tr th:only-of-type {\n",
       "        vertical-align: middle;\n",
       "    }\n",
       "\n",
       "    .dataframe tbody tr th {\n",
       "        vertical-align: top;\n",
       "    }\n",
       "\n",
       "    .dataframe thead th {\n",
       "        text-align: right;\n",
       "    }\n",
       "</style>\n",
       "<table border=\"1\" class=\"dataframe\">\n",
       "  <thead>\n",
       "    <tr style=\"text-align: right;\">\n",
       "      <th></th>\n",
       "      <th>original_title</th>\n",
       "      <th>vote_average</th>\n",
       "      <th>vote_count</th>\n",
       "      <th>key</th>\n",
       "    </tr>\n",
       "  </thead>\n",
       "  <tbody>\n",
       "    <tr>\n",
       "      <th>0</th>\n",
       "      <td>Toy Story</td>\n",
       "      <td>7.7</td>\n",
       "      <td>5415</td>\n",
       "      <td>0</td>\n",
       "    </tr>\n",
       "    <tr>\n",
       "      <th>1</th>\n",
       "      <td>Jumanji</td>\n",
       "      <td>6.9</td>\n",
       "      <td>2413</td>\n",
       "      <td>1</td>\n",
       "    </tr>\n",
       "    <tr>\n",
       "      <th>2</th>\n",
       "      <td>Grumpier Old Men</td>\n",
       "      <td>6.5</td>\n",
       "      <td>92</td>\n",
       "      <td>2</td>\n",
       "    </tr>\n",
       "    <tr>\n",
       "      <th>3</th>\n",
       "      <td>Waiting to Exhale</td>\n",
       "      <td>6.1</td>\n",
       "      <td>34</td>\n",
       "      <td>3</td>\n",
       "    </tr>\n",
       "  </tbody>\n",
       "</table>\n",
       "</div>"
      ],
      "text/plain": [
       "      original_title vote_average vote_count  key\n",
       "0          Toy Story          7.7       5415    0\n",
       "1            Jumanji          6.9       2413    1\n",
       "2   Grumpier Old Men          6.5         92    2\n",
       "3  Waiting to Exhale          6.1         34    3"
      ]
     },
     "execution_count": 103,
     "metadata": {},
     "output_type": "execute_result"
    }
   ],
   "source": [
    "title.limit(4).pandas_api()"
   ]
  },
  {
   "cell_type": "code",
   "execution_count": 104,
   "id": "9971c855-c361-4e73-aa28-2baf804afc80",
   "metadata": {
    "execution": {
     "iopub.execute_input": "2023-05-16T14:44:58.090639Z",
     "iopub.status.busy": "2023-05-16T14:44:58.090401Z",
     "iopub.status.idle": "2023-05-16T14:44:58.093432Z",
     "shell.execute_reply": "2023-05-16T14:44:58.092982Z",
     "shell.execute_reply.started": "2023-05-16T14:44:58.090617Z"
    },
    "tags": []
   },
   "outputs": [],
   "source": [
    "from pyspark.sql.functions import col\n",
    "\n",
    "#joined_df = df1.join(df2, col(\"df1.id\") == col(\"df2.id\"), \"inner\")"
   ]
  },
  {
   "cell_type": "code",
   "execution_count": 105,
   "id": "79b09614-b65c-4221-90cd-ffa5281bf8c2",
   "metadata": {
    "execution": {
     "iopub.execute_input": "2023-05-16T14:44:58.094222Z",
     "iopub.status.busy": "2023-05-16T14:44:58.094060Z",
     "iopub.status.idle": "2023-05-16T14:44:58.107698Z",
     "shell.execute_reply": "2023-05-16T14:44:58.107080Z",
     "shell.execute_reply.started": "2023-05-16T14:44:58.094207Z"
    },
    "tags": []
   },
   "outputs": [],
   "source": [
    "ML = genres.join(title, \"key\", \"inner\")\n"
   ]
  },
  {
   "cell_type": "code",
   "execution_count": 106,
   "id": "c54e1d0b-2b59-457f-9a4f-e9298170670f",
   "metadata": {
    "execution": {
     "iopub.execute_input": "2023-05-16T14:44:58.108799Z",
     "iopub.status.busy": "2023-05-16T14:44:58.108572Z",
     "iopub.status.idle": "2023-05-16T14:44:59.264531Z",
     "shell.execute_reply": "2023-05-16T14:44:59.263988Z",
     "shell.execute_reply.started": "2023-05-16T14:44:58.108778Z"
    },
    "tags": []
   },
   "outputs": [
    {
     "name": "stderr",
     "output_type": "stream",
     "text": [
      "23/05/16 11:44:58 WARN TaskSetManager: Stage 153 contains a task of very large size (2218 KiB). The maximum recommended task size is 1000 KiB.\n",
      "23/05/16 11:44:58 WARN TaskSetManager: Stage 154 contains a task of very large size (2218 KiB). The maximum recommended task size is 1000 KiB.\n",
      "                                                                                \r"
     ]
    },
    {
     "data": {
      "text/html": [
       "<div>\n",
       "<style scoped>\n",
       "    .dataframe tbody tr th:only-of-type {\n",
       "        vertical-align: middle;\n",
       "    }\n",
       "\n",
       "    .dataframe tbody tr th {\n",
       "        vertical-align: top;\n",
       "    }\n",
       "\n",
       "    .dataframe thead th {\n",
       "        text-align: right;\n",
       "    }\n",
       "</style>\n",
       "<table border=\"1\" class=\"dataframe\">\n",
       "  <thead>\n",
       "    <tr style=\"text-align: right;\">\n",
       "      <th></th>\n",
       "      <th>key</th>\n",
       "      <th>genres</th>\n",
       "      <th>original_title</th>\n",
       "      <th>vote_average</th>\n",
       "      <th>vote_count</th>\n",
       "    </tr>\n",
       "  </thead>\n",
       "  <tbody>\n",
       "    <tr>\n",
       "      <th>0</th>\n",
       "      <td>26</td>\n",
       "      <td>Comedy-Drama-Family</td>\n",
       "      <td>Now and Then</td>\n",
       "      <td>6.6</td>\n",
       "      <td>91</td>\n",
       "    </tr>\n",
       "    <tr>\n",
       "      <th>1</th>\n",
       "      <td>29</td>\n",
       "      <td>Drama-Crime</td>\n",
       "      <td>摇啊摇，摇到外婆桥</td>\n",
       "      <td>6.5</td>\n",
       "      <td>17</td>\n",
       "    </tr>\n",
       "    <tr>\n",
       "      <th>2</th>\n",
       "      <td>474</td>\n",
       "      <td>Action-Thriller-Crime</td>\n",
       "      <td>Judgment Night</td>\n",
       "      <td>6.4</td>\n",
       "      <td>79</td>\n",
       "    </tr>\n",
       "    <tr>\n",
       "      <th>3</th>\n",
       "      <td>964</td>\n",
       "      <td>Drama-Thriller</td>\n",
       "      <td>The Rich Man's Wife</td>\n",
       "      <td>4.9</td>\n",
       "      <td>11</td>\n",
       "    </tr>\n",
       "  </tbody>\n",
       "</table>\n",
       "</div>"
      ],
      "text/plain": [
       "   key                 genres       original_title vote_average vote_count\n",
       "0   26    Comedy-Drama-Family         Now and Then          6.6         91\n",
       "1   29            Drama-Crime            摇啊摇，摇到外婆桥          6.5         17\n",
       "2  474  Action-Thriller-Crime       Judgment Night          6.4         79\n",
       "3  964         Drama-Thriller  The Rich Man's Wife          4.9         11"
      ]
     },
     "execution_count": 106,
     "metadata": {},
     "output_type": "execute_result"
    }
   ],
   "source": [
    "ML.limit(4).pandas_api()"
   ]
  },
  {
   "cell_type": "code",
   "execution_count": 107,
   "id": "29d43db1-a4db-41f5-8af6-c4226601202e",
   "metadata": {
    "execution": {
     "iopub.execute_input": "2023-05-16T14:44:59.265336Z",
     "iopub.status.busy": "2023-05-16T14:44:59.265172Z",
     "iopub.status.idle": "2023-05-16T14:44:59.267801Z",
     "shell.execute_reply": "2023-05-16T14:44:59.267246Z",
     "shell.execute_reply.started": "2023-05-16T14:44:59.265321Z"
    },
    "tags": []
   },
   "outputs": [],
   "source": [
    "#ML = ML.drop(\"key\")"
   ]
  },
  {
   "cell_type": "code",
   "execution_count": 108,
   "id": "b1d813ff-3381-4e15-9838-b7aee85627ff",
   "metadata": {
    "execution": {
     "iopub.execute_input": "2023-05-16T14:44:59.269129Z",
     "iopub.status.busy": "2023-05-16T14:44:59.268673Z",
     "iopub.status.idle": "2023-05-16T14:45:00.418472Z",
     "shell.execute_reply": "2023-05-16T14:45:00.417966Z",
     "shell.execute_reply.started": "2023-05-16T14:44:59.269106Z"
    },
    "tags": []
   },
   "outputs": [
    {
     "name": "stderr",
     "output_type": "stream",
     "text": [
      "23/05/16 11:44:59 WARN TaskSetManager: Stage 162 contains a task of very large size (2218 KiB). The maximum recommended task size is 1000 KiB.\n",
      "23/05/16 11:44:59 WARN TaskSetManager: Stage 163 contains a task of very large size (2218 KiB). The maximum recommended task size is 1000 KiB.\n",
      "                                                                                \r"
     ]
    },
    {
     "data": {
      "text/html": [
       "<div>\n",
       "<style scoped>\n",
       "    .dataframe tbody tr th:only-of-type {\n",
       "        vertical-align: middle;\n",
       "    }\n",
       "\n",
       "    .dataframe tbody tr th {\n",
       "        vertical-align: top;\n",
       "    }\n",
       "\n",
       "    .dataframe thead th {\n",
       "        text-align: right;\n",
       "    }\n",
       "</style>\n",
       "<table border=\"1\" class=\"dataframe\">\n",
       "  <thead>\n",
       "    <tr style=\"text-align: right;\">\n",
       "      <th></th>\n",
       "      <th>key</th>\n",
       "      <th>genres</th>\n",
       "      <th>original_title</th>\n",
       "      <th>vote_average</th>\n",
       "      <th>vote_count</th>\n",
       "    </tr>\n",
       "  </thead>\n",
       "  <tbody>\n",
       "    <tr>\n",
       "      <th>0</th>\n",
       "      <td>26</td>\n",
       "      <td>Comedy-Drama-Family</td>\n",
       "      <td>Now and Then</td>\n",
       "      <td>6.6</td>\n",
       "      <td>91</td>\n",
       "    </tr>\n",
       "    <tr>\n",
       "      <th>1</th>\n",
       "      <td>29</td>\n",
       "      <td>Drama-Crime</td>\n",
       "      <td>摇啊摇，摇到外婆桥</td>\n",
       "      <td>6.5</td>\n",
       "      <td>17</td>\n",
       "    </tr>\n",
       "    <tr>\n",
       "      <th>2</th>\n",
       "      <td>474</td>\n",
       "      <td>Action-Thriller-Crime</td>\n",
       "      <td>Judgment Night</td>\n",
       "      <td>6.4</td>\n",
       "      <td>79</td>\n",
       "    </tr>\n",
       "    <tr>\n",
       "      <th>3</th>\n",
       "      <td>964</td>\n",
       "      <td>Drama-Thriller</td>\n",
       "      <td>The Rich Man's Wife</td>\n",
       "      <td>4.9</td>\n",
       "      <td>11</td>\n",
       "    </tr>\n",
       "  </tbody>\n",
       "</table>\n",
       "</div>"
      ],
      "text/plain": [
       "   key                 genres       original_title vote_average vote_count\n",
       "0   26    Comedy-Drama-Family         Now and Then          6.6         91\n",
       "1   29            Drama-Crime            摇啊摇，摇到外婆桥          6.5         17\n",
       "2  474  Action-Thriller-Crime       Judgment Night          6.4         79\n",
       "3  964         Drama-Thriller  The Rich Man's Wife          4.9         11"
      ]
     },
     "execution_count": 108,
     "metadata": {},
     "output_type": "execute_result"
    }
   ],
   "source": [
    "ML.limit(4).pandas_api()"
   ]
  },
  {
   "cell_type": "code",
   "execution_count": 109,
   "id": "5220eac2-5ae4-414a-b3e0-9e7d2a7bda2a",
   "metadata": {
    "execution": {
     "iopub.execute_input": "2023-05-16T14:45:00.419296Z",
     "iopub.status.busy": "2023-05-16T14:45:00.419133Z",
     "iopub.status.idle": "2023-05-16T14:45:00.421928Z",
     "shell.execute_reply": "2023-05-16T14:45:00.421353Z",
     "shell.execute_reply.started": "2023-05-16T14:45:00.419281Z"
    },
    "tags": []
   },
   "outputs": [],
   "source": [
    "#from pyspark.sql.functions import split\n",
    "#ML = ML.withColumn('genres', split(ML['genres'], '-'))"
   ]
  },
  {
   "cell_type": "code",
   "execution_count": 110,
   "id": "362867da-7203-4371-9dbf-c9387244df62",
   "metadata": {
    "execution": {
     "iopub.execute_input": "2023-05-16T14:45:00.422871Z",
     "iopub.status.busy": "2023-05-16T14:45:00.422678Z",
     "iopub.status.idle": "2023-05-16T14:45:01.550414Z",
     "shell.execute_reply": "2023-05-16T14:45:01.549719Z",
     "shell.execute_reply.started": "2023-05-16T14:45:00.422857Z"
    },
    "tags": []
   },
   "outputs": [
    {
     "name": "stderr",
     "output_type": "stream",
     "text": [
      "23/05/16 11:45:00 WARN TaskSetManager: Stage 171 contains a task of very large size (2218 KiB). The maximum recommended task size is 1000 KiB.\n",
      "23/05/16 11:45:00 WARN TaskSetManager: Stage 172 contains a task of very large size (2218 KiB). The maximum recommended task size is 1000 KiB.\n",
      "                                                                                \r"
     ]
    },
    {
     "data": {
      "text/html": [
       "<div>\n",
       "<style scoped>\n",
       "    .dataframe tbody tr th:only-of-type {\n",
       "        vertical-align: middle;\n",
       "    }\n",
       "\n",
       "    .dataframe tbody tr th {\n",
       "        vertical-align: top;\n",
       "    }\n",
       "\n",
       "    .dataframe thead th {\n",
       "        text-align: right;\n",
       "    }\n",
       "</style>\n",
       "<table border=\"1\" class=\"dataframe\">\n",
       "  <thead>\n",
       "    <tr style=\"text-align: right;\">\n",
       "      <th></th>\n",
       "      <th>key</th>\n",
       "      <th>genres</th>\n",
       "      <th>original_title</th>\n",
       "      <th>vote_average</th>\n",
       "      <th>vote_count</th>\n",
       "    </tr>\n",
       "  </thead>\n",
       "  <tbody>\n",
       "    <tr>\n",
       "      <th>0</th>\n",
       "      <td>26</td>\n",
       "      <td>Comedy-Drama-Family</td>\n",
       "      <td>Now and Then</td>\n",
       "      <td>6.6</td>\n",
       "      <td>91</td>\n",
       "    </tr>\n",
       "    <tr>\n",
       "      <th>1</th>\n",
       "      <td>29</td>\n",
       "      <td>Drama-Crime</td>\n",
       "      <td>摇啊摇，摇到外婆桥</td>\n",
       "      <td>6.5</td>\n",
       "      <td>17</td>\n",
       "    </tr>\n",
       "    <tr>\n",
       "      <th>2</th>\n",
       "      <td>474</td>\n",
       "      <td>Action-Thriller-Crime</td>\n",
       "      <td>Judgment Night</td>\n",
       "      <td>6.4</td>\n",
       "      <td>79</td>\n",
       "    </tr>\n",
       "    <tr>\n",
       "      <th>3</th>\n",
       "      <td>964</td>\n",
       "      <td>Drama-Thriller</td>\n",
       "      <td>The Rich Man's Wife</td>\n",
       "      <td>4.9</td>\n",
       "      <td>11</td>\n",
       "    </tr>\n",
       "  </tbody>\n",
       "</table>\n",
       "</div>"
      ],
      "text/plain": [
       "   key                 genres       original_title vote_average vote_count\n",
       "0   26    Comedy-Drama-Family         Now and Then          6.6         91\n",
       "1   29            Drama-Crime            摇啊摇，摇到外婆桥          6.5         17\n",
       "2  474  Action-Thriller-Crime       Judgment Night          6.4         79\n",
       "3  964         Drama-Thriller  The Rich Man's Wife          4.9         11"
      ]
     },
     "execution_count": 110,
     "metadata": {},
     "output_type": "execute_result"
    }
   ],
   "source": [
    "ML.limit(4).pandas_api()"
   ]
  },
  {
   "cell_type": "markdown",
   "id": "2aa0bc83-dddf-4d98-b127-722dd822f7b3",
   "metadata": {
    "execution": {
     "iopub.execute_input": "2023-05-13T19:59:54.821745Z",
     "iopub.status.busy": "2023-05-13T19:59:54.820927Z",
     "iopub.status.idle": "2023-05-13T19:59:54.830546Z",
     "shell.execute_reply": "2023-05-13T19:59:54.829947Z",
     "shell.execute_reply.started": "2023-05-13T19:59:54.821666Z"
    },
    "tags": []
   },
   "source": [
    "escribir los archivos que van a ser usados en la API"
   ]
  },
  {
   "cell_type": "code",
   "execution_count": 111,
   "id": "d809dbfb-30d3-4444-9cb4-4052be35c819",
   "metadata": {
    "execution": {
     "iopub.execute_input": "2023-05-16T14:45:01.551393Z",
     "iopub.status.busy": "2023-05-16T14:45:01.551181Z",
     "iopub.status.idle": "2023-05-16T14:45:03.076745Z",
     "shell.execute_reply": "2023-05-16T14:45:03.076217Z",
     "shell.execute_reply.started": "2023-05-16T14:45:01.551363Z"
    },
    "tags": []
   },
   "outputs": [
    {
     "name": "stderr",
     "output_type": "stream",
     "text": [
      "23/05/16 11:45:01 WARN TaskSetManager: Stage 180 contains a task of very large size (2218 KiB). The maximum recommended task size is 1000 KiB.\n",
      "23/05/16 11:45:02 WARN TaskSetManager: Stage 181 contains a task of very large size (2218 KiB). The maximum recommended task size is 1000 KiB.\n",
      "                                                                                \r"
     ]
    }
   ],
   "source": [
    "dataframe_api.coalesce(1).write.format(\"csv\").option(\"header\", \"true\").mode(\"overwrite\").save(\"movie\")"
   ]
  },
  {
   "cell_type": "code",
   "execution_count": 112,
   "id": "0fa7b9df-bb59-4dcb-823f-b05b50b15d76",
   "metadata": {
    "execution": {
     "iopub.execute_input": "2023-05-16T14:45:03.077614Z",
     "iopub.status.busy": "2023-05-16T14:45:03.077363Z",
     "iopub.status.idle": "2023-05-16T14:45:04.811524Z",
     "shell.execute_reply": "2023-05-16T14:45:04.810905Z",
     "shell.execute_reply.started": "2023-05-16T14:45:03.077599Z"
    },
    "tags": []
   },
   "outputs": [
    {
     "name": "stderr",
     "output_type": "stream",
     "text": [
      "23/05/16 11:45:03 WARN TaskSetManager: Stage 186 contains a task of very large size (2218 KiB). The maximum recommended task size is 1000 KiB.\n",
      "23/05/16 11:45:03 WARN TaskSetManager: Stage 187 contains a task of very large size (2218 KiB). The maximum recommended task size is 1000 KiB.\n",
      "23/05/16 11:45:03 WARN TaskSetManager: Stage 188 contains a task of very large size (2218 KiB). The maximum recommended task size is 1000 KiB.\n",
      "                                                                                \r"
     ]
    }
   ],
   "source": [
    "production.coalesce(1).write.format(\"csv\").option(\"header\", \"true\").mode(\"overwrite\").save(\"production\")"
   ]
  },
  {
   "cell_type": "code",
   "execution_count": 113,
   "id": "9bf61016-890d-4299-8544-0482ef577279",
   "metadata": {
    "execution": {
     "iopub.execute_input": "2023-05-16T14:45:04.812513Z",
     "iopub.status.busy": "2023-05-16T14:45:04.812279Z",
     "iopub.status.idle": "2023-05-16T14:45:06.143520Z",
     "shell.execute_reply": "2023-05-16T14:45:06.142947Z",
     "shell.execute_reply.started": "2023-05-16T14:45:04.812492Z"
    },
    "tags": []
   },
   "outputs": [
    {
     "name": "stderr",
     "output_type": "stream",
     "text": [
      "23/05/16 11:45:04 WARN TaskSetManager: Stage 195 contains a task of very large size (31165 KiB). The maximum recommended task size is 1000 KiB.\n",
      "                                                                                \r"
     ]
    }
   ],
   "source": [
    "country.coalesce(1).write.format(\"csv\").option(\"header\", \"true\").mode(\"overwrite\").save(\"country\")"
   ]
  },
  {
   "cell_type": "code",
   "execution_count": 114,
   "id": "81855b9c-1df8-4674-911a-e3ec6750694e",
   "metadata": {
    "execution": {
     "iopub.execute_input": "2023-05-16T14:45:06.144365Z",
     "iopub.status.busy": "2023-05-16T14:45:06.144134Z",
     "iopub.status.idle": "2023-05-16T14:45:07.287855Z",
     "shell.execute_reply": "2023-05-16T14:45:07.287246Z",
     "shell.execute_reply.started": "2023-05-16T14:45:06.144345Z"
    },
    "tags": []
   },
   "outputs": [
    {
     "name": "stderr",
     "output_type": "stream",
     "text": [
      "23/05/16 11:45:06 WARN TaskSetManager: Stage 196 contains a task of very large size (2218 KiB). The maximum recommended task size is 1000 KiB.\n",
      "23/05/16 11:45:06 WARN TaskSetManager: Stage 197 contains a task of very large size (2218 KiB). The maximum recommended task size is 1000 KiB.\n",
      "                                                                                \r"
     ]
    }
   ],
   "source": [
    "ML.coalesce(1).write.format(\"csv\").option(\"header\", \"true\").mode(\"overwrite\").save(\"ML\")"
   ]
  },
  {
   "cell_type": "code",
   "execution_count": 115,
   "id": "efc479a9-5066-4361-9eb9-70747592e382",
   "metadata": {
    "execution": {
     "iopub.execute_input": "2023-05-16T14:45:07.288607Z",
     "iopub.status.busy": "2023-05-16T14:45:07.288446Z",
     "iopub.status.idle": "2023-05-16T14:45:07.770881Z",
     "shell.execute_reply": "2023-05-16T14:45:07.770327Z",
     "shell.execute_reply.started": "2023-05-16T14:45:07.288592Z"
    },
    "tags": []
   },
   "outputs": [
    {
     "name": "stderr",
     "output_type": "stream",
     "text": [
      "23/05/16 11:45:07 WARN TaskSetManager: Stage 202 contains a task of very large size (2218 KiB). The maximum recommended task size is 1000 KiB.\n"
     ]
    },
    {
     "data": {
      "text/plain": [
       "55766"
      ]
     },
     "execution_count": 115,
     "metadata": {},
     "output_type": "execute_result"
    }
   ],
   "source": [
    "country.count()"
   ]
  },
  {
   "cell_type": "code",
   "execution_count": 116,
   "id": "c20e0e9d-3a17-488f-af7d-af36687c39fb",
   "metadata": {
    "execution": {
     "iopub.execute_input": "2023-05-16T14:45:07.771728Z",
     "iopub.status.busy": "2023-05-16T14:45:07.771559Z",
     "iopub.status.idle": "2023-05-16T14:45:08.832175Z",
     "shell.execute_reply": "2023-05-16T14:45:08.831507Z",
     "shell.execute_reply.started": "2023-05-16T14:45:07.771713Z"
    },
    "tags": []
   },
   "outputs": [
    {
     "name": "stderr",
     "output_type": "stream",
     "text": [
      "23/05/16 11:45:07 WARN TaskSetManager: Stage 205 contains a task of very large size (2218 KiB). The maximum recommended task size is 1000 KiB.\n",
      "23/05/16 11:45:08 WARN TaskSetManager: Stage 206 contains a task of very large size (2218 KiB). The maximum recommended task size is 1000 KiB.\n",
      "                                                                                \r"
     ]
    },
    {
     "data": {
      "text/plain": [
       "86659"
      ]
     },
     "execution_count": 116,
     "metadata": {},
     "output_type": "execute_result"
    }
   ],
   "source": [
    "production.count()"
   ]
  },
  {
   "cell_type": "code",
   "execution_count": 117,
   "id": "b5ec8d7e-86ba-452c-9308-0c1d4efaec3e",
   "metadata": {
    "execution": {
     "iopub.execute_input": "2023-05-16T14:45:08.833353Z",
     "iopub.status.busy": "2023-05-16T14:45:08.833085Z",
     "iopub.status.idle": "2023-05-16T14:45:09.182299Z",
     "shell.execute_reply": "2023-05-16T14:45:09.181565Z",
     "shell.execute_reply.started": "2023-05-16T14:45:08.833328Z"
    },
    "tags": []
   },
   "outputs": [
    {
     "name": "stderr",
     "output_type": "stream",
     "text": [
      "23/05/16 11:45:08 WARN TaskSetManager: Stage 216 contains a task of very large size (2218 KiB). The maximum recommended task size is 1000 KiB.\n"
     ]
    },
    {
     "data": {
      "text/plain": [
       "45466"
      ]
     },
     "execution_count": 117,
     "metadata": {},
     "output_type": "execute_result"
    }
   ],
   "source": [
    "movie.count()"
   ]
  },
  {
   "cell_type": "code",
   "execution_count": 118,
   "id": "d8c7339f-bb44-46a2-a281-d56ee3062070",
   "metadata": {
    "execution": {
     "iopub.execute_input": "2023-05-16T14:45:09.183797Z",
     "iopub.status.busy": "2023-05-16T14:45:09.183364Z",
     "iopub.status.idle": "2023-05-16T14:45:13.534200Z",
     "shell.execute_reply": "2023-05-16T14:45:13.533624Z",
     "shell.execute_reply.started": "2023-05-16T14:45:09.183758Z"
    },
    "tags": []
   },
   "outputs": [],
   "source": [
    "recomendation =  spark.createDataFrame(data)"
   ]
  },
  {
   "cell_type": "code",
   "execution_count": 119,
   "id": "c18604cd-c651-444f-8e66-9b3441467f70",
   "metadata": {
    "execution": {
     "iopub.execute_input": "2023-05-16T14:45:13.535036Z",
     "iopub.status.busy": "2023-05-16T14:45:13.534803Z",
     "iopub.status.idle": "2023-05-16T14:45:13.542282Z",
     "shell.execute_reply": "2023-05-16T14:45:13.541638Z",
     "shell.execute_reply.started": "2023-05-16T14:45:13.535015Z"
    },
    "tags": []
   },
   "outputs": [],
   "source": [
    "recomendation = recomendation.select(col(\"title\"),col(\"overview\"))"
   ]
  },
  {
   "cell_type": "code",
   "execution_count": 120,
   "id": "84b49e4c-777e-4f75-b555-4452ca45a807",
   "metadata": {
    "execution": {
     "iopub.execute_input": "2023-05-16T14:45:13.543405Z",
     "iopub.status.busy": "2023-05-16T14:45:13.543144Z",
     "iopub.status.idle": "2023-05-16T14:45:13.845308Z",
     "shell.execute_reply": "2023-05-16T14:45:13.844636Z",
     "shell.execute_reply.started": "2023-05-16T14:45:13.543366Z"
    },
    "tags": []
   },
   "outputs": [
    {
     "name": "stderr",
     "output_type": "stream",
     "text": [
      "23/05/16 11:45:13 WARN TaskSetManager: Stage 219 contains a task of very large size (2218 KiB). The maximum recommended task size is 1000 KiB.\n"
     ]
    },
    {
     "data": {
      "text/html": [
       "<div>\n",
       "<style scoped>\n",
       "    .dataframe tbody tr th:only-of-type {\n",
       "        vertical-align: middle;\n",
       "    }\n",
       "\n",
       "    .dataframe tbody tr th {\n",
       "        vertical-align: top;\n",
       "    }\n",
       "\n",
       "    .dataframe thead th {\n",
       "        text-align: right;\n",
       "    }\n",
       "</style>\n",
       "<table border=\"1\" class=\"dataframe\">\n",
       "  <thead>\n",
       "    <tr style=\"text-align: right;\">\n",
       "      <th></th>\n",
       "      <th>title</th>\n",
       "      <th>overview</th>\n",
       "    </tr>\n",
       "  </thead>\n",
       "  <tbody>\n",
       "    <tr>\n",
       "      <th>0</th>\n",
       "      <td>Toy Story</td>\n",
       "      <td>Led by Woody, Andy's toys live happily in his ...</td>\n",
       "    </tr>\n",
       "    <tr>\n",
       "      <th>1</th>\n",
       "      <td>Jumanji</td>\n",
       "      <td>When siblings Judy and Peter discover an encha...</td>\n",
       "    </tr>\n",
       "    <tr>\n",
       "      <th>2</th>\n",
       "      <td>Grumpier Old Men</td>\n",
       "      <td>A family wedding reignites the ancient feud be...</td>\n",
       "    </tr>\n",
       "  </tbody>\n",
       "</table>\n",
       "</div>"
      ],
      "text/plain": [
       "              title                                                                                                                                                                                                                                                                                                                                                                                                       overview\n",
       "0         Toy Story                                                                                                Led by Woody, Andy's toys live happily in his room until Andy's birthday brings Buzz Lightyear onto the scene. Afraid of losing his place in Andy's heart, Woody plots against Buzz. But when circumstances separate Buzz and Woody from their owner, the duo eventually learns to put aside their differences.\n",
       "1           Jumanji  When siblings Judy and Peter discover an enchanted board game that opens the door to a magical world, they unwittingly invite Alan -- an adult who's been trapped inside the game for 26 years -- into their living room. Alan's only[1 hope for freedom is to finish the game, which proves risky as all three find themselves running from giant rhinoceroses, evil monkeys and other terrifying creatures.\n",
       "2  Grumpier Old Men                                                                        A family wedding reignites the ancient feud between next-door neighbors and fishing buddies John and Max. Meanwhile, a sultry Italian divorcée opens a restaurant at the local bait shop, alarming the locals who worry she'll scare the fish away. But she's less interested in seafood than she is in cooking up a hot time with Max."
      ]
     },
     "execution_count": 120,
     "metadata": {},
     "output_type": "execute_result"
    }
   ],
   "source": [
    "recomendation.limit(3).pandas_api()"
   ]
  },
  {
   "cell_type": "code",
   "execution_count": 121,
   "id": "3e611ceb-5eef-459a-a0a9-56fa84cb2326",
   "metadata": {
    "execution": {
     "iopub.execute_input": "2023-05-16T14:45:13.846225Z",
     "iopub.status.busy": "2023-05-16T14:45:13.846020Z",
     "iopub.status.idle": "2023-05-16T14:45:15.182440Z",
     "shell.execute_reply": "2023-05-16T14:45:15.181792Z",
     "shell.execute_reply.started": "2023-05-16T14:45:13.846209Z"
    },
    "tags": []
   },
   "outputs": [
    {
     "name": "stderr",
     "output_type": "stream",
     "text": [
      "23/05/16 11:45:13 WARN TaskSetManager: Stage 222 contains a task of very large size (31165 KiB). The maximum recommended task size is 1000 KiB.\n",
      "                                                                                \r"
     ]
    }
   ],
   "source": [
    "recomendation.coalesce(1).write.format(\"csv\").option(\"header\", \"true\").mode(\"overwrite\").save(\"recomendation\")"
   ]
  }
 ],
 "metadata": {
  "kernelspec": {
   "display_name": "Python 3 (ipykernel)",
   "language": "python",
   "name": "python3"
  },
  "language_info": {
   "codemirror_mode": {
    "name": "ipython",
    "version": 3
   },
   "file_extension": ".py",
   "mimetype": "text/x-python",
   "name": "python",
   "nbconvert_exporter": "python",
   "pygments_lexer": "ipython3",
   "version": "3.10.10"
  }
 },
 "nbformat": 4,
 "nbformat_minor": 5
}
