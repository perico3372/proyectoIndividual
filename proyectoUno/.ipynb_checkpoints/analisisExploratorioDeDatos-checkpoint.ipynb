{
 "cells": [
  {
   "cell_type": "code",
   "execution_count": 1,
   "id": "9e0eb121-25a8-4805-bb49-cc69636a2022",
   "metadata": {
    "execution": {
     "iopub.execute_input": "2023-04-17T15:59:11.904905Z",
     "iopub.status.busy": "2023-04-17T15:59:11.904752Z",
     "iopub.status.idle": "2023-04-17T15:59:11.907268Z",
     "shell.execute_reply": "2023-04-17T15:59:11.906850Z",
     "shell.execute_reply.started": "2023-04-17T15:59:11.904889Z"
    },
    "tags": []
   },
   "outputs": [],
   "source": [
    "#!pip install fastapi"
   ]
  },
  {
   "cell_type": "code",
   "execution_count": 2,
   "id": "8735164c-3315-4a36-84a9-7a1e0214f171",
   "metadata": {
    "execution": {
     "iopub.execute_input": "2023-04-17T15:59:11.908511Z",
     "iopub.status.busy": "2023-04-17T15:59:11.908311Z",
     "iopub.status.idle": "2023-04-17T15:59:12.102510Z",
     "shell.execute_reply": "2023-04-17T15:59:12.101859Z",
     "shell.execute_reply.started": "2023-04-17T15:59:11.908496Z"
    },
    "tags": []
   },
   "outputs": [],
   "source": [
    "from pyspark.sql import SparkSession\n",
    "from pyspark.sql.functions import col, sum"
   ]
  },
  {
   "cell_type": "code",
   "execution_count": 3,
   "id": "ed94d741-6b00-4922-9c3f-bdd5df377300",
   "metadata": {
    "execution": {
     "iopub.execute_input": "2023-04-17T15:59:12.103434Z",
     "iopub.status.busy": "2023-04-17T15:59:12.103099Z",
     "iopub.status.idle": "2023-04-17T15:59:14.968676Z",
     "shell.execute_reply": "2023-04-17T15:59:14.968019Z",
     "shell.execute_reply.started": "2023-04-17T15:59:12.103415Z"
    },
    "tags": []
   },
   "outputs": [
    {
     "name": "stderr",
     "output_type": "stream",
     "text": [
      "Setting default log level to \"WARN\".\n",
      "To adjust logging level use sc.setLogLevel(newLevel). For SparkR, use setLogLevel(newLevel).\n"
     ]
    },
    {
     "name": "stdout",
     "output_type": "stream",
     "text": [
      "23/04/17 12:59:13 WARN NativeCodeLoader: Unable to load native-hadoop library for your platform... using builtin-java classes where applicable\n"
     ]
    }
   ],
   "source": [
    "spark = SparkSession.builder.getOrCreate()"
   ]
  },
  {
   "cell_type": "code",
   "execution_count": 4,
   "id": "ed0ca231-a7f9-4dfc-bd45-3cf95503f538",
   "metadata": {
    "execution": {
     "iopub.execute_input": "2023-04-17T15:59:14.969734Z",
     "iopub.status.busy": "2023-04-17T15:59:14.969565Z",
     "iopub.status.idle": "2023-04-17T15:59:18.512839Z",
     "shell.execute_reply": "2023-04-17T15:59:18.512247Z",
     "shell.execute_reply.started": "2023-04-17T15:59:14.969716Z"
    },
    "tags": []
   },
   "outputs": [],
   "source": [
    "# leer los archivos CSV como dataframes\n",
    "\n",
    "dataFrame1 = spark.read.csv(\"ratings/1.csv\", header=True)\n",
    "dataFrame2 = spark.read.csv(\"ratings/2.csv\", header=True)\n",
    "dataFrame3 = spark.read.csv(\"ratings/3.csv\", header=True)\n",
    "dataFrame4 = spark.read.csv(\"ratings/4.csv\", header=True)\n",
    "dataFrame5 = spark.read.csv(\"ratings/5.csv\", header=True)\n",
    "dataFrame6 = spark.read.csv(\"ratings/6.csv\", header=True)\n",
    "dataFrame7 = spark.read.csv(\"ratings/7.csv\", header=True)\n",
    "dataFrame8 = spark.read.csv(\"ratings/8.csv\", header=True)"
   ]
  },
  {
   "cell_type": "code",
   "execution_count": 5,
   "id": "bbf30c6b-08e6-4175-bf4a-79537cb8d9f1",
   "metadata": {
    "execution": {
     "iopub.execute_input": "2023-04-17T15:59:18.513956Z",
     "iopub.status.busy": "2023-04-17T15:59:18.513601Z",
     "iopub.status.idle": "2023-04-17T15:59:18.558630Z",
     "shell.execute_reply": "2023-04-17T15:59:18.558053Z",
     "shell.execute_reply.started": "2023-04-17T15:59:18.513931Z"
    },
    "tags": []
   },
   "outputs": [],
   "source": [
    "# unir dataframe\n",
    "\n",
    "dataFrameRatings = dataFrame1.union(dataFrame2).union(dataFrame3).union(dataFrame4).union(dataFrame5).union(dataFrame6).union(dataFrame7).union(dataFrame8)\n",
    "dataFrameRatings = dataFrameRatings.repartition(1)"
   ]
  },
  {
   "cell_type": "code",
   "execution_count": 6,
   "id": "6ee396df-b580-483d-b8d2-e52462c48d31",
   "metadata": {
    "execution": {
     "iopub.execute_input": "2023-04-17T15:59:18.560030Z",
     "iopub.status.busy": "2023-04-17T15:59:18.559427Z",
     "iopub.status.idle": "2023-04-17T15:59:18.571716Z",
     "shell.execute_reply": "2023-04-17T15:59:18.571089Z",
     "shell.execute_reply.started": "2023-04-17T15:59:18.560006Z"
    },
    "tags": []
   },
   "outputs": [],
   "source": [
    "#Transformar a minusculas nombre columnas dataFrameRatings\n",
    "\n",
    "dataFrameRatings = dataFrameRatings.withColumnRenamed(\"userId\", \"userid\").withColumnRenamed(\"movieId\", \"movieid\")"
   ]
  },
  {
   "cell_type": "code",
   "execution_count": 7,
   "id": "e1a1c584-25c3-42cb-ab90-18693437a58c",
   "metadata": {
    "execution": {
     "iopub.execute_input": "2023-04-17T15:59:18.574346Z",
     "iopub.status.busy": "2023-04-17T15:59:18.574164Z",
     "iopub.status.idle": "2023-04-17T15:59:18.591828Z",
     "shell.execute_reply": "2023-04-17T15:59:18.591220Z",
     "shell.execute_reply.started": "2023-04-17T15:59:18.574330Z"
    },
    "tags": []
   },
   "outputs": [],
   "source": [
    "# transformar el campo rating de tipo de dato string a tippo de dato a float 32 bits\n",
    "from pyspark.sql.functions import col\n",
    "dataFrameRatings = dataFrameRatings.withColumn('rating', col('rating').cast('float'))"
   ]
  },
  {
   "cell_type": "code",
   "execution_count": 8,
   "id": "fb0badeb-78e7-4af4-857e-785a532b9bb2",
   "metadata": {
    "execution": {
     "iopub.execute_input": "2023-04-17T15:59:18.593558Z",
     "iopub.status.busy": "2023-04-17T15:59:18.592920Z",
     "iopub.status.idle": "2023-04-17T15:59:18.609959Z",
     "shell.execute_reply": "2023-04-17T15:59:18.608876Z",
     "shell.execute_reply.started": "2023-04-17T15:59:18.593534Z"
    },
    "tags": []
   },
   "outputs": [
    {
     "name": "stdout",
     "output_type": "stream",
     "text": [
      "userid El tipo de dato del campo: StringType()\n",
      "rating El tipo de dato del campo: FloatType()\n",
      "timestamp El tipo de dato del campo: StringType()\n",
      "movieid El tipo de dato del campo: StringType()\n"
     ]
    }
   ],
   "source": [
    "for col in dataFrameRatings.columns:\n",
    "    print(col, \"El tipo de dato del campo:\", dataFrameRatings.schema[col].dataType)"
   ]
  },
  {
   "cell_type": "code",
   "execution_count": 9,
   "id": "8e352a0f-c59b-46c5-80fa-cf3e12d9b219",
   "metadata": {
    "execution": {
     "iopub.execute_input": "2023-04-17T15:59:18.611112Z",
     "iopub.status.busy": "2023-04-17T15:59:18.610864Z",
     "iopub.status.idle": "2023-04-17T15:59:18.617894Z",
     "shell.execute_reply": "2023-04-17T15:59:18.617195Z",
     "shell.execute_reply.started": "2023-04-17T15:59:18.611090Z"
    },
    "tags": []
   },
   "outputs": [],
   "source": [
    "# renombrar el nombre de la columna rating en el dataFrameRatings con el nombre de scored\n",
    "\n",
    "dataFrameRatings = dataFrameRatings.withColumnRenamed('rating', 'scored')"
   ]
  },
  {
   "cell_type": "code",
   "execution_count": 10,
   "id": "7a227ad4-fa2b-484a-bd0f-fbb2f53975ea",
   "metadata": {
    "execution": {
     "iopub.execute_input": "2023-04-17T15:59:18.619114Z",
     "iopub.status.busy": "2023-04-17T15:59:18.618850Z",
     "iopub.status.idle": "2023-04-17T15:59:24.125332Z",
     "shell.execute_reply": "2023-04-17T15:59:24.124701Z",
     "shell.execute_reply.started": "2023-04-17T15:59:18.619091Z"
    },
    "tags": []
   },
   "outputs": [
    {
     "name": "stderr",
     "output_type": "stream",
     "text": [
      "[Stage 10:>                                                                                                                            (0 + 1) / 1]\r"
     ]
    },
    {
     "name": "stdout",
     "output_type": "stream",
     "text": [
      "+------+------+---------+-------+\n",
      "|userid|scored|timestamp|movieid|\n",
      "+------+------+---------+-------+\n",
      "|     0|     0|        0|      0|\n",
      "+------+------+---------+-------+\n",
      "\n"
     ]
    },
    {
     "name": "stderr",
     "output_type": "stream",
     "text": [
      "                                                                                                                                                   \r"
     ]
    }
   ],
   "source": [
    "#listar valores nulos por columna\n",
    "from pyspark.sql.functions import col\n",
    "\n",
    "dataFrameRatings.select(*(sum(col(c).isNull().cast('int')).alias(c) for c in dataFrameRatings.columns)).show()"
   ]
  },
  {
   "cell_type": "code",
   "execution_count": 11,
   "id": "ed76556b-eb64-4714-8228-d78553ba5a8c",
   "metadata": {
    "execution": {
     "iopub.execute_input": "2023-04-17T15:59:24.126249Z",
     "iopub.status.busy": "2023-04-17T15:59:24.126080Z",
     "iopub.status.idle": "2023-04-17T15:59:26.070946Z",
     "shell.execute_reply": "2023-04-17T15:59:26.070228Z",
     "shell.execute_reply.started": "2023-04-17T15:59:24.126233Z"
    },
    "tags": []
   },
   "outputs": [
    {
     "name": "stderr",
     "output_type": "stream",
     "text": [
      "[Stage 13:>                                                                                                                            (0 + 1) / 1]\r"
     ]
    },
    {
     "name": "stdout",
     "output_type": "stream",
     "text": [
      "Las dimensiones del DataFrame dataFrameRatings son: (11024289, 4)\n"
     ]
    },
    {
     "name": "stderr",
     "output_type": "stream",
     "text": [
      "                                                                                                                                                   \r"
     ]
    }
   ],
   "source": [
    "# listar dimensiones de dataframe dataFrameRatings\n",
    "\n",
    "num_filas = dataFrameRatings.count()\n",
    "num_columnas = len(dataFrameRatings.columns)\n",
    "print(\"Las dimensiones del DataFrame dataFrameRatings son: ({}, {})\".format(num_filas, num_columnas))"
   ]
  },
  {
   "cell_type": "code",
   "execution_count": 12,
   "id": "60bd8543-06ae-4ae3-8d79-a98ca0bf567a",
   "metadata": {
    "execution": {
     "iopub.execute_input": "2023-04-17T15:59:26.072521Z",
     "iopub.status.busy": "2023-04-17T15:59:26.071997Z",
     "iopub.status.idle": "2023-04-17T15:59:36.966066Z",
     "shell.execute_reply": "2023-04-17T15:59:36.965506Z",
     "shell.execute_reply.started": "2023-04-17T15:59:26.072479Z"
    },
    "tags": []
   },
   "outputs": [
    {
     "name": "stderr",
     "output_type": "stream",
     "text": [
      "                                                                                                                                                   \r"
     ]
    }
   ],
   "source": [
    "# escribir archivo CSV\n",
    "#tamaño archivo formatyo CSV 308 MB \n",
    "\n",
    "dataFrameRatings.write.format(\"csv\").mode('overwrite').option(\"header\", \"true\").save(\"dfRatingsCSV\")"
   ]
  },
  {
   "cell_type": "code",
   "execution_count": 13,
   "id": "74b9812a-f5d2-4221-a60d-6ab862ee692e",
   "metadata": {
    "execution": {
     "iopub.execute_input": "2023-04-17T15:59:36.967072Z",
     "iopub.status.busy": "2023-04-17T15:59:36.966843Z",
     "iopub.status.idle": "2023-04-17T15:59:50.373221Z",
     "shell.execute_reply": "2023-04-17T15:59:50.372623Z",
     "shell.execute_reply.started": "2023-04-17T15:59:36.967051Z"
    },
    "tags": []
   },
   "outputs": [
    {
     "name": "stderr",
     "output_type": "stream",
     "text": [
      "                                                                                                                                                   \r"
     ]
    }
   ],
   "source": [
    "# escribir archivo parquet\n",
    "# tamaño archivo formatyo parquet 90.3 MB \n",
    "\n",
    "dataFrameRatings.write.format(\"parquet\").mode('overwrite').save('dfRatingsParquet')"
   ]
  },
  {
   "cell_type": "code",
   "execution_count": 14,
   "id": "ff8cfba6-cf65-431b-b774-c0b1756799ad",
   "metadata": {
    "execution": {
     "iopub.execute_input": "2023-04-17T15:59:50.374502Z",
     "iopub.status.busy": "2023-04-17T15:59:50.374235Z",
     "iopub.status.idle": "2023-04-17T15:59:50.695976Z",
     "shell.execute_reply": "2023-04-17T15:59:50.695392Z",
     "shell.execute_reply.started": "2023-04-17T15:59:50.374472Z"
    },
    "tags": []
   },
   "outputs": [],
   "source": [
    "# agregar columna plataform a dataframe \n",
    "\n",
    "from pyspark.sql.functions import lit\n",
    "\n",
    "dataFrameTitles1 = spark.read.csv(\"titles/amazon_prime_titles.csv\", header=True)\n",
    "dataFrameTitles1 = dataFrameTitles1.withColumn(\"platform\", lit(\"amazon\"))\n",
    "dataFrameTitles2 = spark.read.csv(\"titles/disney_plus_titles.csv\", header=True)\n",
    "dataFrameTitles2 = dataFrameTitles2.withColumn(\"platform\", lit(\"disney\"))\n",
    "dataFrameTitles3 = spark.read.csv(\"titles/hulu_titles.csv\", header=True)\n",
    "dataFrameTitles3 = dataFrameTitles3.withColumn(\"platform\", lit(\"hulu\"))\n",
    "dataFrameTitles4 = spark.read.csv(\"titles/netflix_titles.csv\", header=True)\n",
    "dataFrameTitles4 = dataFrameTitles4.withColumn(\"platform\", lit(\"netflix\"))"
   ]
  },
  {
   "cell_type": "code",
   "execution_count": 15,
   "id": "778eef27-544f-4941-b993-a537a1213791",
   "metadata": {
    "execution": {
     "iopub.execute_input": "2023-04-17T15:59:50.696907Z",
     "iopub.status.busy": "2023-04-17T15:59:50.696723Z",
     "iopub.status.idle": "2023-04-17T15:59:50.730465Z",
     "shell.execute_reply": "2023-04-17T15:59:50.729912Z",
     "shell.execute_reply.started": "2023-04-17T15:59:50.696891Z"
    },
    "tags": []
   },
   "outputs": [],
   "source": [
    "# Generar campo id: Cada id se compondrá de la primera letra del nombre de la plataforma, seguido del show_id\n",
    "\n",
    "from pyspark.sql.functions import concat, lit, col\n",
    "\n",
    "dataFrameTitles1 = dataFrameTitles1.withColumn(\"id\", concat(lit(\"a\"), col(\"show_id\")))\n",
    "dataFrameTitles2 = dataFrameTitles2.withColumn(\"id\", concat(lit(\"d\"), col(\"show_id\")))\n",
    "dataFrameTitles3 = dataFrameTitles3.withColumn(\"id\", concat(lit(\"h\"), col(\"show_id\")))\n",
    "dataFrameTitles4 = dataFrameTitles4.withColumn(\"id\", concat(lit(\"n\"), col(\"show_id\")))"
   ]
  },
  {
   "cell_type": "code",
   "execution_count": 16,
   "id": "608e56ae-ab50-4f45-8790-c4fe94d41076",
   "metadata": {
    "execution": {
     "iopub.execute_input": "2023-04-17T15:59:50.731176Z",
     "iopub.status.busy": "2023-04-17T15:59:50.731015Z",
     "iopub.status.idle": "2023-04-17T15:59:50.750570Z",
     "shell.execute_reply": "2023-04-17T15:59:50.749944Z",
     "shell.execute_reply.started": "2023-04-17T15:59:50.731161Z"
    },
    "tags": []
   },
   "outputs": [],
   "source": [
    "# unir dataframes\n",
    "\n",
    "dataFrameTitles = dataFrameTitles1.union(dataFrameTitles2).union(dataFrameTitles3).union(dataFrameTitles4)\n",
    "dataFrameTitles = dataFrameTitles.repartition(1)"
   ]
  },
  {
   "cell_type": "code",
   "execution_count": 17,
   "id": "87a4a1a8-6d40-48a8-a8cb-b594ba74de79",
   "metadata": {
    "execution": {
     "iopub.execute_input": "2023-04-17T15:59:50.751436Z",
     "iopub.status.busy": "2023-04-17T15:59:50.751271Z",
     "iopub.status.idle": "2023-04-17T15:59:50.876757Z",
     "shell.execute_reply": "2023-04-17T15:59:50.876164Z",
     "shell.execute_reply.started": "2023-04-17T15:59:50.751420Z"
    },
    "tags": []
   },
   "outputs": [
    {
     "name": "stdout",
     "output_type": "stream",
     "text": [
      "Las dimensiones del DataFrame dataFrameTitles es de: (23036, 14)\n"
     ]
    }
   ],
   "source": [
    "# listar dimensiones dataframe dataFrametitles\n",
    "\n",
    "numeroColumnasTitles = len(dataFrameTitles.columns)\n",
    "numeroFilasTitles = dataFrameTitles.count()\n",
    "print(\"Las dimensiones del DataFrame dataFrameTitles es de: ({}, {})\".format(numeroFilasTitles, numeroColumnasTitles))"
   ]
  },
  {
   "cell_type": "code",
   "execution_count": 18,
   "id": "c7ecf473-5b69-48c7-80f2-682dc1da6a9d",
   "metadata": {
    "execution": {
     "iopub.execute_input": "2023-04-17T15:59:50.877641Z",
     "iopub.status.busy": "2023-04-17T15:59:50.877465Z",
     "iopub.status.idle": "2023-04-17T15:59:51.223223Z",
     "shell.execute_reply": "2023-04-17T15:59:51.222593Z",
     "shell.execute_reply.started": "2023-04-17T15:59:50.877626Z"
    },
    "tags": []
   },
   "outputs": [
    {
     "name": "stdout",
     "output_type": "stream",
     "text": [
      "+-------+-----+--------------------+------------+--------------------+-------------+--------------+------------+------+--------+--------------------+--------------------+--------+---+\n",
      "|show_id| type|               title|    director|                cast|      country|    date_added|release_year|rating|duration|           listed_in|         description|platform| id|\n",
      "+-------+-----+--------------------+------------+--------------------+-------------+--------------+------------+------+--------+--------------------+--------------------+--------+---+\n",
      "|     s1|Movie| The Grand Seduction|Don McKellar|Brendan Gleeson, ...|       Canada|March 30, 2021|        2014|  null| 113 min|       Comedy, Drama|A small fishing v...|  amazon|as1|\n",
      "|     s2|Movie|Take Care Good Night|Girish Joshi|Mahesh Manjrekar,...|        India|March 30, 2021|        2018|   13+| 110 min|Drama, International|A Metro Family de...|  amazon|as2|\n",
      "|     s3|Movie|Secrets of Deception| Josh Webber|Tom Sizemore, Lor...|United States|March 30, 2021|        2017|  null|  74 min|Action, Drama, Su...|After a man disco...|  amazon|as3|\n",
      "+-------+-----+--------------------+------------+--------------------+-------------+--------------+------------+------+--------+--------------------+--------------------+--------+---+\n",
      "only showing top 3 rows\n",
      "\n"
     ]
    }
   ],
   "source": [
    "dataFrameTitles.show(3)"
   ]
  },
  {
   "cell_type": "code",
   "execution_count": 19,
   "id": "89b5788f-8132-4cae-998d-9483a97012c3",
   "metadata": {
    "execution": {
     "iopub.execute_input": "2023-04-17T15:59:51.224394Z",
     "iopub.status.busy": "2023-04-17T15:59:51.224149Z",
     "iopub.status.idle": "2023-04-17T15:59:51.621919Z",
     "shell.execute_reply": "2023-04-17T15:59:51.621181Z",
     "shell.execute_reply.started": "2023-04-17T15:59:51.224371Z"
    },
    "tags": []
   },
   "outputs": [
    {
     "name": "stdout",
     "output_type": "stream",
     "text": [
      "+-------+----+-----+--------+----+-------+----------+------------+------+--------+---------+-----------+--------+---+\n",
      "|show_id|type|title|director|cast|country|date_added|release_year|rating|duration|listed_in|description|platform| id|\n",
      "+-------+----+-----+--------+----+-------+----------+------------+------+--------+---------+-----------+--------+---+\n",
      "|      0|  18|   29|    8291|5354|  11480|      9547|          53|   914|     531|       51|         53|       0|  0|\n",
      "+-------+----+-----+--------+----+-------+----------+------------+------+--------+---------+-----------+--------+---+\n",
      "\n"
     ]
    }
   ],
   "source": [
    "# listar valores nulos por columna\n",
    "\n",
    "dataFrameTitles.select(*(sum(col(c).isNull().cast('int')).alias(c) for c in dataFrameTitles.columns)).show()"
   ]
  },
  {
   "cell_type": "code",
   "execution_count": 20,
   "id": "0acf12b5-8751-4cbf-a777-38fde9ec3807",
   "metadata": {
    "execution": {
     "iopub.execute_input": "2023-04-17T15:59:51.623151Z",
     "iopub.status.busy": "2023-04-17T15:59:51.622894Z",
     "iopub.status.idle": "2023-04-17T15:59:51.626501Z",
     "shell.execute_reply": "2023-04-17T15:59:51.625767Z",
     "shell.execute_reply.started": "2023-04-17T15:59:51.623128Z"
    },
    "tags": []
   },
   "outputs": [],
   "source": [
    "# listar valores nulos, como condición toda la fila nula excepto show_id y columnas generadas\n",
    "\n",
    "\n",
    "\n",
    "#Falta codigo pensar"
   ]
  },
  {
   "cell_type": "code",
   "execution_count": 21,
   "id": "72353b4e-73e1-4481-920f-9f835ec82b00",
   "metadata": {
    "execution": {
     "iopub.execute_input": "2023-04-17T15:59:51.627629Z",
     "iopub.status.busy": "2023-04-17T15:59:51.627408Z",
     "iopub.status.idle": "2023-04-17T15:59:51.642009Z",
     "shell.execute_reply": "2023-04-17T15:59:51.641369Z",
     "shell.execute_reply.started": "2023-04-17T15:59:51.627607Z"
    },
    "tags": []
   },
   "outputs": [],
   "source": [
    "# eliminar fila nula excepto show_id y columnas generadas\n",
    "\n",
    "dataFrameTitles = dataFrameTitles.na.drop(subset=['type'])"
   ]
  },
  {
   "cell_type": "code",
   "execution_count": 22,
   "id": "e2fb4ad7-da6e-4c8a-af84-ca70c665203e",
   "metadata": {
    "execution": {
     "iopub.execute_input": "2023-04-17T15:59:51.646468Z",
     "iopub.status.busy": "2023-04-17T15:59:51.646257Z",
     "iopub.status.idle": "2023-04-17T15:59:51.974791Z",
     "shell.execute_reply": "2023-04-17T15:59:51.974038Z",
     "shell.execute_reply.started": "2023-04-17T15:59:51.646452Z"
    },
    "tags": []
   },
   "outputs": [
    {
     "name": "stdout",
     "output_type": "stream",
     "text": [
      "+-------+----+-----+--------+----+-------+----------+------------+------+--------+---------+-----------+--------+---+\n",
      "|show_id|type|title|director|cast|country|date_added|release_year|rating|duration|listed_in|description|platform| id|\n",
      "+-------+----+-----+--------+----+-------+----------+------------+------+--------+---------+-----------+--------+---+\n",
      "|      0|   0|   11|    8273|5336|  11462|      9529|          35|   896|     513|       33|         35|       0|  0|\n",
      "+-------+----+-----+--------+----+-------+----------+------------+------+--------+---------+-----------+--------+---+\n",
      "\n"
     ]
    }
   ],
   "source": [
    "#listar valores nulos por columna\n",
    "\n",
    "dataFrameTitles.select(*(sum(col(c).isNull().cast('int')).alias(c) for c in dataFrameTitles.columns)).show()"
   ]
  },
  {
   "cell_type": "markdown",
   "id": "d549bbaf-68ad-46af-853b-ff1123174645",
   "metadata": {},
   "source": [
    "Los valores nulos del campo rating deberán reemplazarse por el string “G” (corresponde al maturity rating: “general for all audiences”"
   ]
  },
  {
   "cell_type": "code",
   "execution_count": 23,
   "id": "ab3c8433-030c-45fa-88fb-610e33151170",
   "metadata": {
    "execution": {
     "iopub.execute_input": "2023-04-17T15:59:51.975924Z",
     "iopub.status.busy": "2023-04-17T15:59:51.975681Z",
     "iopub.status.idle": "2023-04-17T15:59:51.987710Z",
     "shell.execute_reply": "2023-04-17T15:59:51.986780Z",
     "shell.execute_reply.started": "2023-04-17T15:59:51.975900Z"
    },
    "tags": []
   },
   "outputs": [],
   "source": [
    "dataFrameTitles = dataFrameTitles.fillna({\"rating\": \"G\"})"
   ]
  },
  {
   "cell_type": "code",
   "execution_count": 24,
   "id": "6c7088fa-38ce-490e-8e5c-cff676c587b5",
   "metadata": {
    "execution": {
     "iopub.execute_input": "2023-04-17T15:59:51.989023Z",
     "iopub.status.busy": "2023-04-17T15:59:51.988758Z",
     "iopub.status.idle": "2023-04-17T15:59:52.339445Z",
     "shell.execute_reply": "2023-04-17T15:59:52.338737Z",
     "shell.execute_reply.started": "2023-04-17T15:59:51.988992Z"
    },
    "tags": []
   },
   "outputs": [
    {
     "name": "stdout",
     "output_type": "stream",
     "text": [
      "+-------+----+-----+--------+----+-------+----------+------------+------+--------+---------+-----------+--------+---+\n",
      "|show_id|type|title|director|cast|country|date_added|release_year|rating|duration|listed_in|description|platform| id|\n",
      "+-------+----+-----+--------+----+-------+----------+------------+------+--------+---------+-----------+--------+---+\n",
      "|      0|   0|   11|    8273|5336|  11462|      9529|          35|     0|     513|       33|         35|       0|  0|\n",
      "+-------+----+-----+--------+----+-------+----------+------------+------+--------+---------+-----------+--------+---+\n",
      "\n"
     ]
    }
   ],
   "source": [
    "#listar valores nulos por columna\n",
    "\n",
    "dataFrameTitles.select(*(sum(col(c).isNull().cast('int')).alias(c) for c in dataFrameTitles.columns)).show()"
   ]
  },
  {
   "cell_type": "code",
   "execution_count": 25,
   "id": "32126d71-cf52-4f9e-8a22-9e544c781cb6",
   "metadata": {
    "execution": {
     "iopub.execute_input": "2023-04-17T15:59:52.340549Z",
     "iopub.status.busy": "2023-04-17T15:59:52.340280Z",
     "iopub.status.idle": "2023-04-17T15:59:52.577915Z",
     "shell.execute_reply": "2023-04-17T15:59:52.577322Z",
     "shell.execute_reply.started": "2023-04-17T15:59:52.340525Z"
    },
    "tags": []
   },
   "outputs": [
    {
     "name": "stdout",
     "output_type": "stream",
     "text": [
      "+-------+-------+--------------------+--------------------+--------------------+--------------+--------------+------------+------+--------+--------------------+--------------------+--------+----+\n",
      "|show_id|   type|               title|            director|                cast|       country|    date_added|release_year|rating|duration|           listed_in|         description|platform|  id|\n",
      "+-------+-------+--------------------+--------------------+--------------------+--------------+--------------+------------+------+--------+--------------------+--------------------+--------+----+\n",
      "|     s1|  Movie| The Grand Seduction|        Don McKellar|Brendan Gleeson, ...|        Canada|March 30, 2021|        2014|     G| 113 min|       Comedy, Drama|A small fishing v...|  amazon| as1|\n",
      "|     s2|  Movie|Take Care Good Night|        Girish Joshi|Mahesh Manjrekar,...|         India|March 30, 2021|        2018|   13+| 110 min|Drama, International|A Metro Family de...|  amazon| as2|\n",
      "|     s3|  Movie|Secrets of Deception|         Josh Webber|Tom Sizemore, Lor...| United States|March 30, 2021|        2017|     G|  74 min|Action, Drama, Su...|After a man disco...|  amazon| as3|\n",
      "|     s4|  Movie|  Pink: Staying True|      Sonia Anderson|Interviews with: ...| United States|March 30, 2021|        2014|     G|  69 min|         Documentary|\"Pink breaks the ...|  amazon| as4|\n",
      "|     s5|  Movie|       Monster Maker|        Giles Foster|Harry Dean Stanto...|United Kingdom|March 30, 2021|        1989|     G|  45 min|      Drama, Fantasy|Teenage Matt Bant...|  amazon| as5|\n",
      "|     s6|  Movie|Living With Dinos...|        Paul Weiland|Gregory Chisholm,...|United Kingdom|March 30, 2021|        1989|     G|  52 min|       Fantasy, Kids|The story unfolds...|  amazon| as6|\n",
      "|     s7|  Movie|           Hired Gun|         Fran Strine|Alice Cooper, Lib...| United States|March 30, 2021|        2017|     G|  98 min|Documentary, Spec...|\"They are the \"\"F...|  amazon| as7|\n",
      "|     s8|  Movie|        Grease Live!|Thomas Kail, Alex...|Julianne Hough, A...| United States|March 30, 2021|        2016|     G| 131 min|              Comedy|This honest, unco...|  amazon| as8|\n",
      "|     s9|  Movie|     Global Meltdown|       Daniel Gilboy|Michael Paré, Lea...|        Canada|March 30, 2021|        2017|     G|  87 min|Action, Science F...|A helicopter pilo...|  amazon| as9|\n",
      "|    s10|  Movie|      David's Mother|Robert Allan Acke...|Kirstie Alley, Sa...| United States| April 1, 2021|        1994|     G|  92 min|               Drama|\"Sally Goodson is...|  amazon|as10|\n",
      "|    s11|  Movie|      Forest Fairies|      Justin G. Dyck|Emily Wilder, Adr...|        Canada| April 4, 2021|        2016|     G|  88 min|     Adventure, Kids|Amanda stumbles u...|  amazon|as11|\n",
      "|    s12|  Movie|           Take Care|        Liz Tuccillo|Leslie Bibb, Kevi...| United States|April 10, 2021|        2014|     G|  93 min|              Comedy|When a car crash ...|  amazon|as12|\n",
      "|    s13|  Movie|The Night Eats Th...|    Dominique Rocher|Anders Danielsen ...|        France|April 17, 2021|        2018|     G|  94 min|    Horror, Suspense|After waking up i...|  amazon|as13|\n",
      "|    s14|  Movie|          Resilencia|       Jep Barcelona|Rafinha Alcantara...|         Spain|April 24, 2021|        2020|     G|  46 min| Documentary, Sports|The documentary f...|  amazon|as14|\n",
      "|    s15|  Movie|Elon Musk: The Re...|      Sonia Anderson|Elon Musk, Per Wi...|United Kingdom|   May 2, 2021|        2018|     G|  74 min|         Documentary|Discover the mete...|  amazon|as15|\n",
      "|    s16|  Movie|          Summer '03|       Becca Gleason|Joey King, Jack K...| United States|  June 3, 2021|        2019|     G|  96 min|       Comedy, Drama|Summer '03 is the...|  amazon|as16|\n",
      "|    s17|  Movie|            Zoombies|        Glenn Miller|Marcus Anderson, ...|          null|          null|        2016|   13+|  87 min|Horror, Science F...|When a strange vi...|  amazon|as17|\n",
      "|    s18|TV Show|          Zoo Babies|                null|Narrator - Gillia...|          null|          null|        2008|   ALL|1 Season|Kids, Special Int...|A heart warming a...|  amazon|as18|\n",
      "|    s19|TV Show|Zoë Coombs Marr: ...|                null|     Zoë Coombs Marr|          null|          null|        2020|   18+|1 Season|Comedy, Talk Show...|Zoë Coombs Marr h...|  amazon|as19|\n",
      "|    s20|  Movie|                 Zoe|       Drake Doremus|Ewan McGregor, Lé...|          null|          null|        2018|     R| 104 min|     Science Fiction|ZOE tells a tale ...|  amazon|as20|\n",
      "+-------+-------+--------------------+--------------------+--------------------+--------------+--------------+------------+------+--------+--------------------+--------------------+--------+----+\n",
      "only showing top 20 rows\n",
      "\n"
     ]
    }
   ],
   "source": [
    "dataFrameTitles.show()"
   ]
  },
  {
   "cell_type": "code",
   "execution_count": 26,
   "id": "23a83541-9db0-4b85-b328-ba5b6501a4ae",
   "metadata": {
    "execution": {
     "iopub.execute_input": "2023-04-17T15:59:52.578838Z",
     "iopub.status.busy": "2023-04-17T15:59:52.578597Z",
     "iopub.status.idle": "2023-04-17T15:59:52.616339Z",
     "shell.execute_reply": "2023-04-17T15:59:52.615588Z",
     "shell.execute_reply.started": "2023-04-17T15:59:52.578815Z"
    },
    "tags": []
   },
   "outputs": [],
   "source": [
    "# Remplazar valores nulos de todo el dataFrameTitles por ''\n",
    "\n",
    "from pyspark.sql.functions import when, col\n",
    "\n",
    "dataFrameTitles = dataFrameTitles.select([when(col(c).isNull(), '').otherwise(col(c)).alias(c) if c != 'id' else col(c) for c in dataFrameTitles.columns])"
   ]
  },
  {
   "cell_type": "code",
   "execution_count": 27,
   "id": "9d52c4d0-3bdb-47eb-80e6-0f5c5984a646",
   "metadata": {
    "execution": {
     "iopub.execute_input": "2023-04-17T15:59:52.617100Z",
     "iopub.status.busy": "2023-04-17T15:59:52.616946Z",
     "iopub.status.idle": "2023-04-17T15:59:52.927775Z",
     "shell.execute_reply": "2023-04-17T15:59:52.927169Z",
     "shell.execute_reply.started": "2023-04-17T15:59:52.617086Z"
    },
    "tags": []
   },
   "outputs": [
    {
     "name": "stdout",
     "output_type": "stream",
     "text": [
      "+-------+----+-----+--------+----+-------+----------+------------+------+--------+---------+-----------+--------+---+\n",
      "|show_id|type|title|director|cast|country|date_added|release_year|rating|duration|listed_in|description|platform| id|\n",
      "+-------+----+-----+--------+----+-------+----------+------------+------+--------+---------+-----------+--------+---+\n",
      "|      0|   0|    0|       0|   0|      0|         0|           0|     0|       0|        0|          0|       0|  0|\n",
      "+-------+----+-----+--------+----+-------+----------+------------+------+--------+---------+-----------+--------+---+\n",
      "\n"
     ]
    }
   ],
   "source": [
    "#listar valores nulos por columna\n",
    "\n",
    "dataFrameTitles.select(*(sum(col(c).isNull().cast('int')).alias(c) for c in dataFrameTitles.columns)).show()"
   ]
  },
  {
   "cell_type": "code",
   "execution_count": 28,
   "id": "fc0b2e4c-eed8-4444-9ebc-3ece54e3bc0b",
   "metadata": {
    "execution": {
     "iopub.execute_input": "2023-04-17T15:59:52.928778Z",
     "iopub.status.busy": "2023-04-17T15:59:52.928589Z",
     "iopub.status.idle": "2023-04-17T15:59:53.127189Z",
     "shell.execute_reply": "2023-04-17T15:59:53.126505Z",
     "shell.execute_reply.started": "2023-04-17T15:59:52.928762Z"
    },
    "tags": []
   },
   "outputs": [
    {
     "name": "stdout",
     "output_type": "stream",
     "text": [
      "+-------+-------+--------------------+--------------------+--------------------+--------------+--------------+------------+------+--------+--------------------+--------------------+--------+----+\n",
      "|show_id|   type|               title|            director|                cast|       country|    date_added|release_year|rating|duration|           listed_in|         description|platform|  id|\n",
      "+-------+-------+--------------------+--------------------+--------------------+--------------+--------------+------------+------+--------+--------------------+--------------------+--------+----+\n",
      "|     s1|  Movie| The Grand Seduction|        Don McKellar|Brendan Gleeson, ...|        Canada|March 30, 2021|        2014|     G| 113 min|       Comedy, Drama|A small fishing v...|  amazon| as1|\n",
      "|     s2|  Movie|Take Care Good Night|        Girish Joshi|Mahesh Manjrekar,...|         India|March 30, 2021|        2018|   13+| 110 min|Drama, International|A Metro Family de...|  amazon| as2|\n",
      "|     s3|  Movie|Secrets of Deception|         Josh Webber|Tom Sizemore, Lor...| United States|March 30, 2021|        2017|     G|  74 min|Action, Drama, Su...|After a man disco...|  amazon| as3|\n",
      "|     s4|  Movie|  Pink: Staying True|      Sonia Anderson|Interviews with: ...| United States|March 30, 2021|        2014|     G|  69 min|         Documentary|\"Pink breaks the ...|  amazon| as4|\n",
      "|     s5|  Movie|       Monster Maker|        Giles Foster|Harry Dean Stanto...|United Kingdom|March 30, 2021|        1989|     G|  45 min|      Drama, Fantasy|Teenage Matt Bant...|  amazon| as5|\n",
      "|     s6|  Movie|Living With Dinos...|        Paul Weiland|Gregory Chisholm,...|United Kingdom|March 30, 2021|        1989|     G|  52 min|       Fantasy, Kids|The story unfolds...|  amazon| as6|\n",
      "|     s7|  Movie|           Hired Gun|         Fran Strine|Alice Cooper, Lib...| United States|March 30, 2021|        2017|     G|  98 min|Documentary, Spec...|\"They are the \"\"F...|  amazon| as7|\n",
      "|     s8|  Movie|        Grease Live!|Thomas Kail, Alex...|Julianne Hough, A...| United States|March 30, 2021|        2016|     G| 131 min|              Comedy|This honest, unco...|  amazon| as8|\n",
      "|     s9|  Movie|     Global Meltdown|       Daniel Gilboy|Michael Paré, Lea...|        Canada|March 30, 2021|        2017|     G|  87 min|Action, Science F...|A helicopter pilo...|  amazon| as9|\n",
      "|    s10|  Movie|      David's Mother|Robert Allan Acke...|Kirstie Alley, Sa...| United States| April 1, 2021|        1994|     G|  92 min|               Drama|\"Sally Goodson is...|  amazon|as10|\n",
      "|    s11|  Movie|      Forest Fairies|      Justin G. Dyck|Emily Wilder, Adr...|        Canada| April 4, 2021|        2016|     G|  88 min|     Adventure, Kids|Amanda stumbles u...|  amazon|as11|\n",
      "|    s12|  Movie|           Take Care|        Liz Tuccillo|Leslie Bibb, Kevi...| United States|April 10, 2021|        2014|     G|  93 min|              Comedy|When a car crash ...|  amazon|as12|\n",
      "|    s13|  Movie|The Night Eats Th...|    Dominique Rocher|Anders Danielsen ...|        France|April 17, 2021|        2018|     G|  94 min|    Horror, Suspense|After waking up i...|  amazon|as13|\n",
      "|    s14|  Movie|          Resilencia|       Jep Barcelona|Rafinha Alcantara...|         Spain|April 24, 2021|        2020|     G|  46 min| Documentary, Sports|The documentary f...|  amazon|as14|\n",
      "|    s15|  Movie|Elon Musk: The Re...|      Sonia Anderson|Elon Musk, Per Wi...|United Kingdom|   May 2, 2021|        2018|     G|  74 min|         Documentary|Discover the mete...|  amazon|as15|\n",
      "|    s16|  Movie|          Summer '03|       Becca Gleason|Joey King, Jack K...| United States|  June 3, 2021|        2019|     G|  96 min|       Comedy, Drama|Summer '03 is the...|  amazon|as16|\n",
      "|    s17|  Movie|            Zoombies|        Glenn Miller|Marcus Anderson, ...|              |              |        2016|   13+|  87 min|Horror, Science F...|When a strange vi...|  amazon|as17|\n",
      "|    s18|TV Show|          Zoo Babies|                    |Narrator - Gillia...|              |              |        2008|   ALL|1 Season|Kids, Special Int...|A heart warming a...|  amazon|as18|\n",
      "|    s19|TV Show|Zoë Coombs Marr: ...|                    |     Zoë Coombs Marr|              |              |        2020|   18+|1 Season|Comedy, Talk Show...|Zoë Coombs Marr h...|  amazon|as19|\n",
      "|    s20|  Movie|                 Zoe|       Drake Doremus|Ewan McGregor, Lé...|              |              |        2018|     R| 104 min|     Science Fiction|ZOE tells a tale ...|  amazon|as20|\n",
      "+-------+-------+--------------------+--------------------+--------------------+--------------+--------------+------------+------+--------+--------------------+--------------------+--------+----+\n",
      "only showing top 20 rows\n",
      "\n"
     ]
    }
   ],
   "source": [
    "dataFrameTitles.show()"
   ]
  },
  {
   "cell_type": "code",
   "execution_count": 29,
   "id": "2d4cfe5f-4e34-4501-a481-6d608ff3da3a",
   "metadata": {
    "execution": {
     "iopub.execute_input": "2023-04-17T15:59:53.128411Z",
     "iopub.status.busy": "2023-04-17T15:59:53.128139Z",
     "iopub.status.idle": "2023-04-17T15:59:53.131829Z",
     "shell.execute_reply": "2023-04-17T15:59:53.131064Z",
     "shell.execute_reply.started": "2023-04-17T15:59:53.128388Z"
    },
    "tags": []
   },
   "outputs": [],
   "source": [
    "# mover columna plataform a posicion [0]\n",
    "\n",
    "#dataFrameTitles = dataFrameTitles1.select(\"platform\", *[col for col in dataFrameTitles1.columns if col != \"platform\"])"
   ]
  },
  {
   "cell_type": "code",
   "execution_count": 30,
   "id": "2612bbd3-922d-4ddd-85b8-e69b225b97a6",
   "metadata": {
    "execution": {
     "iopub.execute_input": "2023-04-17T15:59:53.132719Z",
     "iopub.status.busy": "2023-04-17T15:59:53.132528Z",
     "iopub.status.idle": "2023-04-17T15:59:53.139236Z",
     "shell.execute_reply": "2023-04-17T15:59:53.138646Z",
     "shell.execute_reply.started": "2023-04-17T15:59:53.132702Z"
    },
    "tags": []
   },
   "outputs": [],
   "source": [
    "# mover columna id a posición [0]\n",
    "\n",
    "#dataFrameTitles = dataFrameTitles.select(\"id\", *[col for col in dataFrameTitles1.columns if col != \"id\"])\n"
   ]
  },
  {
   "cell_type": "code",
   "execution_count": 31,
   "id": "6e708ada-1fb6-4335-b269-57738fbd9fb0",
   "metadata": {
    "execution": {
     "iopub.execute_input": "2023-04-17T15:59:53.140097Z",
     "iopub.status.busy": "2023-04-17T15:59:53.139897Z",
     "iopub.status.idle": "2023-04-17T15:59:53.351192Z",
     "shell.execute_reply": "2023-04-17T15:59:53.350513Z",
     "shell.execute_reply.started": "2023-04-17T15:59:53.140081Z"
    },
    "tags": []
   },
   "outputs": [
    {
     "name": "stdout",
     "output_type": "stream",
     "text": [
      "+-------+-------+--------------------+--------------------+--------------------+--------------+--------------+------------+------+--------+--------------------+--------------------+--------+----+\n",
      "|show_id|   type|               title|            director|                cast|       country|    date_added|release_year|rating|duration|           listed_in|         description|platform|  id|\n",
      "+-------+-------+--------------------+--------------------+--------------------+--------------+--------------+------------+------+--------+--------------------+--------------------+--------+----+\n",
      "|     s1|  Movie| The Grand Seduction|        Don McKellar|Brendan Gleeson, ...|        Canada|March 30, 2021|        2014|     G| 113 min|       Comedy, Drama|A small fishing v...|  amazon| as1|\n",
      "|     s2|  Movie|Take Care Good Night|        Girish Joshi|Mahesh Manjrekar,...|         India|March 30, 2021|        2018|   13+| 110 min|Drama, International|A Metro Family de...|  amazon| as2|\n",
      "|     s3|  Movie|Secrets of Deception|         Josh Webber|Tom Sizemore, Lor...| United States|March 30, 2021|        2017|     G|  74 min|Action, Drama, Su...|After a man disco...|  amazon| as3|\n",
      "|     s4|  Movie|  Pink: Staying True|      Sonia Anderson|Interviews with: ...| United States|March 30, 2021|        2014|     G|  69 min|         Documentary|\"Pink breaks the ...|  amazon| as4|\n",
      "|     s5|  Movie|       Monster Maker|        Giles Foster|Harry Dean Stanto...|United Kingdom|March 30, 2021|        1989|     G|  45 min|      Drama, Fantasy|Teenage Matt Bant...|  amazon| as5|\n",
      "|     s6|  Movie|Living With Dinos...|        Paul Weiland|Gregory Chisholm,...|United Kingdom|March 30, 2021|        1989|     G|  52 min|       Fantasy, Kids|The story unfolds...|  amazon| as6|\n",
      "|     s7|  Movie|           Hired Gun|         Fran Strine|Alice Cooper, Lib...| United States|March 30, 2021|        2017|     G|  98 min|Documentary, Spec...|\"They are the \"\"F...|  amazon| as7|\n",
      "|     s8|  Movie|        Grease Live!|Thomas Kail, Alex...|Julianne Hough, A...| United States|March 30, 2021|        2016|     G| 131 min|              Comedy|This honest, unco...|  amazon| as8|\n",
      "|     s9|  Movie|     Global Meltdown|       Daniel Gilboy|Michael Paré, Lea...|        Canada|March 30, 2021|        2017|     G|  87 min|Action, Science F...|A helicopter pilo...|  amazon| as9|\n",
      "|    s10|  Movie|      David's Mother|Robert Allan Acke...|Kirstie Alley, Sa...| United States| April 1, 2021|        1994|     G|  92 min|               Drama|\"Sally Goodson is...|  amazon|as10|\n",
      "|    s11|  Movie|      Forest Fairies|      Justin G. Dyck|Emily Wilder, Adr...|        Canada| April 4, 2021|        2016|     G|  88 min|     Adventure, Kids|Amanda stumbles u...|  amazon|as11|\n",
      "|    s12|  Movie|           Take Care|        Liz Tuccillo|Leslie Bibb, Kevi...| United States|April 10, 2021|        2014|     G|  93 min|              Comedy|When a car crash ...|  amazon|as12|\n",
      "|    s13|  Movie|The Night Eats Th...|    Dominique Rocher|Anders Danielsen ...|        France|April 17, 2021|        2018|     G|  94 min|    Horror, Suspense|After waking up i...|  amazon|as13|\n",
      "|    s14|  Movie|          Resilencia|       Jep Barcelona|Rafinha Alcantara...|         Spain|April 24, 2021|        2020|     G|  46 min| Documentary, Sports|The documentary f...|  amazon|as14|\n",
      "|    s15|  Movie|Elon Musk: The Re...|      Sonia Anderson|Elon Musk, Per Wi...|United Kingdom|   May 2, 2021|        2018|     G|  74 min|         Documentary|Discover the mete...|  amazon|as15|\n",
      "|    s16|  Movie|          Summer '03|       Becca Gleason|Joey King, Jack K...| United States|  June 3, 2021|        2019|     G|  96 min|       Comedy, Drama|Summer '03 is the...|  amazon|as16|\n",
      "|    s17|  Movie|            Zoombies|        Glenn Miller|Marcus Anderson, ...|              |              |        2016|   13+|  87 min|Horror, Science F...|When a strange vi...|  amazon|as17|\n",
      "|    s18|TV Show|          Zoo Babies|                    |Narrator - Gillia...|              |              |        2008|   ALL|1 Season|Kids, Special Int...|A heart warming a...|  amazon|as18|\n",
      "|    s19|TV Show|Zoë Coombs Marr: ...|                    |     Zoë Coombs Marr|              |              |        2020|   18+|1 Season|Comedy, Talk Show...|Zoë Coombs Marr h...|  amazon|as19|\n",
      "|    s20|  Movie|                 Zoe|       Drake Doremus|Ewan McGregor, Lé...|              |              |        2018|     R| 104 min|     Science Fiction|ZOE tells a tale ...|  amazon|as20|\n",
      "+-------+-------+--------------------+--------------------+--------------------+--------------+--------------+------------+------+--------+--------------------+--------------------+--------+----+\n",
      "only showing top 20 rows\n",
      "\n"
     ]
    }
   ],
   "source": [
    "dataFrameTitles.show()"
   ]
  },
  {
   "cell_type": "code",
   "execution_count": 32,
   "id": "6bc71f0b-5cdd-49ae-8d34-3785d9b10fa2",
   "metadata": {
    "execution": {
     "iopub.execute_input": "2023-04-17T15:59:53.352276Z",
     "iopub.status.busy": "2023-04-17T15:59:53.351951Z",
     "iopub.status.idle": "2023-04-17T15:59:54.323108Z",
     "shell.execute_reply": "2023-04-17T15:59:54.322420Z",
     "shell.execute_reply.started": "2023-04-17T15:59:53.352252Z"
    },
    "tags": []
   },
   "outputs": [
    {
     "name": "stdout",
     "output_type": "stream",
     "text": [
      "+-------+----+-----+--------+----+-------+----------+------------+------+--------+---------+-----------+--------+---+\n",
      "|show_id|type|title|director|cast|country|date_added|release_year|rating|duration|listed_in|description|platform| id|\n",
      "+-------+----+-----+--------+----+-------+----------+------------+------+--------+---------+-----------+--------+---+\n",
      "|      0|   0|    0|       0|   0|      0|         0|           0|     0|       0|        0|          0|       0|  0|\n",
      "+-------+----+-----+--------+----+-------+----------+------------+------+--------+---------+-----------+--------+---+\n",
      "\n"
     ]
    },
    {
     "name": "stderr",
     "output_type": "stream",
     "text": [
      "                                                                                                                                                   \r"
     ]
    }
   ],
   "source": [
    "from pyspark.sql.functions import isnan, when, count, col\n",
    "\n",
    "# contar el número de valores nulos en cada columna\n",
    "dataFrameTitles.select([count(when(isnan(c) | col(c).isNull(), c)).alias(c) for c in dataFrameTitles.columns]).show()"
   ]
  },
  {
   "cell_type": "code",
   "execution_count": 33,
   "id": "00776024-6023-4a00-a9c1-1cd28aa77b97",
   "metadata": {
    "execution": {
     "iopub.execute_input": "2023-04-17T15:59:54.324484Z",
     "iopub.status.busy": "2023-04-17T15:59:54.324013Z",
     "iopub.status.idle": "2023-04-17T15:59:54.594800Z",
     "shell.execute_reply": "2023-04-17T15:59:54.594166Z",
     "shell.execute_reply.started": "2023-04-17T15:59:54.324460Z"
    },
    "tags": []
   },
   "outputs": [
    {
     "name": "stdout",
     "output_type": "stream",
     "text": [
      "+-------+----+-----+--------+----+-------+----------+------------+------+--------+---------+-----------+--------+---+\n",
      "|show_id|type|title|director|cast|country|date_added|release_year|rating|duration|listed_in|description|platform| id|\n",
      "+-------+----+-----+--------+----+-------+----------+------------+------+--------+---------+-----------+--------+---+\n",
      "|      0|   0|    0|       0|   0|      0|         0|           0|     0|       0|        0|          0|       0|  0|\n",
      "+-------+----+-----+--------+----+-------+----------+------------+------+--------+---------+-----------+--------+---+\n",
      "\n"
     ]
    }
   ],
   "source": [
    "#listar valores nulos por columna\n",
    "\n",
    "dataFrameTitles.select(*(sum(col(c).isNull().cast('int')).alias(c) for c in dataFrameTitles.columns)).show()"
   ]
  },
  {
   "cell_type": "code",
   "execution_count": 34,
   "id": "42ad3ddb-731a-4ba7-93e8-bebf61d03e84",
   "metadata": {
    "execution": {
     "iopub.execute_input": "2023-04-17T15:59:54.596093Z",
     "iopub.status.busy": "2023-04-17T15:59:54.595504Z",
     "iopub.status.idle": "2023-04-17T15:59:54.759112Z",
     "shell.execute_reply": "2023-04-17T15:59:54.758488Z",
     "shell.execute_reply.started": "2023-04-17T15:59:54.596069Z"
    },
    "tags": []
   },
   "outputs": [
    {
     "name": "stdout",
     "output_type": "stream",
     "text": [
      "+-------+-------+--------------------+--------------------+--------------------+--------------+--------------+------------+------+--------+--------------------+--------------------+--------+----+\n",
      "|show_id|   type|               title|            director|                cast|       country|    date_added|release_year|rating|duration|           listed_in|         description|platform|  id|\n",
      "+-------+-------+--------------------+--------------------+--------------------+--------------+--------------+------------+------+--------+--------------------+--------------------+--------+----+\n",
      "|     s1|  Movie| The Grand Seduction|        Don McKellar|Brendan Gleeson, ...|        Canada|March 30, 2021|        2014|     G| 113 min|       Comedy, Drama|A small fishing v...|  amazon| as1|\n",
      "|     s2|  Movie|Take Care Good Night|        Girish Joshi|Mahesh Manjrekar,...|         India|March 30, 2021|        2018|   13+| 110 min|Drama, International|A Metro Family de...|  amazon| as2|\n",
      "|     s3|  Movie|Secrets of Deception|         Josh Webber|Tom Sizemore, Lor...| United States|March 30, 2021|        2017|     G|  74 min|Action, Drama, Su...|After a man disco...|  amazon| as3|\n",
      "|     s4|  Movie|  Pink: Staying True|      Sonia Anderson|Interviews with: ...| United States|March 30, 2021|        2014|     G|  69 min|         Documentary|\"Pink breaks the ...|  amazon| as4|\n",
      "|     s5|  Movie|       Monster Maker|        Giles Foster|Harry Dean Stanto...|United Kingdom|March 30, 2021|        1989|     G|  45 min|      Drama, Fantasy|Teenage Matt Bant...|  amazon| as5|\n",
      "|     s6|  Movie|Living With Dinos...|        Paul Weiland|Gregory Chisholm,...|United Kingdom|March 30, 2021|        1989|     G|  52 min|       Fantasy, Kids|The story unfolds...|  amazon| as6|\n",
      "|     s7|  Movie|           Hired Gun|         Fran Strine|Alice Cooper, Lib...| United States|March 30, 2021|        2017|     G|  98 min|Documentary, Spec...|\"They are the \"\"F...|  amazon| as7|\n",
      "|     s8|  Movie|        Grease Live!|Thomas Kail, Alex...|Julianne Hough, A...| United States|March 30, 2021|        2016|     G| 131 min|              Comedy|This honest, unco...|  amazon| as8|\n",
      "|     s9|  Movie|     Global Meltdown|       Daniel Gilboy|Michael Paré, Lea...|        Canada|March 30, 2021|        2017|     G|  87 min|Action, Science F...|A helicopter pilo...|  amazon| as9|\n",
      "|    s10|  Movie|      David's Mother|Robert Allan Acke...|Kirstie Alley, Sa...| United States| April 1, 2021|        1994|     G|  92 min|               Drama|\"Sally Goodson is...|  amazon|as10|\n",
      "|    s11|  Movie|      Forest Fairies|      Justin G. Dyck|Emily Wilder, Adr...|        Canada| April 4, 2021|        2016|     G|  88 min|     Adventure, Kids|Amanda stumbles u...|  amazon|as11|\n",
      "|    s12|  Movie|           Take Care|        Liz Tuccillo|Leslie Bibb, Kevi...| United States|April 10, 2021|        2014|     G|  93 min|              Comedy|When a car crash ...|  amazon|as12|\n",
      "|    s13|  Movie|The Night Eats Th...|    Dominique Rocher|Anders Danielsen ...|        France|April 17, 2021|        2018|     G|  94 min|    Horror, Suspense|After waking up i...|  amazon|as13|\n",
      "|    s14|  Movie|          Resilencia|       Jep Barcelona|Rafinha Alcantara...|         Spain|April 24, 2021|        2020|     G|  46 min| Documentary, Sports|The documentary f...|  amazon|as14|\n",
      "|    s15|  Movie|Elon Musk: The Re...|      Sonia Anderson|Elon Musk, Per Wi...|United Kingdom|   May 2, 2021|        2018|     G|  74 min|         Documentary|Discover the mete...|  amazon|as15|\n",
      "|    s16|  Movie|          Summer '03|       Becca Gleason|Joey King, Jack K...| United States|  June 3, 2021|        2019|     G|  96 min|       Comedy, Drama|Summer '03 is the...|  amazon|as16|\n",
      "|    s17|  Movie|            Zoombies|        Glenn Miller|Marcus Anderson, ...|              |              |        2016|   13+|  87 min|Horror, Science F...|When a strange vi...|  amazon|as17|\n",
      "|    s18|TV Show|          Zoo Babies|                    |Narrator - Gillia...|              |              |        2008|   ALL|1 Season|Kids, Special Int...|A heart warming a...|  amazon|as18|\n",
      "|    s19|TV Show|Zoë Coombs Marr: ...|                    |     Zoë Coombs Marr|              |              |        2020|   18+|1 Season|Comedy, Talk Show...|Zoë Coombs Marr h...|  amazon|as19|\n",
      "|    s20|  Movie|                 Zoe|       Drake Doremus|Ewan McGregor, Lé...|              |              |        2018|     R| 104 min|     Science Fiction|ZOE tells a tale ...|  amazon|as20|\n",
      "+-------+-------+--------------------+--------------------+--------------------+--------------+--------------+------------+------+--------+--------------------+--------------------+--------+----+\n",
      "only showing top 20 rows\n",
      "\n"
     ]
    }
   ],
   "source": [
    "dataFrameTitles.show()"
   ]
  },
  {
   "cell_type": "code",
   "execution_count": 35,
   "id": "272ff911-4c8f-42e2-afe8-ff02e0d36e09",
   "metadata": {
    "execution": {
     "iopub.execute_input": "2023-04-17T15:59:54.760226Z",
     "iopub.status.busy": "2023-04-17T15:59:54.759925Z",
     "iopub.status.idle": "2023-04-17T15:59:54.763409Z",
     "shell.execute_reply": "2023-04-17T15:59:54.762749Z",
     "shell.execute_reply.started": "2023-04-17T15:59:54.760204Z"
    },
    "tags": []
   },
   "outputs": [],
   "source": [
    "#from pyspark.sql.functions import date_format\n",
    "\n",
    "\n",
    "#dataFrametitles = dataFrametitles.withColumn(\"date_adde\", date_format(\"date_added\", \"yyyy-MM-dd\"))"
   ]
  },
  {
   "cell_type": "code",
   "execution_count": 36,
   "id": "66809f22-13d8-43f9-9130-1e19a190470f",
   "metadata": {
    "execution": {
     "iopub.execute_input": "2023-04-17T15:59:54.764544Z",
     "iopub.status.busy": "2023-04-17T15:59:54.764303Z",
     "iopub.status.idle": "2023-04-17T15:59:54.780640Z",
     "shell.execute_reply": "2023-04-17T15:59:54.779980Z",
     "shell.execute_reply.started": "2023-04-17T15:59:54.764522Z"
    },
    "tags": []
   },
   "outputs": [],
   "source": [
    "# cambiar el formato del campo date_added a AAAA-mm-dd\n",
    "\n",
    "from pyspark.sql.functions import to_date, date_format\n",
    "\n",
    "spark.conf.set(\"spark.sql.legacy.timeParserPolicy\",\"LEGACY\")\n",
    "\n",
    "dataFrameTitles = dataFrameTitles.withColumn(\"date_added\", date_format(to_date(\"date_added\", \"MMMM d, yyyy\"), \"yyyy-MM-dd\"))\n",
    "\n",
    "\n",
    "\n",
    "#dataFrameTitles = dataFrameTitles.withColumn('date_added', to_date(col('date_added'), 'yyyy-MM-dd'))\n"
   ]
  },
  {
   "cell_type": "code",
   "execution_count": 37,
   "id": "cc2309c2-b890-4d38-ab7d-6895f39f1986",
   "metadata": {
    "execution": {
     "iopub.execute_input": "2023-04-17T15:59:54.782677Z",
     "iopub.status.busy": "2023-04-17T15:59:54.781943Z",
     "iopub.status.idle": "2023-04-17T15:59:55.060086Z",
     "shell.execute_reply": "2023-04-17T15:59:55.059446Z",
     "shell.execute_reply.started": "2023-04-17T15:59:54.782647Z"
    },
    "tags": []
   },
   "outputs": [
    {
     "name": "stdout",
     "output_type": "stream",
     "text": [
      "+-------+-------+--------------------+--------------------+--------------------+--------------+----------+------------+------+--------+--------------------+--------------------+--------+----+\n",
      "|show_id|   type|               title|            director|                cast|       country|date_added|release_year|rating|duration|           listed_in|         description|platform|  id|\n",
      "+-------+-------+--------------------+--------------------+--------------------+--------------+----------+------------+------+--------+--------------------+--------------------+--------+----+\n",
      "|     s1|  Movie| The Grand Seduction|        Don McKellar|Brendan Gleeson, ...|        Canada|2021-03-30|        2014|     G| 113 min|       Comedy, Drama|A small fishing v...|  amazon| as1|\n",
      "|     s2|  Movie|Take Care Good Night|        Girish Joshi|Mahesh Manjrekar,...|         India|2021-03-30|        2018|   13+| 110 min|Drama, International|A Metro Family de...|  amazon| as2|\n",
      "|     s3|  Movie|Secrets of Deception|         Josh Webber|Tom Sizemore, Lor...| United States|2021-03-30|        2017|     G|  74 min|Action, Drama, Su...|After a man disco...|  amazon| as3|\n",
      "|     s4|  Movie|  Pink: Staying True|      Sonia Anderson|Interviews with: ...| United States|2021-03-30|        2014|     G|  69 min|         Documentary|\"Pink breaks the ...|  amazon| as4|\n",
      "|     s5|  Movie|       Monster Maker|        Giles Foster|Harry Dean Stanto...|United Kingdom|2021-03-30|        1989|     G|  45 min|      Drama, Fantasy|Teenage Matt Bant...|  amazon| as5|\n",
      "|     s6|  Movie|Living With Dinos...|        Paul Weiland|Gregory Chisholm,...|United Kingdom|2021-03-30|        1989|     G|  52 min|       Fantasy, Kids|The story unfolds...|  amazon| as6|\n",
      "|     s7|  Movie|           Hired Gun|         Fran Strine|Alice Cooper, Lib...| United States|2021-03-30|        2017|     G|  98 min|Documentary, Spec...|\"They are the \"\"F...|  amazon| as7|\n",
      "|     s8|  Movie|        Grease Live!|Thomas Kail, Alex...|Julianne Hough, A...| United States|2021-03-30|        2016|     G| 131 min|              Comedy|This honest, unco...|  amazon| as8|\n",
      "|     s9|  Movie|     Global Meltdown|       Daniel Gilboy|Michael Paré, Lea...|        Canada|2021-03-30|        2017|     G|  87 min|Action, Science F...|A helicopter pilo...|  amazon| as9|\n",
      "|    s10|  Movie|      David's Mother|Robert Allan Acke...|Kirstie Alley, Sa...| United States|2021-04-01|        1994|     G|  92 min|               Drama|\"Sally Goodson is...|  amazon|as10|\n",
      "|    s11|  Movie|      Forest Fairies|      Justin G. Dyck|Emily Wilder, Adr...|        Canada|2021-04-04|        2016|     G|  88 min|     Adventure, Kids|Amanda stumbles u...|  amazon|as11|\n",
      "|    s12|  Movie|           Take Care|        Liz Tuccillo|Leslie Bibb, Kevi...| United States|2021-04-10|        2014|     G|  93 min|              Comedy|When a car crash ...|  amazon|as12|\n",
      "|    s13|  Movie|The Night Eats Th...|    Dominique Rocher|Anders Danielsen ...|        France|2021-04-17|        2018|     G|  94 min|    Horror, Suspense|After waking up i...|  amazon|as13|\n",
      "|    s14|  Movie|          Resilencia|       Jep Barcelona|Rafinha Alcantara...|         Spain|2021-04-24|        2020|     G|  46 min| Documentary, Sports|The documentary f...|  amazon|as14|\n",
      "|    s15|  Movie|Elon Musk: The Re...|      Sonia Anderson|Elon Musk, Per Wi...|United Kingdom|2021-05-02|        2018|     G|  74 min|         Documentary|Discover the mete...|  amazon|as15|\n",
      "|    s16|  Movie|          Summer '03|       Becca Gleason|Joey King, Jack K...| United States|2021-06-03|        2019|     G|  96 min|       Comedy, Drama|Summer '03 is the...|  amazon|as16|\n",
      "|    s17|  Movie|            Zoombies|        Glenn Miller|Marcus Anderson, ...|              |      null|        2016|   13+|  87 min|Horror, Science F...|When a strange vi...|  amazon|as17|\n",
      "|    s18|TV Show|          Zoo Babies|                    |Narrator - Gillia...|              |      null|        2008|   ALL|1 Season|Kids, Special Int...|A heart warming a...|  amazon|as18|\n",
      "|    s19|TV Show|Zoë Coombs Marr: ...|                    |     Zoë Coombs Marr|              |      null|        2020|   18+|1 Season|Comedy, Talk Show...|Zoë Coombs Marr h...|  amazon|as19|\n",
      "|    s20|  Movie|                 Zoe|       Drake Doremus|Ewan McGregor, Lé...|              |      null|        2018|     R| 104 min|     Science Fiction|ZOE tells a tale ...|  amazon|as20|\n",
      "+-------+-------+--------------------+--------------------+--------------------+--------------+----------+------------+------+--------+--------------------+--------------------+--------+----+\n",
      "only showing top 20 rows\n",
      "\n"
     ]
    }
   ],
   "source": [
    "dataFrameTitles.show(20)"
   ]
  },
  {
   "cell_type": "code",
   "execution_count": 38,
   "id": "f796fd96-1f09-43f3-8785-f61d77cbb2dd",
   "metadata": {
    "execution": {
     "iopub.execute_input": "2023-04-17T15:59:55.061247Z",
     "iopub.status.busy": "2023-04-17T15:59:55.061012Z",
     "iopub.status.idle": "2023-04-17T15:59:55.065300Z",
     "shell.execute_reply": "2023-04-17T15:59:55.064644Z",
     "shell.execute_reply.started": "2023-04-17T15:59:55.061225Z"
    },
    "tags": []
   },
   "outputs": [
    {
     "name": "stdout",
     "output_type": "stream",
     "text": [
      "show_id es de tipo StringType()\n",
      "type es de tipo StringType()\n",
      "title es de tipo StringType()\n",
      "director es de tipo StringType()\n",
      "cast es de tipo StringType()\n",
      "country es de tipo StringType()\n",
      "date_added es de tipo StringType()\n",
      "release_year es de tipo StringType()\n",
      "rating es de tipo StringType()\n",
      "duration es de tipo StringType()\n",
      "listed_in es de tipo StringType()\n",
      "description es de tipo StringType()\n",
      "platform es de tipo StringType()\n",
      "id es de tipo StringType()\n"
     ]
    }
   ],
   "source": [
    "for col in dataFrameTitles.columns:\n",
    "    print(col, \"es de tipo\", dataFrameTitles.schema[col].dataType)"
   ]
  },
  {
   "cell_type": "code",
   "execution_count": 39,
   "id": "14643afc-b0e0-4efd-867c-415ac7340d81",
   "metadata": {
    "execution": {
     "iopub.execute_input": "2023-04-17T15:59:55.066436Z",
     "iopub.status.busy": "2023-04-17T15:59:55.066206Z",
     "iopub.status.idle": "2023-04-17T15:59:55.136146Z",
     "shell.execute_reply": "2023-04-17T15:59:55.135493Z",
     "shell.execute_reply.started": "2023-04-17T15:59:55.066415Z"
    },
    "tags": []
   },
   "outputs": [],
   "source": [
    "#Transformar a minusculas\n",
    "\n",
    "from pyspark.sql.functions import lower\n",
    "\n",
    "columnas = dataFrameTitles.columns\n",
    "\n",
    "for columna in columnas:\n",
    "    dataFrameTitles = dataFrameTitles.withColumn(columna, lower(columna))\n",
    "\n",
    "\n",
    "\n",
    "#dataFrameTitles = dataFrameTitles.select([lower(col).alias(col) if col in ['id',  'show_id',  'type',  'title',  'director',  'cast',  'country',  'date_added',   'release_year',  'rating',  'duration',  'listed_in',  'description']\n",
    "\n",
    "# else col for col in dataFrameTitles.columns])\n"
   ]
  },
  {
   "cell_type": "code",
   "execution_count": 40,
   "id": "6363831b-7147-408e-b151-300c5db7e0b1",
   "metadata": {
    "execution": {
     "iopub.execute_input": "2023-04-17T15:59:55.137302Z",
     "iopub.status.busy": "2023-04-17T15:59:55.136978Z",
     "iopub.status.idle": "2023-04-17T15:59:55.147496Z",
     "shell.execute_reply": "2023-04-17T15:59:55.146826Z",
     "shell.execute_reply.started": "2023-04-17T15:59:55.137278Z"
    },
    "tags": []
   },
   "outputs": [],
   "source": [
    "from pyspark.sql.functions import col as c\n",
    "\n",
    "dataFrameTitles = dataFrameTitles.withColumn('release_year', c('release_year').cast('integer'))"
   ]
  },
  {
   "cell_type": "code",
   "execution_count": 41,
   "id": "2b8edd4d-a5ad-4c32-9969-e66f8f3cb4be",
   "metadata": {
    "execution": {
     "iopub.execute_input": "2023-04-17T15:59:55.148488Z",
     "iopub.status.busy": "2023-04-17T15:59:55.148252Z",
     "iopub.status.idle": "2023-04-17T15:59:55.159628Z",
     "shell.execute_reply": "2023-04-17T15:59:55.158976Z",
     "shell.execute_reply.started": "2023-04-17T15:59:55.148461Z"
    },
    "tags": []
   },
   "outputs": [],
   "source": [
    "from pyspark.sql.functions import col, to_date\n",
    "\n",
    "# Convertir la columna 'fecha' a formato fecha yyyy-MM-dd\n",
    "dataFrameTitles = dataFrameTitles.withColumn('date_added', to_date(col('date_added'), 'yyyy-MM-dd'))\n"
   ]
  },
  {
   "cell_type": "code",
   "execution_count": 42,
   "id": "33f17d99-e8bb-4bfb-a804-e9c201219e2b",
   "metadata": {
    "execution": {
     "iopub.execute_input": "2023-04-17T15:59:55.160867Z",
     "iopub.status.busy": "2023-04-17T15:59:55.160416Z",
     "iopub.status.idle": "2023-04-17T15:59:55.374498Z",
     "shell.execute_reply": "2023-04-17T15:59:55.373850Z",
     "shell.execute_reply.started": "2023-04-17T15:59:55.160843Z"
    },
    "tags": []
   },
   "outputs": [
    {
     "name": "stdout",
     "output_type": "stream",
     "text": [
      "+-------+-------+--------------------+--------------------+--------------------+--------------+----------+------------+------+--------+--------------------+--------------------+--------+----+\n",
      "|show_id|   type|               title|            director|                cast|       country|date_added|release_year|rating|duration|           listed_in|         description|platform|  id|\n",
      "+-------+-------+--------------------+--------------------+--------------------+--------------+----------+------------+------+--------+--------------------+--------------------+--------+----+\n",
      "|     s1|  movie| the grand seduction|        don mckellar|brendan gleeson, ...|        canada|2021-03-30|        2014|     g| 113 min|       comedy, drama|a small fishing v...|  amazon| as1|\n",
      "|     s2|  movie|take care good night|        girish joshi|mahesh manjrekar,...|         india|2021-03-30|        2018|   13+| 110 min|drama, international|a metro family de...|  amazon| as2|\n",
      "|     s3|  movie|secrets of deception|         josh webber|tom sizemore, lor...| united states|2021-03-30|        2017|     g|  74 min|action, drama, su...|after a man disco...|  amazon| as3|\n",
      "|     s4|  movie|  pink: staying true|      sonia anderson|interviews with: ...| united states|2021-03-30|        2014|     g|  69 min|         documentary|\"pink breaks the ...|  amazon| as4|\n",
      "|     s5|  movie|       monster maker|        giles foster|harry dean stanto...|united kingdom|2021-03-30|        1989|     g|  45 min|      drama, fantasy|teenage matt bant...|  amazon| as5|\n",
      "|     s6|  movie|living with dinos...|        paul weiland|gregory chisholm,...|united kingdom|2021-03-30|        1989|     g|  52 min|       fantasy, kids|the story unfolds...|  amazon| as6|\n",
      "|     s7|  movie|           hired gun|         fran strine|alice cooper, lib...| united states|2021-03-30|        2017|     g|  98 min|documentary, spec...|\"they are the \"\"f...|  amazon| as7|\n",
      "|     s8|  movie|        grease live!|thomas kail, alex...|julianne hough, a...| united states|2021-03-30|        2016|     g| 131 min|              comedy|this honest, unco...|  amazon| as8|\n",
      "|     s9|  movie|     global meltdown|       daniel gilboy|michael paré, lea...|        canada|2021-03-30|        2017|     g|  87 min|action, science f...|a helicopter pilo...|  amazon| as9|\n",
      "|    s10|  movie|      david's mother|robert allan acke...|kirstie alley, sa...| united states|2021-04-01|        1994|     g|  92 min|               drama|\"sally goodson is...|  amazon|as10|\n",
      "|    s11|  movie|      forest fairies|      justin g. dyck|emily wilder, adr...|        canada|2021-04-04|        2016|     g|  88 min|     adventure, kids|amanda stumbles u...|  amazon|as11|\n",
      "|    s12|  movie|           take care|        liz tuccillo|leslie bibb, kevi...| united states|2021-04-10|        2014|     g|  93 min|              comedy|when a car crash ...|  amazon|as12|\n",
      "|    s13|  movie|the night eats th...|    dominique rocher|anders danielsen ...|        france|2021-04-17|        2018|     g|  94 min|    horror, suspense|after waking up i...|  amazon|as13|\n",
      "|    s14|  movie|          resilencia|       jep barcelona|rafinha alcantara...|         spain|2021-04-24|        2020|     g|  46 min| documentary, sports|the documentary f...|  amazon|as14|\n",
      "|    s15|  movie|elon musk: the re...|      sonia anderson|elon musk, per wi...|united kingdom|2021-05-02|        2018|     g|  74 min|         documentary|discover the mete...|  amazon|as15|\n",
      "|    s16|  movie|          summer '03|       becca gleason|joey king, jack k...| united states|2021-06-03|        2019|     g|  96 min|       comedy, drama|summer '03 is the...|  amazon|as16|\n",
      "|    s17|  movie|            zoombies|        glenn miller|marcus anderson, ...|              |      null|        2016|   13+|  87 min|horror, science f...|when a strange vi...|  amazon|as17|\n",
      "|    s18|tv show|          zoo babies|                    |narrator - gillia...|              |      null|        2008|   all|1 season|kids, special int...|a heart warming a...|  amazon|as18|\n",
      "|    s19|tv show|zoë coombs marr: ...|                    |     zoë coombs marr|              |      null|        2020|   18+|1 season|comedy, talk show...|zoë coombs marr h...|  amazon|as19|\n",
      "|    s20|  movie|                 zoe|       drake doremus|ewan mcgregor, lé...|              |      null|        2018|     r| 104 min|     science fiction|zoe tells a tale ...|  amazon|as20|\n",
      "+-------+-------+--------------------+--------------------+--------------------+--------------+----------+------------+------+--------+--------------------+--------------------+--------+----+\n",
      "only showing top 20 rows\n",
      "\n"
     ]
    }
   ],
   "source": [
    "dataFrameTitles.show()"
   ]
  },
  {
   "cell_type": "code",
   "execution_count": 43,
   "id": "684dbce0-3ba9-4564-b95d-6a72d27d4138",
   "metadata": {
    "execution": {
     "iopub.execute_input": "2023-04-17T15:59:55.375572Z",
     "iopub.status.busy": "2023-04-17T15:59:55.375330Z",
     "iopub.status.idle": "2023-04-17T15:59:55.385049Z",
     "shell.execute_reply": "2023-04-17T15:59:55.384354Z",
     "shell.execute_reply.started": "2023-04-17T15:59:55.375550Z"
    },
    "tags": []
   },
   "outputs": [],
   "source": [
    "# Reemplazar los valores nulos en la columna release_year del dataframe dataFrametitles\n",
    "# Luego de cambiar tipo de caracter de stringType a dateType las cadenas vacias me las transformo en null\n",
    "\n",
    "dataFrameTitles = dataFrameTitles.na.fill('')"
   ]
  },
  {
   "cell_type": "code",
   "execution_count": 44,
   "id": "b5e06256-592f-4315-9b13-066f24c4f9a2",
   "metadata": {
    "execution": {
     "iopub.execute_input": "2023-04-17T15:59:55.386235Z",
     "iopub.status.busy": "2023-04-17T15:59:55.385986Z",
     "iopub.status.idle": "2023-04-17T15:59:55.607474Z",
     "shell.execute_reply": "2023-04-17T15:59:55.606845Z",
     "shell.execute_reply.started": "2023-04-17T15:59:55.386213Z"
    },
    "tags": []
   },
   "outputs": [
    {
     "name": "stdout",
     "output_type": "stream",
     "text": [
      "+-------+-------+--------------------+--------------------+--------------------+--------------+----------+------------+------+--------+--------------------+--------------------+--------+----+\n",
      "|show_id|   type|               title|            director|                cast|       country|date_added|release_year|rating|duration|           listed_in|         description|platform|  id|\n",
      "+-------+-------+--------------------+--------------------+--------------------+--------------+----------+------------+------+--------+--------------------+--------------------+--------+----+\n",
      "|     s1|  movie| the grand seduction|        don mckellar|brendan gleeson, ...|        canada|2021-03-30|        2014|     g| 113 min|       comedy, drama|a small fishing v...|  amazon| as1|\n",
      "|     s2|  movie|take care good night|        girish joshi|mahesh manjrekar,...|         india|2021-03-30|        2018|   13+| 110 min|drama, international|a metro family de...|  amazon| as2|\n",
      "|     s3|  movie|secrets of deception|         josh webber|tom sizemore, lor...| united states|2021-03-30|        2017|     g|  74 min|action, drama, su...|after a man disco...|  amazon| as3|\n",
      "|     s4|  movie|  pink: staying true|      sonia anderson|interviews with: ...| united states|2021-03-30|        2014|     g|  69 min|         documentary|\"pink breaks the ...|  amazon| as4|\n",
      "|     s5|  movie|       monster maker|        giles foster|harry dean stanto...|united kingdom|2021-03-30|        1989|     g|  45 min|      drama, fantasy|teenage matt bant...|  amazon| as5|\n",
      "|     s6|  movie|living with dinos...|        paul weiland|gregory chisholm,...|united kingdom|2021-03-30|        1989|     g|  52 min|       fantasy, kids|the story unfolds...|  amazon| as6|\n",
      "|     s7|  movie|           hired gun|         fran strine|alice cooper, lib...| united states|2021-03-30|        2017|     g|  98 min|documentary, spec...|\"they are the \"\"f...|  amazon| as7|\n",
      "|     s8|  movie|        grease live!|thomas kail, alex...|julianne hough, a...| united states|2021-03-30|        2016|     g| 131 min|              comedy|this honest, unco...|  amazon| as8|\n",
      "|     s9|  movie|     global meltdown|       daniel gilboy|michael paré, lea...|        canada|2021-03-30|        2017|     g|  87 min|action, science f...|a helicopter pilo...|  amazon| as9|\n",
      "|    s10|  movie|      david's mother|robert allan acke...|kirstie alley, sa...| united states|2021-04-01|        1994|     g|  92 min|               drama|\"sally goodson is...|  amazon|as10|\n",
      "|    s11|  movie|      forest fairies|      justin g. dyck|emily wilder, adr...|        canada|2021-04-04|        2016|     g|  88 min|     adventure, kids|amanda stumbles u...|  amazon|as11|\n",
      "|    s12|  movie|           take care|        liz tuccillo|leslie bibb, kevi...| united states|2021-04-10|        2014|     g|  93 min|              comedy|when a car crash ...|  amazon|as12|\n",
      "|    s13|  movie|the night eats th...|    dominique rocher|anders danielsen ...|        france|2021-04-17|        2018|     g|  94 min|    horror, suspense|after waking up i...|  amazon|as13|\n",
      "|    s14|  movie|          resilencia|       jep barcelona|rafinha alcantara...|         spain|2021-04-24|        2020|     g|  46 min| documentary, sports|the documentary f...|  amazon|as14|\n",
      "|    s15|  movie|elon musk: the re...|      sonia anderson|elon musk, per wi...|united kingdom|2021-05-02|        2018|     g|  74 min|         documentary|discover the mete...|  amazon|as15|\n",
      "|    s16|  movie|          summer '03|       becca gleason|joey king, jack k...| united states|2021-06-03|        2019|     g|  96 min|       comedy, drama|summer '03 is the...|  amazon|as16|\n",
      "|    s17|  movie|            zoombies|        glenn miller|marcus anderson, ...|              |      null|        2016|   13+|  87 min|horror, science f...|when a strange vi...|  amazon|as17|\n",
      "|    s18|tv show|          zoo babies|                    |narrator - gillia...|              |      null|        2008|   all|1 season|kids, special int...|a heart warming a...|  amazon|as18|\n",
      "|    s19|tv show|zoë coombs marr: ...|                    |     zoë coombs marr|              |      null|        2020|   18+|1 season|comedy, talk show...|zoë coombs marr h...|  amazon|as19|\n",
      "|    s20|  movie|                 zoe|       drake doremus|ewan mcgregor, lé...|              |      null|        2018|     r| 104 min|     science fiction|zoe tells a tale ...|  amazon|as20|\n",
      "+-------+-------+--------------------+--------------------+--------------------+--------------+----------+------------+------+--------+--------------------+--------------------+--------+----+\n",
      "only showing top 20 rows\n",
      "\n"
     ]
    }
   ],
   "source": [
    "dataFrameTitles.show()"
   ]
  },
  {
   "cell_type": "code",
   "execution_count": 45,
   "id": "86f8d3c4-d50a-414d-84b0-846908310f9e",
   "metadata": {
    "execution": {
     "iopub.execute_input": "2023-04-17T15:59:55.608555Z",
     "iopub.status.busy": "2023-04-17T15:59:55.608332Z",
     "iopub.status.idle": "2023-04-17T15:59:55.627482Z",
     "shell.execute_reply": "2023-04-17T15:59:55.626892Z",
     "shell.execute_reply.started": "2023-04-17T15:59:55.608533Z"
    },
    "tags": []
   },
   "outputs": [],
   "source": [
    "# convertir duration en dos campos: duration_int y duration_type\n",
    "\n",
    "from pyspark.sql.functions import split\n",
    "\n",
    "dataFrameTitles = dataFrameTitles.withColumn(\"duration_int\", split(\"duration\", \" \")[0])\n",
    "dataFrameTitles = dataFrameTitles.withColumn(\"duration_type\", split(\"duration\", \" \")[1])"
   ]
  },
  {
   "cell_type": "code",
   "execution_count": 46,
   "id": "246870fc-1321-451d-ada3-010586f399d2",
   "metadata": {
    "execution": {
     "iopub.execute_input": "2023-04-17T15:59:55.628240Z",
     "iopub.status.busy": "2023-04-17T15:59:55.628082Z",
     "iopub.status.idle": "2023-04-17T15:59:55.856914Z",
     "shell.execute_reply": "2023-04-17T15:59:55.856273Z",
     "shell.execute_reply.started": "2023-04-17T15:59:55.628225Z"
    },
    "tags": []
   },
   "outputs": [
    {
     "name": "stdout",
     "output_type": "stream",
     "text": [
      "+-------+-----+--------------------+------------+--------------------+-------------+----------+------------+------+--------+--------------------+--------------------+--------+---+------------+-------------+\n",
      "|show_id| type|               title|    director|                cast|      country|date_added|release_year|rating|duration|           listed_in|         description|platform| id|duration_int|duration_type|\n",
      "+-------+-----+--------------------+------------+--------------------+-------------+----------+------------+------+--------+--------------------+--------------------+--------+---+------------+-------------+\n",
      "|     s1|movie| the grand seduction|don mckellar|brendan gleeson, ...|       canada|2021-03-30|        2014|     g| 113 min|       comedy, drama|a small fishing v...|  amazon|as1|         113|          min|\n",
      "|     s2|movie|take care good night|girish joshi|mahesh manjrekar,...|        india|2021-03-30|        2018|   13+| 110 min|drama, international|a metro family de...|  amazon|as2|         110|          min|\n",
      "|     s3|movie|secrets of deception| josh webber|tom sizemore, lor...|united states|2021-03-30|        2017|     g|  74 min|action, drama, su...|after a man disco...|  amazon|as3|          74|          min|\n",
      "+-------+-----+--------------------+------------+--------------------+-------------+----------+------------+------+--------+--------------------+--------------------+--------+---+------------+-------------+\n",
      "only showing top 3 rows\n",
      "\n"
     ]
    }
   ],
   "source": [
    "dataFrameTitles.show(3)"
   ]
  },
  {
   "cell_type": "code",
   "execution_count": 47,
   "id": "94e61432-20ce-4f2a-a705-3d28ce0b0b89",
   "metadata": {
    "execution": {
     "iopub.execute_input": "2023-04-17T15:59:55.858193Z",
     "iopub.status.busy": "2023-04-17T15:59:55.857743Z",
     "iopub.status.idle": "2023-04-17T15:59:55.862668Z",
     "shell.execute_reply": "2023-04-17T15:59:55.862029Z",
     "shell.execute_reply.started": "2023-04-17T15:59:55.858168Z"
    },
    "tags": []
   },
   "outputs": [
    {
     "name": "stdout",
     "output_type": "stream",
     "text": [
      "show_id El tipo de dato es: StringType()\n",
      "type El tipo de dato es: StringType()\n",
      "title El tipo de dato es: StringType()\n",
      "director El tipo de dato es: StringType()\n",
      "cast El tipo de dato es: StringType()\n",
      "country El tipo de dato es: StringType()\n",
      "date_added El tipo de dato es: DateType()\n",
      "release_year El tipo de dato es: IntegerType()\n",
      "rating El tipo de dato es: StringType()\n",
      "duration El tipo de dato es: StringType()\n",
      "listed_in El tipo de dato es: StringType()\n",
      "description El tipo de dato es: StringType()\n",
      "platform El tipo de dato es: StringType()\n",
      "id El tipo de dato es: StringType()\n",
      "duration_int El tipo de dato es: StringType()\n",
      "duration_type El tipo de dato es: StringType()\n"
     ]
    }
   ],
   "source": [
    "for col in dataFrameTitles.columns:\n",
    "    print(col, 'El tipo de dato es:', dataFrameTitles.schema[col].dataType)"
   ]
  },
  {
   "cell_type": "code",
   "execution_count": 48,
   "id": "7c84ad91-52a6-48f7-ae58-c6072e1819da",
   "metadata": {
    "execution": {
     "iopub.execute_input": "2023-04-17T15:59:55.864012Z",
     "iopub.status.busy": "2023-04-17T15:59:55.863551Z",
     "iopub.status.idle": "2023-04-17T15:59:55.869889Z",
     "shell.execute_reply": "2023-04-17T15:59:55.869216Z",
     "shell.execute_reply.started": "2023-04-17T15:59:55.863987Z"
    },
    "tags": []
   },
   "outputs": [
    {
     "name": "stdout",
     "output_type": "stream",
     "text": [
      "['show_id', 'type', 'title', 'director', 'cast', 'country', 'date_added', 'release_year', 'rating', 'duration', 'listed_in', 'description', 'platform', 'id', 'duration_int', 'duration_type']\n"
     ]
    }
   ],
   "source": [
    "print(dataFrameTitles.columns)"
   ]
  },
  {
   "cell_type": "code",
   "execution_count": 49,
   "id": "8c08b644-ddcd-4584-9cd9-91a979f59d60",
   "metadata": {
    "execution": {
     "iopub.execute_input": "2023-04-17T15:59:55.870873Z",
     "iopub.status.busy": "2023-04-17T15:59:55.870647Z",
     "iopub.status.idle": "2023-04-17T15:59:56.307433Z",
     "shell.execute_reply": "2023-04-17T15:59:56.306770Z",
     "shell.execute_reply.started": "2023-04-17T15:59:55.870857Z"
    },
    "tags": []
   },
   "outputs": [
    {
     "name": "stdout",
     "output_type": "stream",
     "text": [
      "+-------+----+-----+--------+----+-------+----------+------------+------+--------+---------+-----------+--------+---+------------+-------------+\n",
      "|show_id|type|title|director|cast|country|date_added|release_year|rating|duration|listed_in|description|platform| id|duration_int|duration_type|\n",
      "+-------+----+-----+--------+----+-------+----------+------------+------+--------+---------+-----------+--------+---+------------+-------------+\n",
      "+-------+----+-----+--------+----+-------+----------+------------+------+--------+---------+-----------+--------+---+------------+-------------+\n",
      "\n"
     ]
    }
   ],
   "source": [
    "# listar Columnas cadenas vacias\n",
    "\n",
    "from pyspark.sql.functions import length as spark_length\n",
    "from pyspark.sql.functions import col\n",
    "\n",
    "dataFrameTitles.filter(spark_length(col('date_added')) == 0).show(3)"
   ]
  },
  {
   "cell_type": "code",
   "execution_count": 50,
   "id": "230bde58-58ec-4d60-8385-ec31d5163199",
   "metadata": {
    "execution": {
     "iopub.execute_input": "2023-04-17T15:59:56.308448Z",
     "iopub.status.busy": "2023-04-17T15:59:56.308202Z",
     "iopub.status.idle": "2023-04-17T15:59:56.318223Z",
     "shell.execute_reply": "2023-04-17T15:59:56.317416Z",
     "shell.execute_reply.started": "2023-04-17T15:59:56.308424Z"
    },
    "tags": []
   },
   "outputs": [],
   "source": [
    "# transformar columna duration_int, de tipo de dato StringType a IntegerType\n",
    "\n",
    "from pyspark.sql.functions import col\n",
    "\n",
    "dataFrameTitlesFinal = dataFrameTitles.withColumn('duration_int', col('duration_int').cast('integer'))"
   ]
  },
  {
   "cell_type": "code",
   "execution_count": 51,
   "id": "77e409e2-1bc5-42ee-af0a-fec5aad12846",
   "metadata": {
    "execution": {
     "iopub.execute_input": "2023-04-17T15:59:56.319360Z",
     "iopub.status.busy": "2023-04-17T15:59:56.319105Z",
     "iopub.status.idle": "2023-04-17T15:59:56.517235Z",
     "shell.execute_reply": "2023-04-17T15:59:56.516616Z",
     "shell.execute_reply.started": "2023-04-17T15:59:56.319335Z"
    },
    "tags": []
   },
   "outputs": [
    {
     "name": "stdout",
     "output_type": "stream",
     "text": [
      "+-------+-------+--------------------+--------------------+--------------------+--------------+----------+------------+------+--------+--------------------+--------------------+--------+----+------------+-------------+\n",
      "|show_id|   type|               title|            director|                cast|       country|date_added|release_year|rating|duration|           listed_in|         description|platform|  id|duration_int|duration_type|\n",
      "+-------+-------+--------------------+--------------------+--------------------+--------------+----------+------------+------+--------+--------------------+--------------------+--------+----+------------+-------------+\n",
      "|     s1|  movie| the grand seduction|        don mckellar|brendan gleeson, ...|        canada|2021-03-30|        2014|     g| 113 min|       comedy, drama|a small fishing v...|  amazon| as1|         113|          min|\n",
      "|     s2|  movie|take care good night|        girish joshi|mahesh manjrekar,...|         india|2021-03-30|        2018|   13+| 110 min|drama, international|a metro family de...|  amazon| as2|         110|          min|\n",
      "|     s3|  movie|secrets of deception|         josh webber|tom sizemore, lor...| united states|2021-03-30|        2017|     g|  74 min|action, drama, su...|after a man disco...|  amazon| as3|          74|          min|\n",
      "|     s4|  movie|  pink: staying true|      sonia anderson|interviews with: ...| united states|2021-03-30|        2014|     g|  69 min|         documentary|\"pink breaks the ...|  amazon| as4|          69|          min|\n",
      "|     s5|  movie|       monster maker|        giles foster|harry dean stanto...|united kingdom|2021-03-30|        1989|     g|  45 min|      drama, fantasy|teenage matt bant...|  amazon| as5|          45|          min|\n",
      "|     s6|  movie|living with dinos...|        paul weiland|gregory chisholm,...|united kingdom|2021-03-30|        1989|     g|  52 min|       fantasy, kids|the story unfolds...|  amazon| as6|          52|          min|\n",
      "|     s7|  movie|           hired gun|         fran strine|alice cooper, lib...| united states|2021-03-30|        2017|     g|  98 min|documentary, spec...|\"they are the \"\"f...|  amazon| as7|          98|          min|\n",
      "|     s8|  movie|        grease live!|thomas kail, alex...|julianne hough, a...| united states|2021-03-30|        2016|     g| 131 min|              comedy|this honest, unco...|  amazon| as8|         131|          min|\n",
      "|     s9|  movie|     global meltdown|       daniel gilboy|michael paré, lea...|        canada|2021-03-30|        2017|     g|  87 min|action, science f...|a helicopter pilo...|  amazon| as9|          87|          min|\n",
      "|    s10|  movie|      david's mother|robert allan acke...|kirstie alley, sa...| united states|2021-04-01|        1994|     g|  92 min|               drama|\"sally goodson is...|  amazon|as10|          92|          min|\n",
      "|    s11|  movie|      forest fairies|      justin g. dyck|emily wilder, adr...|        canada|2021-04-04|        2016|     g|  88 min|     adventure, kids|amanda stumbles u...|  amazon|as11|          88|          min|\n",
      "|    s12|  movie|           take care|        liz tuccillo|leslie bibb, kevi...| united states|2021-04-10|        2014|     g|  93 min|              comedy|when a car crash ...|  amazon|as12|          93|          min|\n",
      "|    s13|  movie|the night eats th...|    dominique rocher|anders danielsen ...|        france|2021-04-17|        2018|     g|  94 min|    horror, suspense|after waking up i...|  amazon|as13|          94|          min|\n",
      "|    s14|  movie|          resilencia|       jep barcelona|rafinha alcantara...|         spain|2021-04-24|        2020|     g|  46 min| documentary, sports|the documentary f...|  amazon|as14|          46|          min|\n",
      "|    s15|  movie|elon musk: the re...|      sonia anderson|elon musk, per wi...|united kingdom|2021-05-02|        2018|     g|  74 min|         documentary|discover the mete...|  amazon|as15|          74|          min|\n",
      "|    s16|  movie|          summer '03|       becca gleason|joey king, jack k...| united states|2021-06-03|        2019|     g|  96 min|       comedy, drama|summer '03 is the...|  amazon|as16|          96|          min|\n",
      "|    s17|  movie|            zoombies|        glenn miller|marcus anderson, ...|              |      null|        2016|   13+|  87 min|horror, science f...|when a strange vi...|  amazon|as17|          87|          min|\n",
      "|    s18|tv show|          zoo babies|                    |narrator - gillia...|              |      null|        2008|   all|1 season|kids, special int...|a heart warming a...|  amazon|as18|           1|       season|\n",
      "|    s19|tv show|zoë coombs marr: ...|                    |     zoë coombs marr|              |      null|        2020|   18+|1 season|comedy, talk show...|zoë coombs marr h...|  amazon|as19|           1|       season|\n",
      "|    s20|  movie|                 zoe|       drake doremus|ewan mcgregor, lé...|              |      null|        2018|     r| 104 min|     science fiction|zoe tells a tale ...|  amazon|as20|         104|          min|\n",
      "+-------+-------+--------------------+--------------------+--------------------+--------------+----------+------------+------+--------+--------------------+--------------------+--------+----+------------+-------------+\n",
      "only showing top 20 rows\n",
      "\n"
     ]
    }
   ],
   "source": [
    "dataFrameTitles.show()"
   ]
  },
  {
   "cell_type": "code",
   "execution_count": 52,
   "id": "55fd3aa9-bf81-4410-abcc-170568251c91",
   "metadata": {
    "execution": {
     "iopub.execute_input": "2023-04-17T15:59:56.518093Z",
     "iopub.status.busy": "2023-04-17T15:59:56.517874Z",
     "iopub.status.idle": "2023-04-17T15:59:57.186872Z",
     "shell.execute_reply": "2023-04-17T15:59:57.186327Z",
     "shell.execute_reply.started": "2023-04-17T15:59:56.518077Z"
    },
    "tags": []
   },
   "outputs": [],
   "source": [
    "dataFrameTitlesFinal.write.format(\"parquet\").mode('overwrite').save('dfTitlesFinal')"
   ]
  },
  {
   "cell_type": "code",
   "execution_count": 53,
   "id": "b063a876-4898-4f66-b72a-47e064df292b",
   "metadata": {
    "execution": {
     "iopub.execute_input": "2023-04-17T15:59:57.187726Z",
     "iopub.status.busy": "2023-04-17T15:59:57.187559Z",
     "iopub.status.idle": "2023-04-17T15:59:57.195798Z",
     "shell.execute_reply": "2023-04-17T15:59:57.195314Z",
     "shell.execute_reply.started": "2023-04-17T15:59:57.187711Z"
    },
    "tags": []
   },
   "outputs": [
    {
     "data": {
      "text/plain": [
       "DataFrame[show_id: string, type: string, title: string, director: string, cast: string, country: string, date_added: date, release_year: int, rating: string, duration: string, listed_in: string, description: string, platform: string, id: string, duration_int: int, duration_type: string]"
      ]
     },
     "execution_count": 53,
     "metadata": {},
     "output_type": "execute_result"
    }
   ],
   "source": [
    "dataFrameTitlesFinal"
   ]
  },
  {
   "cell_type": "code",
   "execution_count": null,
   "id": "78ba6f9b-c51c-4280-bc09-04ed9b94f738",
   "metadata": {},
   "outputs": [],
   "source": []
  },
  {
   "cell_type": "code",
   "execution_count": 54,
   "id": "fab5d392-1dc2-45d6-8a90-17c19d708c44",
   "metadata": {
    "execution": {
     "iopub.execute_input": "2023-04-17T15:59:57.196600Z",
     "iopub.status.busy": "2023-04-17T15:59:57.196441Z",
     "iopub.status.idle": "2023-04-17T15:59:57.418718Z",
     "shell.execute_reply": "2023-04-17T15:59:57.418148Z",
     "shell.execute_reply.started": "2023-04-17T15:59:57.196586Z"
    },
    "tags": []
   },
   "outputs": [
    {
     "name": "stdout",
     "output_type": "stream",
     "text": [
      "+--------------------+--------------------+--------------------+--------------+\n",
      "|               title|            director|                cast|       country|\n",
      "+--------------------+--------------------+--------------------+--------------+\n",
      "| the grand seduction|        don mckellar|brendan gleeson, ...|        canada|\n",
      "|take care good night|        girish joshi|mahesh manjrekar,...|         india|\n",
      "|secrets of deception|         josh webber|tom sizemore, lor...| united states|\n",
      "|  pink: staying true|      sonia anderson|interviews with: ...| united states|\n",
      "|       monster maker|        giles foster|harry dean stanto...|united kingdom|\n",
      "|living with dinos...|        paul weiland|gregory chisholm,...|united kingdom|\n",
      "|           hired gun|         fran strine|alice cooper, lib...| united states|\n",
      "|        grease live!|thomas kail, alex...|julianne hough, a...| united states|\n",
      "|     global meltdown|       daniel gilboy|michael paré, lea...|        canada|\n",
      "|      david's mother|robert allan acke...|kirstie alley, sa...| united states|\n",
      "|      forest fairies|      justin g. dyck|emily wilder, adr...|        canada|\n",
      "|           take care|        liz tuccillo|leslie bibb, kevi...| united states|\n",
      "|the night eats th...|    dominique rocher|anders danielsen ...|        france|\n",
      "|          resilencia|       jep barcelona|rafinha alcantara...|         spain|\n",
      "|elon musk: the re...|      sonia anderson|elon musk, per wi...|united kingdom|\n",
      "|          summer '03|       becca gleason|joey king, jack k...| united states|\n",
      "|            zoombies|        glenn miller|marcus anderson, ...|              |\n",
      "|          zoo babies|                    |narrator - gillia...|              |\n",
      "|zoë coombs marr: ...|                    |     zoë coombs marr|              |\n",
      "|                 zoe|       drake doremus|ewan mcgregor, lé...|              |\n",
      "+--------------------+--------------------+--------------------+--------------+\n",
      "only showing top 20 rows\n",
      "\n"
     ]
    }
   ],
   "source": [
    "dataFrameTitles.select(dataFrameTitles.columns[2:6]).show()"
   ]
  },
  {
   "cell_type": "code",
   "execution_count": 55,
   "id": "4f705989-7379-4213-b36c-61c27a8171c9",
   "metadata": {
    "execution": {
     "iopub.execute_input": "2023-04-17T15:59:57.419922Z",
     "iopub.status.busy": "2023-04-17T15:59:57.419474Z",
     "iopub.status.idle": "2023-04-17T15:59:57.435461Z",
     "shell.execute_reply": "2023-04-17T15:59:57.434494Z",
     "shell.execute_reply.started": "2023-04-17T15:59:57.419895Z"
    },
    "tags": []
   },
   "outputs": [],
   "source": [
    "from pyspark.sql.functions import avg\n",
    "\n",
    "dataFramePromedioScored = dataFrameRatings.groupBy(\"movieid\").agg(avg(\"scored\").alias(\"promedio_scored\"))"
   ]
  },
  {
   "cell_type": "code",
   "execution_count": 56,
   "id": "e135ad5e-e5a3-438c-98b9-89b5a20c3c75",
   "metadata": {
    "execution": {
     "iopub.execute_input": "2023-04-17T15:59:57.436997Z",
     "iopub.status.busy": "2023-04-17T15:59:57.436625Z",
     "iopub.status.idle": "2023-04-17T15:59:57.458621Z",
     "shell.execute_reply": "2023-04-17T15:59:57.458008Z",
     "shell.execute_reply.started": "2023-04-17T15:59:57.436966Z"
    },
    "tags": []
   },
   "outputs": [],
   "source": [
    "unionDataFramePromedioScored = dataFrameTitlesFinal.join(dataFramePromedioScored, dataFrameTitlesFinal[\"id\"] == dataFramePromedioScored[\"movieId\"])"
   ]
  },
  {
   "cell_type": "code",
   "execution_count": 57,
   "id": "bd3dff47-10e0-4f09-bbf0-6dd7004b0369",
   "metadata": {
    "execution": {
     "iopub.execute_input": "2023-04-17T15:59:57.459946Z",
     "iopub.status.busy": "2023-04-17T15:59:57.459401Z",
     "iopub.status.idle": "2023-04-17T16:00:03.991100Z",
     "shell.execute_reply": "2023-04-17T16:00:03.990378Z",
     "shell.execute_reply.started": "2023-04-17T15:59:57.459928Z"
    },
    "tags": []
   },
   "outputs": [
    {
     "name": "stderr",
     "output_type": "stream",
     "text": [
      "[Stage 86:>                                                                                                                            (0 + 1) / 1]\r"
     ]
    },
    {
     "name": "stdout",
     "output_type": "stream",
     "text": [
      "+-------+-------+--------------------+--------------------+--------------------+-------------+----------+------------+------+----------+--------------------+--------------------+--------+------+------------+-------------+-------+------------------+\n",
      "|show_id|   type|               title|            director|                cast|      country|date_added|release_year|rating|  duration|           listed_in|         description|platform|    id|duration_int|duration_type|movieid|   promedio_scored|\n",
      "+-------+-------+--------------------+--------------------+--------------------+-------------+----------+------------+------+----------+--------------------+--------------------+--------+------+------------+-------------+-------+------------------+\n",
      "|     s1|  movie| the grand seduction|        don mckellar|brendan gleeson, ...|       canada|2021-03-30|        2014|     g|   113 min|       comedy, drama|a small fishing v...|  amazon|   as1|         113|          min|    as1|3.4671314741035855|\n",
      "|    s10|  movie|      david's mother|robert allan acke...|kirstie alley, sa...|united states|2021-04-01|        1994|     g|    92 min|               drama|\"sally goodson is...|  amazon|  as10|          92|          min|   as10| 3.439571150097466|\n",
      "|   s100|  movie|       wilder napalm|  glenn gordon caron|debra winger, den...|             |      null|        1993| pg-13|   109 min|comedy, science f...|two brothers with...|  amazon| as100|         109|          min|  as100| 3.609302325581395|\n",
      "|  s1000|  movie|sinbad: make me w...|         jay chapman|              sinbad|             |      null|        2014|   16+|    90 min|arts, entertainme...|\"watch the all-ou...|  amazon|as1000|          90|          min| as1000| 3.556701030927835|\n",
      "|  s1001|  movie|simple gifts: the...|          habib azar|                    |             |      null|        2016|     g|    84 min|         documentary|                   a|  amazon|as1001|          84|          min| as1001|3.5852878464818763|\n",
      "|  s1002|tv show|simon's cat - cla...|                    |                    |             |      null|        2018|   all|  1 season|     animation, kids|simon's cat - cla...|  amazon|as1002|           1|       season| as1002|3.5997830802603037|\n",
      "|  s1003|  movie|         silver wolf|        peter svatek|michael biehn, ro...|             |      null|        1999|     g|    98 min|       action, drama|jesse is a 16-yea...|  amazon|as1003|          98|          min| as1003|3.5098253275109172|\n",
      "|  s1004|  movie|     silver stallion|    edward f. finney|david sharpe, jan...|             |      null|        1941|   18+|    59 min|             western|the silver stalli...|  amazon|as1004|          59|          min| as1004|3.4835051546391753|\n",
      "|  s1005|  movie|        silver blaze|      thomas bentley|arthur wontner, i...|             |      null|        1937|    nr|    70 min|    action, suspense|sherlock holmes t...|  amazon|as1005|          70|          min| as1005| 3.577004219409283|\n",
      "|  s1006|tv show|     silver and gold|                    |                    |             |      null|        2017| tv-nr|  1 season|            tv shows|tetsuo morita (so...|  amazon|as1006|           1|       season| as1006| 3.478215767634855|\n",
      "|  s1007|tv show|                silk|                    |maxine peake, rup...|             |      null|        2014| tv-14| 3 seasons|               drama|defense barrister...|  amazon|as1007|           3|      seasons| as1007|3.5626304801670146|\n",
      "|  s1008|tv show|      silent witness|                    |emilia fox, richa...|             |      null|        2018| tv-ma|21 seasons|     drama, suspense|the award-winning...|  amazon|as1008|          21|      seasons| as1008| 3.447198275862069|\n",
      "|  s1009|  movie|silent wings - th...|        robert child|hal holbrook, wal...|             |      null|        2007|    7+|   115 min|documentary, spec...|from the early ra...|  amazon|as1009|         115|          min| as1009| 3.503061224489796|\n",
      "|   s101|tv show|          wild north|                    |                    |             |      null|        2014|    7+|  1 season|documentary, spec...|\"\"\"wild north\"\" m...|  amazon| as101|           1|       season|  as101|3.5323590814196244|\n",
      "|  s1010|  movie|      silence patton|      robert orlando|don kruizinga, pe...|             |      null|        2018|   13+|    85 min|         documentary|silence patton as...|  amazon|as1010|          85|          min| as1010|  3.60752688172043|\n",
      "|  s1011|  movie|silence (tamil) (...|     hemant madhukar|anushka shetty, m...|             |      null|        2020|   16+|   126 min|            suspense|a murder-mystery ...|  amazon|as1011|         126|          min| as1011| 3.408811475409836|\n",
      "|  s1012|  movie|silence (malayala...|     hemant madhukar|anushka shetty, m...|             |      null|        2020|   16+|   126 min|            suspense|a murder-mystery ...|  amazon|as1012|         126|          min| as1012|3.5265748031496065|\n",
      "|  s1013|tv show|sigmund and the s...|                    |rebecca bloom, da...|             |      null|        2017|    7+|  1 season|                kids|brothers johnny a...|  amazon|as1013|           1|       season| as1013|3.6188436830835116|\n",
      "|  s1014|tv show| sid the science kid|                    |alice dinnean, do...|             |      null|        2008|   all|  1 season|                kids|season 1 volume 1...|  amazon|as1014|           1|       season| as1014|3.4899193548387095|\n",
      "|  s1015|  movie|sick song & more ...|moonbug entertain...|                    |             |      null|        2020|   all|    29 min|                kids|a new collection ...|  amazon|as1015|          29|          min| as1015|3.5838445807770962|\n",
      "+-------+-------+--------------------+--------------------+--------------------+-------------+----------+------------+------+----------+--------------------+--------------------+--------+------+------------+-------------+-------+------------------+\n",
      "only showing top 20 rows\n",
      "\n"
     ]
    },
    {
     "name": "stderr",
     "output_type": "stream",
     "text": [
      "                                                                                                                                                   \r"
     ]
    }
   ],
   "source": [
    "unionDataFramePromedioScored.show()"
   ]
  },
  {
   "cell_type": "code",
   "execution_count": 58,
   "id": "4a7b42a6-26d9-4e1c-8906-5110818da3ed",
   "metadata": {
    "execution": {
     "iopub.execute_input": "2023-04-17T16:00:03.992351Z",
     "iopub.status.busy": "2023-04-17T16:00:03.992057Z",
     "iopub.status.idle": "2023-04-17T16:00:04.002246Z",
     "shell.execute_reply": "2023-04-17T16:00:04.001633Z",
     "shell.execute_reply.started": "2023-04-17T16:00:03.992328Z"
    },
    "tags": []
   },
   "outputs": [],
   "source": [
    "from pyspark.sql.functions import col\n",
    "\n",
    "unionDataFramePromedioScored = unionDataFramePromedioScored.withColumn('promedio_scored', col('promedio_scored').cast(\"float\"))"
   ]
  },
  {
   "cell_type": "code",
   "execution_count": 59,
   "id": "ab41a091-0a00-460f-ac76-8df561a3252f",
   "metadata": {
    "execution": {
     "iopub.execute_input": "2023-04-17T16:00:04.003350Z",
     "iopub.status.busy": "2023-04-17T16:00:04.003097Z",
     "iopub.status.idle": "2023-04-17T16:00:04.009488Z",
     "shell.execute_reply": "2023-04-17T16:00:04.008776Z",
     "shell.execute_reply.started": "2023-04-17T16:00:04.003327Z"
    },
    "tags": []
   },
   "outputs": [
    {
     "data": {
      "text/plain": [
       "DataFrame[show_id: string, type: string, title: string, director: string, cast: string, country: string, date_added: date, release_year: int, rating: string, duration: string, listed_in: string, description: string, platform: string, id: string, duration_int: int, duration_type: string, movieid: string, promedio_scored: float]"
      ]
     },
     "execution_count": 59,
     "metadata": {},
     "output_type": "execute_result"
    }
   ],
   "source": [
    "unionDataFramePromedioScored"
   ]
  },
  {
   "cell_type": "code",
   "execution_count": 60,
   "id": "31498cb7-65e4-4c02-b48e-596aef11cd5b",
   "metadata": {
    "execution": {
     "iopub.execute_input": "2023-04-17T16:00:04.010861Z",
     "iopub.status.busy": "2023-04-17T16:00:04.010572Z",
     "iopub.status.idle": "2023-04-17T16:00:04.021688Z",
     "shell.execute_reply": "2023-04-17T16:00:04.021080Z",
     "shell.execute_reply.started": "2023-04-17T16:00:04.010836Z"
    },
    "tags": []
   },
   "outputs": [],
   "source": [
    "#unionDataFrame = merged_df = dataFrameTitlesFinal.join(, on=['id'])\n",
    "\n",
    "\n",
    "\n",
    "# realiza la unión utilizando las columnas \"show_id\" y \"movieId\"\n",
    "unionDataFrame = dataFrameTitlesFinal.join(dataFrameRatings, dataFrameTitles[\"id\"] == dataFrameRatings[\"movieId\"])\n",
    "\n"
   ]
  },
  {
   "cell_type": "code",
   "execution_count": 61,
   "id": "8bc7e9e7-7007-4f75-8f69-e36f28c41036",
   "metadata": {
    "execution": {
     "iopub.execute_input": "2023-04-17T16:00:04.022873Z",
     "iopub.status.busy": "2023-04-17T16:00:04.022579Z",
     "iopub.status.idle": "2023-04-17T16:00:18.609470Z",
     "shell.execute_reply": "2023-04-17T16:00:18.608893Z",
     "shell.execute_reply.started": "2023-04-17T16:00:04.022850Z"
    },
    "tags": []
   },
   "outputs": [
    {
     "name": "stderr",
     "output_type": "stream",
     "text": [
      "[Stage 91:>                                                                                                                            (0 + 1) / 1]\r"
     ]
    },
    {
     "name": "stdout",
     "output_type": "stream",
     "text": [
      "+-------+-----+-------------------+------------+--------------------+-------+----------+------------+------+--------+-------------+--------------------+--------+---+------------+-------------+------+------+----------+-------+\n",
      "|show_id| type|              title|    director|                cast|country|date_added|release_year|rating|duration|    listed_in|         description|platform| id|duration_int|duration_type|userid|scored| timestamp|movieid|\n",
      "+-------+-----+-------------------+------------+--------------------+-------+----------+------------+------+--------+-------------+--------------------+--------+---+------------+-------------+------+------+----------+-------+\n",
      "|     s1|movie|the grand seduction|don mckellar|brendan gleeson, ...| canada|2021-03-30|        2014|     g| 113 min|comedy, drama|a small fishing v...|  amazon|as1|         113|          min|   543|   5.0|1059596582|    as1|\n",
      "|     s1|movie|the grand seduction|don mckellar|brendan gleeson, ...| canada|2021-03-30|        2014|     g| 113 min|comedy, drama|a small fishing v...|  amazon|as1|         113|          min|257596|   4.0| 977593505|    as1|\n",
      "|     s1|movie|the grand seduction|don mckellar|brendan gleeson, ...| canada|2021-03-30|        2014|     g| 113 min|comedy, drama|a small fishing v...|  amazon|as1|         113|          min|   595|   3.0| 839937603|    as1|\n",
      "|     s1|movie|the grand seduction|don mckellar|brendan gleeson, ...| canada|2021-03-30|        2014|     g| 113 min|comedy, drama|a small fishing v...|  amazon|as1|         113|          min|257653|   2.0| 974850718|    as1|\n",
      "|     s1|movie|the grand seduction|don mckellar|brendan gleeson, ...| canada|2021-03-30|        2014|     g| 113 min|comedy, drama|a small fishing v...|  amazon|as1|         113|          min|   611|   3.0| 978549108|    as1|\n",
      "|     s1|movie|the grand seduction|don mckellar|brendan gleeson, ...| canada|2021-03-30|        2014|     g| 113 min|comedy, drama|a small fishing v...|  amazon|as1|         113|          min|257935|   3.0| 838674726|    as1|\n",
      "|     s1|movie|the grand seduction|don mckellar|brendan gleeson, ...| canada|2021-03-30|        2014|     g| 113 min|comedy, drama|a small fishing v...|  amazon|as1|         113|          min|  2523|   3.5|1340634980|    as1|\n",
      "|     s1|movie|the grand seduction|don mckellar|brendan gleeson, ...| canada|2021-03-30|        2014|     g| 113 min|comedy, drama|a small fishing v...|  amazon|as1|         113|          min|257991|   3.0|1151619012|    as1|\n",
      "|     s1|movie|the grand seduction|don mckellar|brendan gleeson, ...| canada|2021-03-30|        2014|     g| 113 min|comedy, drama|a small fishing v...|  amazon|as1|         113|          min|  3082|   4.0| 954396636|    as1|\n",
      "|     s1|movie|the grand seduction|don mckellar|brendan gleeson, ...| canada|2021-03-30|        2014|     g| 113 min|comedy, drama|a small fishing v...|  amazon|as1|         113|          min|258098|   3.0| 946021584|    as1|\n",
      "|     s1|movie|the grand seduction|don mckellar|brendan gleeson, ...| canada|2021-03-30|        2014|     g| 113 min|comedy, drama|a small fishing v...|  amazon|as1|         113|          min|  3672|   4.5|1053046149|    as1|\n",
      "|     s1|movie|the grand seduction|don mckellar|brendan gleeson, ...| canada|2021-03-30|        2014|     g| 113 min|comedy, drama|a small fishing v...|  amazon|as1|         113|          min|258148|   3.5|1225718984|    as1|\n",
      "|     s1|movie|the grand seduction|don mckellar|brendan gleeson, ...| canada|2021-03-30|        2014|     g| 113 min|comedy, drama|a small fishing v...|  amazon|as1|         113|          min|  3696|   2.5|1139622455|    as1|\n",
      "|     s1|movie|the grand seduction|don mckellar|brendan gleeson, ...| canada|2021-03-30|        2014|     g| 113 min|comedy, drama|a small fishing v...|  amazon|as1|         113|          min|258594|   3.0|1010167225|    as1|\n",
      "|     s1|movie|the grand seduction|don mckellar|brendan gleeson, ...| canada|2021-03-30|        2014|     g| 113 min|comedy, drama|a small fishing v...|  amazon|as1|         113|          min|  3894|   4.5|1490917472|    as1|\n",
      "|     s1|movie|the grand seduction|don mckellar|brendan gleeson, ...| canada|2021-03-30|        2014|     g| 113 min|comedy, drama|a small fishing v...|  amazon|as1|         113|          min|258725|   3.0| 834267764|    as1|\n",
      "|     s1|movie|the grand seduction|don mckellar|brendan gleeson, ...| canada|2021-03-30|        2014|     g| 113 min|comedy, drama|a small fishing v...|  amazon|as1|         113|          min|  4233|   3.5|1280531973|    as1|\n",
      "|     s1|movie|the grand seduction|don mckellar|brendan gleeson, ...| canada|2021-03-30|        2014|     g| 113 min|comedy, drama|a small fishing v...|  amazon|as1|         113|          min|258817|   5.0|1316999538|    as1|\n",
      "|     s1|movie|the grand seduction|don mckellar|brendan gleeson, ...| canada|2021-03-30|        2014|     g| 113 min|comedy, drama|a small fishing v...|  amazon|as1|         113|          min|  4574|   3.5|1225300503|    as1|\n",
      "|     s1|movie|the grand seduction|don mckellar|brendan gleeson, ...| canada|2021-03-30|        2014|     g| 113 min|comedy, drama|a small fishing v...|  amazon|as1|         113|          min|259033|   3.5|1170442947|    as1|\n",
      "+-------+-----+-------------------+------------+--------------------+-------+----------+------------+------+--------+-------------+--------------------+--------+---+------------+-------------+------+------+----------+-------+\n",
      "only showing top 20 rows\n",
      "\n"
     ]
    },
    {
     "name": "stderr",
     "output_type": "stream",
     "text": [
      "                                                                                                                                                   \r"
     ]
    }
   ],
   "source": [
    "unionDataFrame.show()"
   ]
  },
  {
   "cell_type": "code",
   "execution_count": 62,
   "id": "b36a238c-4863-4922-842b-ce6c2151b78b",
   "metadata": {
    "execution": {
     "iopub.execute_input": "2023-04-17T16:00:18.610302Z",
     "iopub.status.busy": "2023-04-17T16:00:18.610111Z",
     "iopub.status.idle": "2023-04-17T16:00:21.284491Z",
     "shell.execute_reply": "2023-04-17T16:00:21.283921Z",
     "shell.execute_reply.started": "2023-04-17T16:00:18.610286Z"
    },
    "tags": []
   },
   "outputs": [
    {
     "name": "stderr",
     "output_type": "stream",
     "text": [
      "[Stage 93:===============================================> (77 + 3) / 80][Stage 95:>                                                  (0 + 1) / 1]]\r"
     ]
    },
    {
     "name": "stdout",
     "output_type": "stream",
     "text": [
      "+------+-------+--------------------+----------+------------+--------+------+------+\n",
      "|    id|   type|               title|date_added|release_year|platform|userId|scored|\n",
      "+------+-------+--------------------+----------+------------+--------+------+------+\n",
      "| as680|tv show|the english civil...|      null|        2019|  amazon|     1|   1.0|\n",
      "|ns2186|  movie|latte and the mag...|2020-07-31|        2020| netflix|     1|   4.5|\n",
      "|hs2381|tv show|   la diosa coronada|2018-10-05|        2010|    hulu|     1|   5.0|\n",
      "|ns3663|  movie|frankenstein’s mo...|2019-07-16|        2019| netflix|     1|   5.0|\n",
      "|as9500|  movie|          kept woman|      null|        2015|  amazon|     1|   5.0|\n",
      "|as3004|tv show|         bookaboo uk|      null|        2009|  amazon|     1|   4.0|\n",
      "|ns8282|  movie|        the drowning|2017-09-01|        2016| netflix|     1|   4.5|\n",
      "|as6112|  movie|              salome|      null|        2002|  amazon|     1|   5.0|\n",
      "| hs327|  movie|       chaos walking|2021-08-27|        2021|    hulu|     1|   4.0|\n",
      "|ns1358|  movie|               rocks|2021-02-01|        2019| netflix|     1|   4.0|\n",
      "|ns7360|tv show|          lucky days|2016-09-01|        2010| netflix|     1|   5.0|\n",
      "|ns3980|tv show|charlie's colorfo...|2019-03-22|        2019| netflix|     1|   5.0|\n",
      "| ns128|  movie|  a cinderella story|2021-09-01|        2004| netflix|     1|   4.0|\n",
      "|ns3830|  movie|       malibu rescue|2019-05-13|        2019| netflix|     1|   3.5|\n",
      "|as5517|  movie|cannibal women in...|      null|        1989|  amazon|     1|   4.0|\n",
      "|as1577|tv show|           mr. robot|      null|        2019|  amazon|     1|   5.0|\n",
      "|hs2056|tv show|biography: the tr...|2019-10-01|        2019|    hulu|     1|   5.0|\n",
      "|ns5413|tv show|      criminal minds|2017-06-30|        2017| netflix|     1|   5.0|\n",
      "|as6909|  movie|        mexican moon|      null|        2021|  amazon|     1|   5.0|\n",
      "|as4340|  movie|    bright hill road|      null|        2021|  amazon|     1|   5.0|\n",
      "+------+-------+--------------------+----------+------------+--------+------+------+\n",
      "only showing top 20 rows\n",
      "\n"
     ]
    },
    {
     "name": "stderr",
     "output_type": "stream",
     "text": [
      "                                                                                                                                                   \r"
     ]
    }
   ],
   "source": [
    "unionDataFrameReducido = unionDataFrame.select( col('id'), col('type'), col('title'), col('date_added'), col('release_year'),  col('platform'), col('userId'), col('scored'))\n",
    "\n",
    "unionDataFrameReducido.show()"
   ]
  },
  {
   "cell_type": "code",
   "execution_count": 63,
   "id": "0b90ef09-1fec-454a-b49f-e25d1e0d5b26",
   "metadata": {
    "execution": {
     "iopub.execute_input": "2023-04-17T16:00:21.285441Z",
     "iopub.status.busy": "2023-04-17T16:00:21.285272Z",
     "iopub.status.idle": "2023-04-17T16:00:21.290430Z",
     "shell.execute_reply": "2023-04-17T16:00:21.289816Z",
     "shell.execute_reply.started": "2023-04-17T16:00:21.285425Z"
    },
    "tags": []
   },
   "outputs": [
    {
     "data": {
      "text/plain": [
       "DataFrame[show_id: string, type: string, title: string, director: string, cast: string, country: string, date_added: date, release_year: int, rating: string, duration: string, listed_in: string, description: string, platform: string, id: string, duration_int: int, duration_type: string, userid: string, scored: float, timestamp: string, movieid: string]"
      ]
     },
     "execution_count": 63,
     "metadata": {},
     "output_type": "execute_result"
    }
   ],
   "source": [
    "unionDataFrame"
   ]
  },
  {
   "cell_type": "code",
   "execution_count": 64,
   "id": "e7b97c2a-15bf-4610-ba58-ddacc2a3d385",
   "metadata": {
    "execution": {
     "iopub.execute_input": "2023-04-17T16:00:21.291546Z",
     "iopub.status.busy": "2023-04-17T16:00:21.291304Z",
     "iopub.status.idle": "2023-04-17T16:00:26.101601Z",
     "shell.execute_reply": "2023-04-17T16:00:26.100991Z",
     "shell.execute_reply.started": "2023-04-17T16:00:21.291527Z"
    },
    "tags": []
   },
   "outputs": [
    {
     "name": "stderr",
     "output_type": "stream",
     "text": [
      "                                                                                                                                                   \r"
     ]
    },
    {
     "data": {
      "text/plain": [
       "11024289"
      ]
     },
     "execution_count": 64,
     "metadata": {},
     "output_type": "execute_result"
    }
   ],
   "source": [
    "unionDataFrame.count()"
   ]
  },
  {
   "cell_type": "code",
   "execution_count": 65,
   "id": "b8c60bcf-eeca-4b97-975b-ef7fd0f3e6d2",
   "metadata": {
    "execution": {
     "iopub.execute_input": "2023-04-17T16:00:26.102700Z",
     "iopub.status.busy": "2023-04-17T16:00:26.102484Z",
     "iopub.status.idle": "2023-04-17T16:00:26.116360Z",
     "shell.execute_reply": "2023-04-17T16:00:26.115795Z",
     "shell.execute_reply.started": "2023-04-17T16:00:26.102684Z"
    },
    "tags": []
   },
   "outputs": [],
   "source": [
    "from pyspark.sql.functions import avg\n",
    "\n",
    "unionDataFrameScoredPromedio = unionDataFrame.groupBy(\"id\").agg(avg(\"scored\").alias(\"promedio_scored\"))\n"
   ]
  },
  {
   "cell_type": "code",
   "execution_count": 66,
   "id": "edcc0a04-d8b7-469a-ad22-e84538e34896",
   "metadata": {
    "execution": {
     "iopub.execute_input": "2023-04-17T16:00:26.117308Z",
     "iopub.status.busy": "2023-04-17T16:00:26.117106Z",
     "iopub.status.idle": "2023-04-17T16:00:26.122209Z",
     "shell.execute_reply": "2023-04-17T16:00:26.121629Z",
     "shell.execute_reply.started": "2023-04-17T16:00:26.117293Z"
    },
    "tags": []
   },
   "outputs": [
    {
     "data": {
      "text/plain": [
       "DataFrame[id: string, promedio_scored: double]"
      ]
     },
     "execution_count": 66,
     "metadata": {},
     "output_type": "execute_result"
    }
   ],
   "source": [
    "unionDataFrameScoredPromedio"
   ]
  },
  {
   "cell_type": "code",
   "execution_count": 67,
   "id": "d7256239-2db6-4633-beef-5140ca54d0a3",
   "metadata": {
    "execution": {
     "iopub.execute_input": "2023-04-17T16:00:26.128778Z",
     "iopub.status.busy": "2023-04-17T16:00:26.128596Z",
     "iopub.status.idle": "2023-04-17T16:00:31.987435Z",
     "shell.execute_reply": "2023-04-17T16:00:31.986830Z",
     "shell.execute_reply.started": "2023-04-17T16:00:26.128763Z"
    },
    "tags": []
   },
   "outputs": [
    {
     "name": "stderr",
     "output_type": "stream",
     "text": [
      "[Stage 106:>                                                                                                                           (0 + 1) / 1]\r"
     ]
    },
    {
     "name": "stdout",
     "output_type": "stream",
     "text": [
      "+-------+------------------+\n",
      "|movieid|   promedio_scored|\n",
      "+-------+------------------+\n",
      "|  as680|3.5491266375545854|\n",
      "| ns2186|  3.55688622754491|\n",
      "| hs2381|3.6041237113402063|\n",
      "| ns3663|3.5470852017937218|\n",
      "| as9500|3.5321576763485476|\n",
      "| as3004| 3.425889328063241|\n",
      "| ns8282| 3.535569105691057|\n",
      "| as6112|3.6351626016260163|\n",
      "|  hs327|3.5064794816414686|\n",
      "| ns1358|3.5356415478615073|\n",
      "| ns7360| 3.456953642384106|\n",
      "| ns3980|3.5793478260869565|\n",
      "|  ns128|3.5415800415800414|\n",
      "| ns3830| 3.498102466793169|\n",
      "| as5517|3.4847494553376905|\n",
      "| as1577|3.5885947046843176|\n",
      "| hs2056|  3.52465483234714|\n",
      "| ns5413| 3.501919385796545|\n",
      "| as6909|3.5493951612903225|\n",
      "| as4340| 3.602020202020202|\n",
      "+-------+------------------+\n",
      "only showing top 20 rows\n",
      "\n"
     ]
    },
    {
     "name": "stderr",
     "output_type": "stream",
     "text": [
      "                                                                                                                                                   \r"
     ]
    }
   ],
   "source": [
    "dataFramePromedioScored.show()"
   ]
  },
  {
   "cell_type": "code",
   "execution_count": 68,
   "id": "4182333b-c12d-4850-9ee6-9c8b45dfc845",
   "metadata": {
    "execution": {
     "iopub.execute_input": "2023-04-17T16:00:31.988483Z",
     "iopub.status.busy": "2023-04-17T16:00:31.988243Z",
     "iopub.status.idle": "2023-04-17T16:00:31.999619Z",
     "shell.execute_reply": "2023-04-17T16:00:31.998999Z",
     "shell.execute_reply.started": "2023-04-17T16:00:31.988458Z"
    },
    "tags": []
   },
   "outputs": [],
   "source": [
    "unionDataFramePromedioScored = dataFrameTitlesFinal.join(dataFramePromedioScored, dataFrameTitlesFinal[\"id\"] == dataFramePromedioScored[\"movieId\"])"
   ]
  },
  {
   "cell_type": "code",
   "execution_count": 69,
   "id": "0b131e22-9668-4caa-8e15-b113121c2199",
   "metadata": {
    "execution": {
     "iopub.execute_input": "2023-04-17T16:00:32.000892Z",
     "iopub.status.busy": "2023-04-17T16:00:32.000562Z",
     "iopub.status.idle": "2023-04-17T16:00:38.186797Z",
     "shell.execute_reply": "2023-04-17T16:00:38.186149Z",
     "shell.execute_reply.started": "2023-04-17T16:00:32.000873Z"
    },
    "tags": []
   },
   "outputs": [
    {
     "name": "stderr",
     "output_type": "stream",
     "text": [
      "[Stage 111:>                                                                                                                           (0 + 1) / 1]\r"
     ]
    },
    {
     "name": "stdout",
     "output_type": "stream",
     "text": [
      "+-------+-------+--------------------+--------------------+--------------------+-------------+----------+------------+------+----------+--------------------+--------------------+--------+------+------------+-------------+-------+------------------+\n",
      "|show_id|   type|               title|            director|                cast|      country|date_added|release_year|rating|  duration|           listed_in|         description|platform|    id|duration_int|duration_type|movieid|   promedio_scored|\n",
      "+-------+-------+--------------------+--------------------+--------------------+-------------+----------+------------+------+----------+--------------------+--------------------+--------+------+------------+-------------+-------+------------------+\n",
      "|     s1|  movie| the grand seduction|        don mckellar|brendan gleeson, ...|       canada|2021-03-30|        2014|     g|   113 min|       comedy, drama|a small fishing v...|  amazon|   as1|         113|          min|    as1|3.4671314741035855|\n",
      "|    s10|  movie|      david's mother|robert allan acke...|kirstie alley, sa...|united states|2021-04-01|        1994|     g|    92 min|               drama|\"sally goodson is...|  amazon|  as10|          92|          min|   as10| 3.439571150097466|\n",
      "|   s100|  movie|       wilder napalm|  glenn gordon caron|debra winger, den...|             |      null|        1993| pg-13|   109 min|comedy, science f...|two brothers with...|  amazon| as100|         109|          min|  as100| 3.609302325581395|\n",
      "|  s1000|  movie|sinbad: make me w...|         jay chapman|              sinbad|             |      null|        2014|   16+|    90 min|arts, entertainme...|\"watch the all-ou...|  amazon|as1000|          90|          min| as1000| 3.556701030927835|\n",
      "|  s1001|  movie|simple gifts: the...|          habib azar|                    |             |      null|        2016|     g|    84 min|         documentary|                   a|  amazon|as1001|          84|          min| as1001|3.5852878464818763|\n",
      "|  s1002|tv show|simon's cat - cla...|                    |                    |             |      null|        2018|   all|  1 season|     animation, kids|simon's cat - cla...|  amazon|as1002|           1|       season| as1002|3.5997830802603037|\n",
      "|  s1003|  movie|         silver wolf|        peter svatek|michael biehn, ro...|             |      null|        1999|     g|    98 min|       action, drama|jesse is a 16-yea...|  amazon|as1003|          98|          min| as1003|3.5098253275109172|\n",
      "|  s1004|  movie|     silver stallion|    edward f. finney|david sharpe, jan...|             |      null|        1941|   18+|    59 min|             western|the silver stalli...|  amazon|as1004|          59|          min| as1004|3.4835051546391753|\n",
      "|  s1005|  movie|        silver blaze|      thomas bentley|arthur wontner, i...|             |      null|        1937|    nr|    70 min|    action, suspense|sherlock holmes t...|  amazon|as1005|          70|          min| as1005| 3.577004219409283|\n",
      "|  s1006|tv show|     silver and gold|                    |                    |             |      null|        2017| tv-nr|  1 season|            tv shows|tetsuo morita (so...|  amazon|as1006|           1|       season| as1006| 3.478215767634855|\n",
      "|  s1007|tv show|                silk|                    |maxine peake, rup...|             |      null|        2014| tv-14| 3 seasons|               drama|defense barrister...|  amazon|as1007|           3|      seasons| as1007|3.5626304801670146|\n",
      "|  s1008|tv show|      silent witness|                    |emilia fox, richa...|             |      null|        2018| tv-ma|21 seasons|     drama, suspense|the award-winning...|  amazon|as1008|          21|      seasons| as1008| 3.447198275862069|\n",
      "|  s1009|  movie|silent wings - th...|        robert child|hal holbrook, wal...|             |      null|        2007|    7+|   115 min|documentary, spec...|from the early ra...|  amazon|as1009|         115|          min| as1009| 3.503061224489796|\n",
      "|   s101|tv show|          wild north|                    |                    |             |      null|        2014|    7+|  1 season|documentary, spec...|\"\"\"wild north\"\" m...|  amazon| as101|           1|       season|  as101|3.5323590814196244|\n",
      "|  s1010|  movie|      silence patton|      robert orlando|don kruizinga, pe...|             |      null|        2018|   13+|    85 min|         documentary|silence patton as...|  amazon|as1010|          85|          min| as1010|  3.60752688172043|\n",
      "|  s1011|  movie|silence (tamil) (...|     hemant madhukar|anushka shetty, m...|             |      null|        2020|   16+|   126 min|            suspense|a murder-mystery ...|  amazon|as1011|         126|          min| as1011| 3.408811475409836|\n",
      "|  s1012|  movie|silence (malayala...|     hemant madhukar|anushka shetty, m...|             |      null|        2020|   16+|   126 min|            suspense|a murder-mystery ...|  amazon|as1012|         126|          min| as1012|3.5265748031496065|\n",
      "|  s1013|tv show|sigmund and the s...|                    |rebecca bloom, da...|             |      null|        2017|    7+|  1 season|                kids|brothers johnny a...|  amazon|as1013|           1|       season| as1013|3.6188436830835116|\n",
      "|  s1014|tv show| sid the science kid|                    |alice dinnean, do...|             |      null|        2008|   all|  1 season|                kids|season 1 volume 1...|  amazon|as1014|           1|       season| as1014|3.4899193548387095|\n",
      "|  s1015|  movie|sick song & more ...|moonbug entertain...|                    |             |      null|        2020|   all|    29 min|                kids|a new collection ...|  amazon|as1015|          29|          min| as1015|3.5838445807770962|\n",
      "+-------+-------+--------------------+--------------------+--------------------+-------------+----------+------------+------+----------+--------------------+--------------------+--------+------+------------+-------------+-------+------------------+\n",
      "only showing top 20 rows\n",
      "\n"
     ]
    },
    {
     "name": "stderr",
     "output_type": "stream",
     "text": [
      "                                                                                                                                                   \r"
     ]
    }
   ],
   "source": [
    "unionDataFramePromedioScored.show()"
   ]
  },
  {
   "cell_type": "code",
   "execution_count": 70,
   "id": "7faba736-4511-4f62-97a7-c8a869462204",
   "metadata": {
    "execution": {
     "iopub.execute_input": "2023-04-17T16:00:38.187711Z",
     "iopub.status.busy": "2023-04-17T16:00:38.187540Z",
     "iopub.status.idle": "2023-04-17T16:00:38.198691Z",
     "shell.execute_reply": "2023-04-17T16:00:38.198105Z",
     "shell.execute_reply.started": "2023-04-17T16:00:38.187696Z"
    },
    "tags": []
   },
   "outputs": [],
   "source": [
    "from pyspark.sql.functions import col\n",
    "\n",
    "unionDataFramePromedioScored = unionDataFramePromedioScored.withColumn('promedio_scored', col('promedio_scored').cast(\"float\"))"
   ]
  },
  {
   "cell_type": "code",
   "execution_count": 71,
   "id": "a0e497db-7e52-4f21-97df-1839f740015d",
   "metadata": {
    "execution": {
     "iopub.execute_input": "2023-04-17T16:00:38.199543Z",
     "iopub.status.busy": "2023-04-17T16:00:38.199368Z",
     "iopub.status.idle": "2023-04-17T16:00:38.214431Z",
     "shell.execute_reply": "2023-04-17T16:00:38.213846Z",
     "shell.execute_reply.started": "2023-04-17T16:00:38.199529Z"
    },
    "tags": []
   },
   "outputs": [
    {
     "data": {
      "text/plain": [
       "DataFrame[show_id: string, type: string, title: string, director: string, cast: string, country: string, date_added: date, release_year: int, rating: string, duration: string, listed_in: string, description: string, platform: string, id: string, duration_int: int, duration_type: string, movieid: string, promedio_scored: float]"
      ]
     },
     "execution_count": 71,
     "metadata": {},
     "output_type": "execute_result"
    }
   ],
   "source": [
    "unionDataFramePromedioScored"
   ]
  },
  {
   "cell_type": "code",
   "execution_count": 72,
   "id": "05315ced-8737-4e71-bf5e-297959a305fb",
   "metadata": {
    "execution": {
     "iopub.execute_input": "2023-04-17T16:00:38.215443Z",
     "iopub.status.busy": "2023-04-17T16:00:38.215265Z",
     "iopub.status.idle": "2023-04-17T16:00:44.633958Z",
     "shell.execute_reply": "2023-04-17T16:00:44.633375Z",
     "shell.execute_reply.started": "2023-04-17T16:00:38.215427Z"
    },
    "tags": []
   },
   "outputs": [
    {
     "name": "stderr",
     "output_type": "stream",
     "text": [
      "                                                                                                                                                   \r"
     ]
    }
   ],
   "source": [
    "unionDataFramePromedioScored.write.format(\"parquet\").mode('overwrite').save('unionDataFramePromedioScored')\n"
   ]
  },
  {
   "cell_type": "code",
   "execution_count": 73,
   "id": "98398465-3262-4cf7-af99-fccce435d581",
   "metadata": {
    "execution": {
     "iopub.execute_input": "2023-04-17T16:00:44.634988Z",
     "iopub.status.busy": "2023-04-17T16:00:44.634758Z",
     "iopub.status.idle": "2023-04-17T16:00:49.235305Z",
     "shell.execute_reply": "2023-04-17T16:00:49.234663Z",
     "shell.execute_reply.started": "2023-04-17T16:00:44.634970Z"
    },
    "tags": []
   },
   "outputs": [
    {
     "name": "stderr",
     "output_type": "stream",
     "text": [
      "                                                                                                                                                   \r"
     ]
    },
    {
     "data": {
      "text/plain": [
       "22998"
      ]
     },
     "execution_count": 73,
     "metadata": {},
     "output_type": "execute_result"
    }
   ],
   "source": [
    "unionDataFramePromedioScored.count()"
   ]
  },
  {
   "cell_type": "code",
   "execution_count": null,
   "id": "17d1dd62-a1c5-4f80-a2b0-309c327b2755",
   "metadata": {},
   "outputs": [],
   "source": []
  },
  {
   "cell_type": "code",
   "execution_count": 74,
   "id": "6e795562-5aea-451b-a6d0-b645123bb894",
   "metadata": {
    "execution": {
     "iopub.execute_input": "2023-04-17T16:00:49.236141Z",
     "iopub.status.busy": "2023-04-17T16:00:49.235974Z",
     "iopub.status.idle": "2023-04-17T16:00:49.580167Z",
     "shell.execute_reply": "2023-04-17T16:00:49.579569Z",
     "shell.execute_reply.started": "2023-04-17T16:00:49.236124Z"
    },
    "tags": []
   },
   "outputs": [],
   "source": [
    "import pandas as pd\n",
    "pathUno = 'dfRatingsParquet'\n",
    "pathDos = 'dfTitlesFinal'\n",
    "dataFrameSistemaDeRecomendacion = spark.read.parquet(pathUno)\n",
    "dataFrameTitlesFinal = spark.read.parquet(pathDos)"
   ]
  },
  {
   "cell_type": "code",
   "execution_count": 75,
   "id": "39489640-2d76-471b-b80a-59b0dab5a076",
   "metadata": {
    "execution": {
     "iopub.execute_input": "2023-04-17T16:00:49.581190Z",
     "iopub.status.busy": "2023-04-17T16:00:49.581011Z",
     "iopub.status.idle": "2023-04-17T16:00:49.586489Z",
     "shell.execute_reply": "2023-04-17T16:00:49.585837Z",
     "shell.execute_reply.started": "2023-04-17T16:00:49.581173Z"
    },
    "jupyter": {
     "source_hidden": true
    },
    "tags": []
   },
   "outputs": [
    {
     "data": {
      "text/plain": [
       "DataFrame[userid: string, scored: float, timestamp: string, movieid: string]"
      ]
     },
     "execution_count": 75,
     "metadata": {},
     "output_type": "execute_result"
    }
   ],
   "source": [
    "dataFrameSistemaDeRecomendacion"
   ]
  },
  {
   "cell_type": "code",
   "execution_count": 76,
   "id": "9df8f30f-ec14-4b03-8bc9-c45ccf849db5",
   "metadata": {
    "execution": {
     "iopub.execute_input": "2023-04-17T16:00:49.587702Z",
     "iopub.status.busy": "2023-04-17T16:00:49.587434Z",
     "iopub.status.idle": "2023-04-17T16:00:49.594263Z",
     "shell.execute_reply": "2023-04-17T16:00:49.593506Z",
     "shell.execute_reply.started": "2023-04-17T16:00:49.587676Z"
    },
    "tags": []
   },
   "outputs": [
    {
     "data": {
      "text/plain": [
       "DataFrame[show_id: string, type: string, title: string, director: string, cast: string, country: string, date_added: date, release_year: int, rating: string, duration: string, listed_in: string, description: string, platform: string, id: string, duration_int: int, duration_type: string]"
      ]
     },
     "execution_count": 76,
     "metadata": {},
     "output_type": "execute_result"
    }
   ],
   "source": [
    "dataFrameTitlesFinal"
   ]
  },
  {
   "cell_type": "code",
   "execution_count": 77,
   "id": "72a9d88a-07ad-450a-bea8-bd3f99fe4f2c",
   "metadata": {
    "execution": {
     "iopub.execute_input": "2023-04-17T16:00:49.595681Z",
     "iopub.status.busy": "2023-04-17T16:00:49.595387Z",
     "iopub.status.idle": "2023-04-17T16:00:49.606944Z",
     "shell.execute_reply": "2023-04-17T16:00:49.606288Z",
     "shell.execute_reply.started": "2023-04-17T16:00:49.595659Z"
    },
    "jupyter": {
     "source_hidden": true
    },
    "tags": []
   },
   "outputs": [],
   "source": [
    "dataframe__ = dataFrameTitlesFinal.join(dataFrameSistemaDeRecomendacion, dataFrameTitlesFinal.id == dataFrameSistemaDeRecomendacion.movieid, how='inner')\n",
    "\n",
    "\n",
    "\n"
   ]
  },
  {
   "cell_type": "code",
   "execution_count": 78,
   "id": "43dceb04-1ebd-46aa-87b3-7fb2ed06fdc6",
   "metadata": {
    "execution": {
     "iopub.execute_input": "2023-04-17T16:00:49.607833Z",
     "iopub.status.busy": "2023-04-17T16:00:49.607659Z",
     "iopub.status.idle": "2023-04-17T16:00:50.249223Z",
     "shell.execute_reply": "2023-04-17T16:00:50.248602Z",
     "shell.execute_reply.started": "2023-04-17T16:00:49.607816Z"
    },
    "tags": []
   },
   "outputs": [
    {
     "name": "stdout",
     "output_type": "stream",
     "text": [
      "+-------+-------+--------------------+--------------------+--------------------+--------------------+----------+------------+------+----------+--------------------+--------------------+--------+------+------------+-------------+------+------+----------+-------+\n",
      "|show_id|   type|               title|            director|                cast|             country|date_added|release_year|rating|  duration|           listed_in|         description|platform|    id|duration_int|duration_type|userid|scored| timestamp|movieid|\n",
      "+-------+-------+--------------------+--------------------+--------------------+--------------------+----------+------------+------+----------+--------------------+--------------------+--------+------+------------+-------------+------+------+----------+-------+\n",
      "|   s680|tv show|the english civil...|                    |       robert whelan|                    |      null|        2019|   13+|  1 season|documentary, spec...|a nation divided....|  amazon| as680|           1|       season|     1|   1.0|1425941529|  as680|\n",
      "|  s2186|  movie|latte and the mag...|regina welker, ni...|ashley bornancin,...|             germany|2020-07-31|        2020|  tv-y|    83 min|children & family...|when a greedy bea...| netflix|ns2186|          83|          min|     1|   4.5|1425942435| ns2186|\n",
      "|  s2381|tv show|   la diosa coronada|                    |                    |            colombia|2018-10-05|        2010| tv-14|  1 season|crime, drama, latino|la diosa coronada...|    hulu|hs2381|           1|       season|     1|   5.0|1425941523| hs2381|\n",
      "|  s3663|  movie|frankenstein’s mo...| daniel gray longino|david harbour, al...|       united states|2019-07-16|        2019| tv-14|    32 min|            comedies|when actor david ...| netflix|ns3663|          32|          min|     1|   5.0|1425941546| ns3663|\n",
      "|  s9500|  movie|          kept woman|     michel poulette|courtney ford, sh...|                    |      null|        2015| pg-13|    90 min|     drama, suspense|jessica and her f...|  amazon|as9500|          90|          min|     1|   5.0|1425941556| as9500|\n",
      "|  s3004|tv show|         bookaboo uk|                    |                    |                    |      null|        2009| tv-nr|  1 season|                kids|bookaboo is a wor...|  amazon|as3004|           1|       season|     1|   4.0|1425942148| as3004|\n",
      "|  s8282|  movie|        the drowning|        bette gordon|josh charles, jul...|united states, ho...|2017-09-01|        2016| tv-ma|    99 min|           thrillers|child psychologis...| netflix|ns8282|          99|          min|     1|   4.5|1425941300| ns8282|\n",
      "|  s6112|  movie|              salome|        carlos saura|alda gomez, paco ...|                    |      null|        2002| pg-13|    82 min|       international|a director prepar...|  amazon|as6112|          82|          min|     1|   5.0|1425941593| as6112|\n",
      "|   s327|  movie|       chaos walking|                    |                    |                    |2021-08-27|        2021| pg-13|   109 min|adventure, scienc...|in this futuristi...|    hulu| hs327|         109|          min|     1|   4.0|1425941601|  hs327|\n",
      "|  s1358|  movie|               rocks|        sarah gavron|bukky bakray, kos...|      united kingdom|2021-02-01|        2019| tv-ma|    93 min|              dramas|following her mot...| netflix|ns1358|          93|          min|     1|   4.0|1425942228| ns1358|\n",
      "|  s7360|tv show|          lucky days|                    |chris wang, tammy...|               china|2016-09-01|        2010| tv-pg|  1 season|international tv ...|when laidback ren...| netflix|ns7360|           1|       season|     1|   5.0|1425941434| ns7360|\n",
      "|  s3980|tv show|charlie's colorfo...|                    |jacob soley, saar...|       united states|2019-03-22|        2019|  tv-y|  1 season|            kids' tv|charlie creates f...| netflix|ns3980|           1|       season|     1|   5.0|1425941397| ns3980|\n",
      "|   s128|  movie|  a cinderella story|         mark rosman|hilary duff, chad...|united states, ca...|2021-09-01|        2004|    pg|    95 min|children & family...|teen sam meets th...| netflix| ns128|          95|          min|     1|   4.0|1425942005|  ns128|\n",
      "|  s3830|  movie|       malibu rescue|savage steve holland|ricardo hurtado, ...|       united states|2019-05-13|        2019|  tv-g|    70 min|children & family...|when a long list ...| netflix|ns3830|          70|          min|     1|   3.5|1425941313| ns3830|\n",
      "|  s5517|  movie|cannibal women in...|         j.f. lawton|shannon tweed, bi...|                    |      null|        1989| pg-13|    89 min|      action, comedy|the u.s. governme...|  amazon|as5517|          89|          min|     1|   4.0|1425942007| as5517|\n",
      "|  s1577|tv show|           mr. robot|                    |rami malek, chris...|                    |      null|        2019| tv-ma| 4 seasons|            tv shows|\"\"\"mr. robot\"\" fo...|  amazon|as1577|           4|      seasons|     1|   5.0|1425941502| as1577|\n",
      "|  s2056|tv show|biography: the tr...|                    |                    |       united states|2019-10-01|        2019| tv-14|  1 season|       documentaries|\"\"\"biography: the...|    hulu|hs2056|           1|       season|     1|   5.0|1425941464| hs2056|\n",
      "|  s5413|tv show|      criminal minds|                    |mandy patinkin, j...|united states, ca...|2017-06-30|        2017| tv-14|12 seasons|crime tv shows, t...|this intense poli...| netflix|ns5413|          12|      seasons|     1|   5.0|1425942139| ns5413|\n",
      "|  s6909|  movie|        mexican moon|         chris zuhdi|paul t. tailor, m...|                    |      null|        2021|   16+|   101 min|      drama, western|the drug cartels ...|  amazon|as6909|         101|          min|     1|   5.0|1425942699| as6909|\n",
      "|  s4340|  movie|    bright hill road|      robert cuffley|siobhan williams,...|                    |      null|        2021|   16+|    92 min|drama, horror, su...|in the aftermath ...|  amazon|as4340|          92|          min|     1|   5.0|1425942133| as4340|\n",
      "+-------+-------+--------------------+--------------------+--------------------+--------------------+----------+------------+------+----------+--------------------+--------------------+--------+------+------------+-------------+------+------+----------+-------+\n",
      "only showing top 20 rows\n",
      "\n"
     ]
    }
   ],
   "source": [
    "\n",
    "dataframe__.show()"
   ]
  },
  {
   "cell_type": "code",
   "execution_count": 79,
   "id": "12264c5b-8bb7-411b-b2fe-59ac0893f89d",
   "metadata": {
    "execution": {
     "iopub.execute_input": "2023-04-17T16:00:50.250095Z",
     "iopub.status.busy": "2023-04-17T16:00:50.249886Z",
     "iopub.status.idle": "2023-04-17T16:00:51.897221Z",
     "shell.execute_reply": "2023-04-17T16:00:51.896517Z",
     "shell.execute_reply.started": "2023-04-17T16:00:50.250078Z"
    },
    "tags": []
   },
   "outputs": [
    {
     "name": "stderr",
     "output_type": "stream",
     "text": [
      "                                                                                                                                                   \r"
     ]
    },
    {
     "data": {
      "text/plain": [
       "11024289"
      ]
     },
     "execution_count": 79,
     "metadata": {},
     "output_type": "execute_result"
    }
   ],
   "source": [
    "dataframe__.count()"
   ]
  },
  {
   "cell_type": "code",
   "execution_count": 80,
   "id": "08f27587-4304-49e2-91b0-85b101cbe568",
   "metadata": {
    "execution": {
     "iopub.execute_input": "2023-04-17T16:00:51.898334Z",
     "iopub.status.busy": "2023-04-17T16:00:51.898099Z",
     "iopub.status.idle": "2023-04-17T16:00:52.084046Z",
     "shell.execute_reply": "2023-04-17T16:00:52.083178Z",
     "shell.execute_reply.started": "2023-04-17T16:00:51.898312Z"
    },
    "tags": []
   },
   "outputs": [
    {
     "ename": "NameError",
     "evalue": "name 'dataFrameSistemaDeRecomendacionReducido' is not defined",
     "output_type": "error",
     "traceback": [
      "\u001b[0;31m---------------------------------------------------------------------------\u001b[0m",
      "\u001b[0;31mNameError\u001b[0m                                 Traceback (most recent call last)",
      "Cell \u001b[0;32mIn[80], line 3\u001b[0m\n\u001b[1;32m      1\u001b[0m \u001b[38;5;28;01mfrom\u001b[39;00m \u001b[38;5;21;01mpyspark\u001b[39;00m\u001b[38;5;21;01m.\u001b[39;00m\u001b[38;5;21;01msql\u001b[39;00m\u001b[38;5;21;01m.\u001b[39;00m\u001b[38;5;21;01mfunctions\u001b[39;00m \u001b[38;5;28;01mimport\u001b[39;00m avg\n\u001b[0;32m----> 3\u001b[0m dataFrame \u001b[38;5;241m=\u001b[39m \u001b[43mdataFrameSistemaDeRecomendacionReducido\u001b[49m\u001b[38;5;241m.\u001b[39mgroupBy(\u001b[38;5;124m'\u001b[39m\u001b[38;5;124mmovieid\u001b[39m\u001b[38;5;124m'\u001b[39m)\u001b[38;5;241m.\u001b[39magg(avg(\u001b[38;5;124m'\u001b[39m\u001b[38;5;124mscored\u001b[39m\u001b[38;5;124m'\u001b[39m)\u001b[38;5;241m.\u001b[39malias(\u001b[38;5;124m'\u001b[39m\u001b[38;5;124mpromedioScored\u001b[39m\u001b[38;5;124m'\u001b[39m))\n",
      "\u001b[0;31mNameError\u001b[0m: name 'dataFrameSistemaDeRecomendacionReducido' is not defined"
     ]
    }
   ],
   "source": [
    "from pyspark.sql.functions import avg\n",
    "\n",
    "dataFrame = dataFrameSistemaDeRecomendacionReducido.groupBy('movieid').agg(avg('scored').alias('promedioScored'))"
   ]
  },
  {
   "cell_type": "code",
   "execution_count": null,
   "id": "a78854be-6576-43bc-a979-07425b52cc66",
   "metadata": {
    "execution": {
     "iopub.status.busy": "2023-04-17T16:00:52.084770Z",
     "iopub.status.idle": "2023-04-17T16:00:52.085090Z",
     "shell.execute_reply": "2023-04-17T16:00:52.084934Z",
     "shell.execute_reply.started": "2023-04-17T16:00:52.084918Z"
    },
    "tags": []
   },
   "outputs": [],
   "source": [
    "import pandas as pd\n",
    "dd = dataframe__.toPandas()"
   ]
  },
  {
   "cell_type": "code",
   "execution_count": 83,
   "id": "eb2a6f6a-7d8e-46dc-8256-d68a3e90ce82",
   "metadata": {
    "execution": {
     "iopub.execute_input": "2023-04-17T16:02:08.905766Z",
     "iopub.status.busy": "2023-04-17T16:02:08.905518Z",
     "iopub.status.idle": "2023-04-17T16:02:08.910606Z",
     "shell.execute_reply": "2023-04-17T16:02:08.910017Z",
     "shell.execute_reply.started": "2023-04-17T16:02:08.905737Z"
    },
    "tags": []
   },
   "outputs": [
    {
     "data": {
      "text/plain": [
       "['userid', 'scored', 'timestamp', 'movieid']"
      ]
     },
     "execution_count": 83,
     "metadata": {},
     "output_type": "execute_result"
    }
   ],
   "source": [
    "dataFrameSistemaDeRecomendacion.columns"
   ]
  },
  {
   "cell_type": "code",
   "execution_count": 84,
   "id": "cbef6d9d-1042-4424-b50e-dd8097a8b9fe",
   "metadata": {
    "execution": {
     "iopub.execute_input": "2023-04-17T16:02:09.135249Z",
     "iopub.status.busy": "2023-04-17T16:02:09.135005Z",
     "iopub.status.idle": "2023-04-17T16:02:10.394989Z",
     "shell.execute_reply": "2023-04-17T16:02:10.394330Z",
     "shell.execute_reply.started": "2023-04-17T16:02:09.135233Z"
    },
    "tags": []
   },
   "outputs": [
    {
     "name": "stderr",
     "output_type": "stream",
     "text": [
      "                                                                                                                                                   \r"
     ]
    },
    {
     "data": {
      "text/plain": [
       "115077"
      ]
     },
     "execution_count": 84,
     "metadata": {},
     "output_type": "execute_result"
    }
   ],
   "source": [
    "# cantidad de usuarios\n",
    "\n",
    "dataFrameSistemaDeRecomendacion.select(col('userid')).distinct().count()"
   ]
  },
  {
   "cell_type": "code",
   "execution_count": 85,
   "id": "90f8d12f-03e7-4a87-b72b-9ea562156f42",
   "metadata": {
    "execution": {
     "iopub.execute_input": "2023-04-17T16:02:10.396697Z",
     "iopub.status.busy": "2023-04-17T16:02:10.396262Z",
     "iopub.status.idle": "2023-04-17T16:02:11.972240Z",
     "shell.execute_reply": "2023-04-17T16:02:11.971668Z",
     "shell.execute_reply.started": "2023-04-17T16:02:10.396672Z"
    },
    "tags": []
   },
   "outputs": [
    {
     "name": "stderr",
     "output_type": "stream",
     "text": [
      "                                                                                                                                                   \r"
     ]
    },
    {
     "data": {
      "text/plain": [
       "22998"
      ]
     },
     "execution_count": 85,
     "metadata": {},
     "output_type": "execute_result"
    }
   ],
   "source": [
    "# cantidad de peliculas y series\n",
    "\n",
    "dataFrameSistemaDeRecomendacion.select(col('movieid')).distinct().count()"
   ]
  },
  {
   "cell_type": "code",
   "execution_count": 86,
   "id": "b65cfb0f-08ce-4bd9-a676-51d21ec09296",
   "metadata": {
    "execution": {
     "iopub.execute_input": "2023-04-17T16:02:11.973044Z",
     "iopub.status.busy": "2023-04-17T16:02:11.972885Z",
     "iopub.status.idle": "2023-04-17T16:02:11.977104Z",
     "shell.execute_reply": "2023-04-17T16:02:11.976486Z",
     "shell.execute_reply.started": "2023-04-17T16:02:11.973029Z"
    },
    "jupyter": {
     "source_hidden": true
    },
    "tags": []
   },
   "outputs": [
    {
     "data": {
      "text/plain": [
       "['userid', 'scored', 'timestamp', 'movieid']"
      ]
     },
     "execution_count": 86,
     "metadata": {},
     "output_type": "execute_result"
    }
   ],
   "source": [
    "dataFrameSistemaDeRecomendacion.columns"
   ]
  },
  {
   "cell_type": "code",
   "execution_count": 87,
   "id": "de479593-487f-4d7e-a742-d1b1537cf68e",
   "metadata": {
    "execution": {
     "iopub.execute_input": "2023-04-17T16:02:11.978247Z",
     "iopub.status.busy": "2023-04-17T16:02:11.978074Z",
     "iopub.status.idle": "2023-04-17T16:02:11.991453Z",
     "shell.execute_reply": "2023-04-17T16:02:11.990907Z",
     "shell.execute_reply.started": "2023-04-17T16:02:11.978231Z"
    },
    "tags": []
   },
   "outputs": [],
   "source": [
    "# agrupar por movieid y obtener frecuecia\n",
    "\n",
    "from pyspark.sql.functions import count\n",
    "from pyspark.sql.functions import max\n",
    "\n",
    "cantidadVistasMovieId = dataFrameSistemaDeRecomendacion.groupBy(\"movieid\").agg(count(\"*\").alias(\"cantidad\"))\n"
   ]
  },
  {
   "cell_type": "code",
   "execution_count": 88,
   "id": "e61ac5df-b8c2-4194-a442-c3f4e5360801",
   "metadata": {
    "execution": {
     "iopub.execute_input": "2023-04-17T16:02:12.974474Z",
     "iopub.status.busy": "2023-04-17T16:02:12.974277Z",
     "iopub.status.idle": "2023-04-17T16:02:14.693747Z",
     "shell.execute_reply": "2023-04-17T16:02:14.693143Z",
     "shell.execute_reply.started": "2023-04-17T16:02:12.974457Z"
    },
    "tags": []
   },
   "outputs": [
    {
     "name": "stderr",
     "output_type": "stream",
     "text": [
      "                                                                                                                                                   \r"
     ]
    }
   ],
   "source": [
    "# calcular rango intercuatilico\n",
    "\n",
    "from pyspark.sql.functions import col, expr\n",
    "from pyspark.sql.window import Window\n",
    "\n",
    "primerCuartil, tercerCuartil = cantidadVistasMovieId.approxQuantile('cantidad', [0.25, 0.75], 0.01)\n",
    "rangoIntercuartilico = tercerCuartil - primerCuartil"
   ]
  },
  {
   "cell_type": "code",
   "execution_count": 89,
   "id": "3b2fe3e6-0579-4e2c-810d-a80ebf0f7b9c",
   "metadata": {
    "execution": {
     "iopub.execute_input": "2023-04-17T16:02:14.694807Z",
     "iopub.status.busy": "2023-04-17T16:02:14.694639Z",
     "iopub.status.idle": "2023-04-17T16:02:14.698308Z",
     "shell.execute_reply": "2023-04-17T16:02:14.697647Z",
     "shell.execute_reply.started": "2023-04-17T16:02:14.694791Z"
    },
    "tags": []
   },
   "outputs": [
    {
     "name": "stdout",
     "output_type": "stream",
     "text": [
      "Primer Caurtil 464.0 Tercer Cuartil 494.0\n"
     ]
    }
   ],
   "source": [
    "print('Primer Caurtil', primerCuartil , 'Tercer Cuartil',tercerCuartil)"
   ]
  },
  {
   "cell_type": "code",
   "execution_count": 90,
   "id": "fca0b39b-2304-458b-898b-258ab030232a",
   "metadata": {
    "execution": {
     "iopub.execute_input": "2023-04-17T16:02:14.699152Z",
     "iopub.status.busy": "2023-04-17T16:02:14.698986Z",
     "iopub.status.idle": "2023-04-17T16:02:14.703519Z",
     "shell.execute_reply": "2023-04-17T16:02:14.702877Z",
     "shell.execute_reply.started": "2023-04-17T16:02:14.699136Z"
    },
    "tags": []
   },
   "outputs": [
    {
     "data": {
      "text/plain": [
       "464.0"
      ]
     },
     "execution_count": 90,
     "metadata": {},
     "output_type": "execute_result"
    }
   ],
   "source": [
    "primerCuartil"
   ]
  },
  {
   "cell_type": "code",
   "execution_count": 91,
   "id": "bdec4b10-2436-4f22-ad22-098288ef617f",
   "metadata": {
    "execution": {
     "iopub.execute_input": "2023-04-17T16:02:15.030332Z",
     "iopub.status.busy": "2023-04-17T16:02:15.030088Z",
     "iopub.status.idle": "2023-04-17T16:02:15.033182Z",
     "shell.execute_reply": "2023-04-17T16:02:15.032559Z",
     "shell.execute_reply.started": "2023-04-17T16:02:15.030315Z"
    },
    "tags": []
   },
   "outputs": [],
   "source": [
    "limiteInferior = primerCuartil - 1.5 * rangoIntercuartilico\n",
    "limiteSuperior = tercerCuartil + 1.5 * rangoIntercuartilico"
   ]
  },
  {
   "cell_type": "code",
   "execution_count": 92,
   "id": "a1a92178-dab0-48a6-bced-8fe17ca514e0",
   "metadata": {
    "execution": {
     "iopub.execute_input": "2023-04-17T16:02:15.703257Z",
     "iopub.status.busy": "2023-04-17T16:02:15.702985Z",
     "iopub.status.idle": "2023-04-17T16:02:17.302878Z",
     "shell.execute_reply": "2023-04-17T16:02:17.302265Z",
     "shell.execute_reply.started": "2023-04-17T16:02:15.703242Z"
    },
    "tags": []
   },
   "outputs": [
    {
     "name": "stderr",
     "output_type": "stream",
     "text": [
      "                                                                                                                                                   \r"
     ]
    },
    {
     "data": {
      "text/plain": [
       "134"
      ]
     },
     "execution_count": 92,
     "metadata": {},
     "output_type": "execute_result"
    }
   ],
   "source": [
    "# calcular cantidad de valores atipicos\n",
    "\n",
    "valoresAtipicos = cantidadVistasMovieId.filter(expr(\"cantidad > {0} or cantidad < {1}\".format(limiteSuperior, limiteInferior)))\n",
    "valoresAtipicos.count()"
   ]
  },
  {
   "cell_type": "code",
   "execution_count": 93,
   "id": "97cd832c-656c-4651-a0f2-44d39f1c914e",
   "metadata": {
    "execution": {
     "iopub.execute_input": "2023-04-17T16:02:17.304234Z",
     "iopub.status.busy": "2023-04-17T16:02:17.304011Z",
     "iopub.status.idle": "2023-04-17T16:02:17.308251Z",
     "shell.execute_reply": "2023-04-17T16:02:17.307698Z",
     "shell.execute_reply.started": "2023-04-17T16:02:17.304210Z"
    },
    "tags": []
   },
   "outputs": [
    {
     "data": {
      "text/plain": [
       "419.0"
      ]
     },
     "execution_count": 93,
     "metadata": {},
     "output_type": "execute_result"
    }
   ],
   "source": [
    "# movieid a eliminar con frecuencias inferiores a 419\n",
    "\n",
    "limiteInferior"
   ]
  },
  {
   "cell_type": "code",
   "execution_count": 94,
   "id": "b34ad33e-5efe-4189-84dc-76d18aca2ac3",
   "metadata": {
    "execution": {
     "iopub.execute_input": "2023-04-17T16:02:18.337767Z",
     "iopub.status.busy": "2023-04-17T16:02:18.337576Z",
     "iopub.status.idle": "2023-04-17T16:02:19.872936Z",
     "shell.execute_reply": "2023-04-17T16:02:19.872294Z",
     "shell.execute_reply.started": "2023-04-17T16:02:18.337751Z"
    },
    "tags": []
   },
   "outputs": [
    {
     "name": "stderr",
     "output_type": "stream",
     "text": [
      "[Stage 154:===============================================================================================================>          (11 + 1) / 12]\r"
     ]
    },
    {
     "name": "stdout",
     "output_type": "stream",
     "text": [
      "Cantidad de valores atipicos mas bajos al limite inferior: 52\n"
     ]
    },
    {
     "name": "stderr",
     "output_type": "stream",
     "text": [
      "                                                                                                                                                   \r"
     ]
    }
   ],
   "source": [
    "# cantidad de movieid inferiores al limite inferior\n",
    "\n",
    "valoresAtipicosDescartar = cantidadVistasMovieId.filter(expr(\"cantidad < {0}\".format(limiteInferior)))\n",
    "print('Cantidad de valores atipicos mas bajos al limite inferior:',valoresAtipicosDescartar.count())"
   ]
  },
  {
   "cell_type": "code",
   "execution_count": 95,
   "id": "9c94a64e-a766-46e9-941e-ebdacd58d03a",
   "metadata": {
    "execution": {
     "iopub.execute_input": "2023-04-17T16:02:19.874188Z",
     "iopub.status.busy": "2023-04-17T16:02:19.874019Z",
     "iopub.status.idle": "2023-04-17T16:02:19.904967Z",
     "shell.execute_reply": "2023-04-17T16:02:19.904329Z",
     "shell.execute_reply.started": "2023-04-17T16:02:19.874169Z"
    },
    "tags": []
   },
   "outputs": [],
   "source": [
    "# listar la frecuencia de movieid y eliminar movieid con una frecuencia menor a 419\n",
    "\n",
    "from pyspark.sql.functions import count\n",
    "\n",
    "frecuencia = dataFrameSistemaDeRecomendacion.groupBy(\"movieid\").agg(count(\"*\").alias(\"frequency\"))\n",
    "frecuencia = frecuencia.filter(\"frequency >= 419\")\n",
    "dataFrameSistemaDeRecomendacionReducido = dataFrameSistemaDeRecomendacion.join(frecuencia, \"movieid\", \"inner\").drop(\"frequency\")"
   ]
  },
  {
   "cell_type": "code",
   "execution_count": 96,
   "id": "4412a57f-20ca-42df-b72c-ff9f5bbde39d",
   "metadata": {
    "execution": {
     "iopub.execute_input": "2023-04-17T16:02:19.906102Z",
     "iopub.status.busy": "2023-04-17T16:02:19.905924Z",
     "iopub.status.idle": "2023-04-17T16:02:19.984197Z",
     "shell.execute_reply": "2023-04-17T16:02:19.983588Z",
     "shell.execute_reply.started": "2023-04-17T16:02:19.906086Z"
    },
    "tags": []
   },
   "outputs": [
    {
     "data": {
      "text/plain": [
       "11024289"
      ]
     },
     "execution_count": 96,
     "metadata": {},
     "output_type": "execute_result"
    }
   ],
   "source": [
    "# lineas dataFrameSistemaDeRecomendacion\n",
    "\n",
    "dataFrameSistemaDeRecomendacion.count()"
   ]
  },
  {
   "cell_type": "code",
   "execution_count": 97,
   "id": "202d9858-0a3b-463f-8424-27513dd01118",
   "metadata": {
    "execution": {
     "iopub.execute_input": "2023-04-17T16:02:20.651177Z",
     "iopub.status.busy": "2023-04-17T16:02:20.650920Z",
     "iopub.status.idle": "2023-04-17T16:02:26.426234Z",
     "shell.execute_reply": "2023-04-17T16:02:26.425556Z",
     "shell.execute_reply.started": "2023-04-17T16:02:20.651139Z"
    },
    "tags": []
   },
   "outputs": [
    {
     "name": "stderr",
     "output_type": "stream",
     "text": [
      "                                                                                                                                                   \r"
     ]
    },
    {
     "data": {
      "text/plain": [
       "11002887"
      ]
     },
     "execution_count": 97,
     "metadata": {},
     "output_type": "execute_result"
    }
   ],
   "source": [
    "# lineas dataFrameSistemaDeRecomendacionReducido\n",
    "\n",
    "dataFrameSistemaDeRecomendacionReducido.count()"
   ]
  },
  {
   "cell_type": "code",
   "execution_count": 98,
   "id": "f53ae42d-960f-42c1-a3de-61d15d156c4e",
   "metadata": {
    "execution": {
     "iopub.execute_input": "2023-04-17T16:02:26.427901Z",
     "iopub.status.busy": "2023-04-17T16:02:26.427508Z",
     "iopub.status.idle": "2023-04-17T16:02:26.437882Z",
     "shell.execute_reply": "2023-04-17T16:02:26.437291Z",
     "shell.execute_reply.started": "2023-04-17T16:02:26.427877Z"
    },
    "tags": []
   },
   "outputs": [],
   "source": [
    "# Agrupar por movieid y obtener el promedio de scored\n",
    "\n",
    "from pyspark.sql.functions import avg\n",
    "\n",
    "dataFrameSistemaDeRecomendacionFinal = dataFrameSistemaDeRecomendacionReducido.groupBy('movieid').agg(avg('scored').alias('promedioScored'))"
   ]
  },
  {
   "cell_type": "code",
   "execution_count": 99,
   "id": "53724122-2e0e-4134-82a6-13c9953fab2f",
   "metadata": {
    "execution": {
     "iopub.execute_input": "2023-04-17T16:02:26.438800Z",
     "iopub.status.busy": "2023-04-17T16:02:26.438547Z",
     "iopub.status.idle": "2023-04-17T16:02:30.694872Z",
     "shell.execute_reply": "2023-04-17T16:02:30.694276Z",
     "shell.execute_reply.started": "2023-04-17T16:02:26.438771Z"
    },
    "tags": []
   },
   "outputs": [
    {
     "name": "stderr",
     "output_type": "stream",
     "text": [
      "                                                                                                                                                   \r"
     ]
    },
    {
     "data": {
      "text/plain": [
       "22946"
      ]
     },
     "execution_count": 99,
     "metadata": {},
     "output_type": "execute_result"
    }
   ],
   "source": [
    "dataFrameSistemaDeRecomendacionFinal.count()"
   ]
  },
  {
   "cell_type": "code",
   "execution_count": null,
   "id": "5ea808b7-f3cc-47e2-ad54-5bf5842010c9",
   "metadata": {
    "tags": []
   },
   "outputs": [],
   "source": [
    "import matplotlib.pyplot as plt\n",
    "\n",
    "# extraer la columna 'rating' como una lista\n",
    "ratings = dataFrameSistemaDeRecomendacion.select('rating').rdd.flatMap(lambda x: x).collect()\n",
    "\n",
    "# mostrar el histograma de la columna\n",
    "plt.hist(ratings, bins=5)\n",
    "\n",
    "plt.title('Distribución de calificaciones')\n",
    "plt.show()"
   ]
  },
  {
   "cell_type": "code",
   "execution_count": 105,
   "id": "1c7d0391-5ccd-4897-bac9-bf4d08eda925",
   "metadata": {
    "execution": {
     "iopub.execute_input": "2023-04-17T16:16:08.726491Z",
     "iopub.status.busy": "2023-04-17T16:16:08.726222Z",
     "iopub.status.idle": "2023-04-17T16:16:08.731911Z",
     "shell.execute_reply": "2023-04-17T16:16:08.731159Z",
     "shell.execute_reply.started": "2023-04-17T16:16:08.726469Z"
    },
    "tags": []
   },
   "outputs": [
    {
     "data": {
      "text/plain": [
       "['movieid', 'promedioScored']"
      ]
     },
     "execution_count": 105,
     "metadata": {},
     "output_type": "execute_result"
    }
   ],
   "source": [
    "dataFrameSistemaDeRecomendacionFinal.columns\n"
   ]
  },
  {
   "cell_type": "code",
   "execution_count": 106,
   "id": "a470c319-c0a2-457a-a3ed-12035b7057cd",
   "metadata": {
    "execution": {
     "iopub.execute_input": "2023-04-17T16:16:39.720493Z",
     "iopub.status.busy": "2023-04-17T16:16:39.720255Z",
     "iopub.status.idle": "2023-04-17T16:16:43.305808Z",
     "shell.execute_reply": "2023-04-17T16:16:43.305265Z",
     "shell.execute_reply.started": "2023-04-17T16:16:39.720477Z"
    },
    "tags": []
   },
   "outputs": [
    {
     "name": "stderr",
     "output_type": "stream",
     "text": [
      "                                                                                                                                                   \r"
     ]
    }
   ],
   "source": [
    "dataFrameSistemaDeRecomendacionFinalPandas =dataFramePromedioScored.toPandas()"
   ]
  },
  {
   "cell_type": "code",
   "execution_count": 104,
   "id": "5488eeaf-c4e2-482d-a80d-cd0717f1ce0f",
   "metadata": {
    "execution": {
     "iopub.execute_input": "2023-04-17T16:07:54.682245Z",
     "iopub.status.busy": "2023-04-17T16:07:54.681694Z",
     "iopub.status.idle": "2023-04-17T16:07:54.691444Z",
     "shell.execute_reply": "2023-04-17T16:07:54.690429Z",
     "shell.execute_reply.started": "2023-04-17T16:07:54.682195Z"
    },
    "tags": []
   },
   "outputs": [
    {
     "data": {
      "text/plain": [
       "movieid             object\n",
       "promedio_scored    float64\n",
       "dtype: object"
      ]
     },
     "execution_count": 104,
     "metadata": {},
     "output_type": "execute_result"
    }
   ],
   "source": [
    "reducido.dtypes"
   ]
  },
  {
   "cell_type": "code",
   "execution_count": null,
   "id": "65e09f2c-406a-46d6-b4d6-4fe79555edd5",
   "metadata": {},
   "outputs": [],
   "source": []
  }
 ],
 "metadata": {
  "kernelspec": {
   "display_name": "Python 3 (ipykernel)",
   "language": "python",
   "name": "python3"
  },
  "language_info": {
   "codemirror_mode": {
    "name": "ipython",
    "version": 3
   },
   "file_extension": ".py",
   "mimetype": "text/x-python",
   "name": "python",
   "nbconvert_exporter": "python",
   "pygments_lexer": "ipython3",
   "version": "3.10.10"
  }
 },
 "nbformat": 4,
 "nbformat_minor": 5
}
